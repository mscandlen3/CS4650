{
  "cells": [
    {
      "cell_type": "markdown",
      "metadata": {
        "id": "view-in-github",
        "colab_type": "text"
      },
      "source": [
        "<a href=\"https://colab.research.google.com/github/mscandlen3/CS4650/blob/main/LanguageLearning.ipynb\" target=\"_parent\"><img src=\"https://colab.research.google.com/assets/colab-badge.svg\" alt=\"Open In Colab\"/></a>"
      ]
    },
    {
      "cell_type": "markdown",
      "metadata": {
        "id": "3YRkiFXMta2V"
      },
      "source": [
        "# NLP Analysis of Language Learning"
      ]
    },
    {
      "cell_type": "markdown",
      "metadata": {
        "id": "ueoaw1tCKFjv"
      },
      "source": [
        "*Madelyn Scandlen and Shivali Pandya*"
      ]
    },
    {
      "cell_type": "markdown",
      "metadata": {
        "id": "aAJZB0cTtiTh"
      },
      "source": [
        "This project seeks to perform text classification tasks on a Reddit data corpus and an Spanish learner essay corpus in order to see which language learners are the most successful."
      ]
    },
    {
      "cell_type": "markdown",
      "metadata": {
        "id": "ZiDyqZ1ttw23"
      },
      "source": [
        "There are two main features of the project. \n",
        "\n",
        "The first task is to perform supervised classification of Spanish learners into different levels of proficiency. \n",
        "\n",
        "The second task is to classify Spanish learners into motivation profiles and evaluate the relationship between the learners' motivation and their proficiency over time."
      ]
    },
    {
      "cell_type": "markdown",
      "metadata": {
        "id": "fLe6vDmrJ_71"
      },
      "source": [
        "## Set Up"
      ]
    },
    {
      "cell_type": "markdown",
      "source": [
        "### Importing Data from Google Cloud"
      ],
      "metadata": {
        "id": "hdUyih1_Svse"
      }
    },
    {
      "cell_type": "markdown",
      "metadata": {
        "id": "9w3ABQqKy-TS"
      },
      "source": [
        "This step is loading the JSON data from its location in Google Cloud Storage into this Colab notebook."
      ]
    },
    {
      "cell_type": "code",
      "execution_count": 1,
      "metadata": {
        "id": "IcZkpa-e-Fas"
      },
      "outputs": [],
      "source": [
        "from google.colab import auth\n",
        "auth.authenticate_user()"
      ]
    },
    {
      "cell_type": "code",
      "execution_count": 2,
      "metadata": {
        "colab": {
          "base_uri": "https://localhost:8080/"
        },
        "id": "JKt-Cz_O6VG7",
        "outputId": "d9ff3bb5-7537-4ca6-9b42-d79ed812e9dd"
      },
      "outputs": [
        {
          "output_type": "stream",
          "name": "stdout",
          "text": [
            "  % Total    % Received % Xferd  Average Speed   Time    Time     Time  Current\n",
            "                                 Dload  Upload   Total   Spent    Left  Speed\n",
            "\r  0     0    0     0    0     0      0      0 --:--:-- --:--:-- --:--:--     0\r100   443  100   443    0     0  13029      0 --:--:-- --:--:-- --:--:-- 13424\n",
            "Downloading Google Cloud SDK install script: https://dl.google.com/dl/cloudsdk/channels/rapid/install_google_cloud_sdk.bash\n",
            "\r######################################################################## 100.0%\n",
            "Running install script from: /tmp/tmp.YWR53CbOCd/install_google_cloud_sdk.bash\n",
            "which curl\n",
            "curl -# -f https://dl.google.com/dl/cloudsdk/channels/rapid/google-cloud-sdk.tar.gz\n",
            "######################################################################## 100.0%\n",
            "\n",
            "mkdir -p /root\n",
            "\"/root/google-cloud-sdk\" already exists and may contain out of date files.\n",
            "Remove /root/google-cloud-sdk or select a new installation directory, then run again.\n"
          ]
        }
      ],
      "source": [
        "!curl https://sdk.cloud.google.com | bash"
      ]
    },
    {
      "cell_type": "code",
      "execution_count": 3,
      "metadata": {
        "colab": {
          "base_uri": "https://localhost:8080/"
        },
        "id": "xW5PG0Cu-sPE",
        "outputId": "45db9f2e-7aaa-499e-ad81-d696dd9128ef"
      },
      "outputs": [
        {
          "output_type": "stream",
          "name": "stdout",
          "text": [
            "Welcome! This command will take you through the configuration of gcloud.\n",
            "\n",
            "Settings from your current configuration [default] are:\n",
            "component_manager:\n",
            "  disable_update_check: 'True'\n",
            "compute:\n",
            "  gce_metadata_read_timeout_sec: '0'\n",
            "core:\n",
            "  account: mscandlen12@gmail.com\n",
            "  project: optimal-bivouac-330014\n",
            "\n",
            "Pick configuration to use:\n",
            " [1] Re-initialize this configuration [default] with new settings \n",
            " [2] Create a new configuration\n",
            "Please enter your numeric choice:  1\n",
            "\n",
            "Your current configuration has been set to: [default]\n",
            "\n",
            "You can skip diagnostics next time by using the following flag:\n",
            "  gcloud init --skip-diagnostics\n",
            "\n",
            "Network diagnostic detects and fixes local network connection issues.\n",
            "Reachability Check passed.\n",
            "Network diagnostic passed (1/1 checks passed).\n",
            "\n",
            "Choose the account you would like to use to perform operations for this \n",
            "configuration:\n",
            " [1] mscandlen12@gmail.com\n",
            " [2] Log in with a new account\n",
            "Please enter your numeric choice:  1\n",
            "\n",
            "You are logged in as: [mscandlen12@gmail.com].\n",
            "\n",
            "Pick cloud project to use: \n",
            " [1] book-entertainment-pmlqwx\n",
            " [2] noble-nation-334716\n",
            " [3] optimal-bivouac-330014\n",
            " [4] spacetraderapp\n",
            " [5] suggest-recipe-rnunfb\n",
            " [6] the-weather-jlmknn\n",
            " [7] Create a new project\n",
            "Please enter numeric choice or text value (must exactly match list item):  3\n",
            "\n",
            "Your current project has been set to: [optimal-bivouac-330014].\n",
            "\n",
            "Not setting default zone/region (this feature makes it easier to use\n",
            "[gcloud compute] by setting an appropriate default value for the\n",
            "--zone and --region flag).\n",
            "See https://cloud.google.com/compute/docs/gcloud-compute section on how to set\n",
            "default compute region and zone manually. If you would like [gcloud init] to be\n",
            "able to do this for you the next time you run it, make sure the\n",
            "Compute Engine API is enabled for your project on the\n",
            "https://console.developers.google.com/apis page.\n",
            "\n",
            "Your Google Cloud SDK is configured and ready to use!\n",
            "\n",
            "* Commands that require authentication will use mscandlen12@gmail.com by default\n",
            "* Commands will reference project `optimal-bivouac-330014` by default\n",
            "Run `gcloud help config` to learn how to change individual settings\n",
            "\n",
            "This gcloud configuration is called [default]. You can create additional configurations if you work with multiple accounts and/or projects.\n",
            "Run `gcloud topic configurations` to learn more.\n",
            "\n",
            "Some things to try next:\n",
            "\n",
            "* Run `gcloud --help` to see the Cloud Platform services you can interact with. And run `gcloud help COMMAND` to get help on any gcloud command.\n",
            "* Run `gcloud topic --help` to learn about advanced features of the SDK like arg files and output formatting\n"
          ]
        }
      ],
      "source": [
        "!gcloud init\n",
        "# input 1, 1, optimal-bivouac-330014"
      ]
    },
    {
      "cell_type": "code",
      "execution_count": 4,
      "metadata": {
        "colab": {
          "base_uri": "https://localhost:8080/"
        },
        "id": "RDneuUrA_TYU",
        "outputId": "659f484c-e049-4efb-cf00-5cd4d390230f"
      },
      "outputs": [
        {
          "output_type": "stream",
          "name": "stdout",
          "text": [
            "Copying gs://language_learning_subreddit/2019_SUBREDDITS=learnspanish,spanish.gz...\n",
            "Copying gs://language_learning_subreddit/famous.F17.csv...\n",
            "Copying gs://language_learning_subreddit/reddit_tagged.csv...\n",
            "- [3 files][ 15.0 MiB/ 15.0 MiB]                                                \n",
            "Operation completed over 3 objects/15.0 MiB.                                     \n"
          ]
        }
      ],
      "source": [
        "!gsutil cp gs://language_learning_subreddit/2019_SUBREDDITS=learnspanish,spanish.gz gs://language_learning_subreddit/famous.F17.csv gs://language_learning_subreddit/reddit_tagged.csv ."
      ]
    },
    {
      "cell_type": "markdown",
      "metadata": {
        "id": "IPcGhabsRFJl"
      },
      "source": [
        "### Uploading Data to a DataFrame"
      ]
    },
    {
      "cell_type": "code",
      "source": [
        "import pandas as pd\n",
        "import os\n",
        "import csv\n",
        "import json\n",
        "import gzip\n",
        "\n",
        "import re\n",
        "import string"
      ],
      "metadata": {
        "id": "JtXEQ2JHR1hz"
      },
      "execution_count": 5,
      "outputs": []
    },
    {
      "cell_type": "markdown",
      "source": [
        "#### Essay Data"
      ],
      "metadata": {
        "id": "7APcy9WMR7HZ"
      }
    },
    {
      "cell_type": "markdown",
      "metadata": {
        "id": "xJixtnu0I13j"
      },
      "source": [
        "In this section, we will build a corpus of Spanish words and sentences that are used by non-native spanish writers (also called L2 speakers/writers). We will use the UC Davis Corpus of Written Spanish, L2 and Heritage Speakers (COWSL2H). This corpus contains essays on the following essay prompts that were given to spanish students at UC Davis: \"famous person\", \"your perfect vacation plan\", \"a special person in your life\", and \"a terrible story\"."
      ]
    },
    {
      "cell_type": "code",
      "source": [
        "df_essay = pd.read_csv('./famous.F17.csv', index_col=0)\n",
        "df_essay"
      ],
      "metadata": {
        "colab": {
          "base_uri": "https://localhost:8080/",
          "height": 1000
        },
        "id": "XaVO_qlXSB9l",
        "outputId": "65e6e3e4-e44a-44ed-baaa-0936567babf3"
      },
      "execution_count": 6,
      "outputs": [
        {
          "output_type": "execute_result",
          "data": {
            "text/html": [
              "<div>\n",
              "<style scoped>\n",
              "    .dataframe tbody tr th:only-of-type {\n",
              "        vertical-align: middle;\n",
              "    }\n",
              "\n",
              "    .dataframe tbody tr th {\n",
              "        vertical-align: top;\n",
              "    }\n",
              "\n",
              "    .dataframe thead th {\n",
              "        text-align: right;\n",
              "    }\n",
              "</style>\n",
              "<table border=\"1\" class=\"dataframe\">\n",
              "  <thead>\n",
              "    <tr style=\"text-align: right;\">\n",
              "      <th></th>\n",
              "      <th>id</th>\n",
              "      <th>prompt</th>\n",
              "      <th>quarter</th>\n",
              "      <th>course</th>\n",
              "      <th>age</th>\n",
              "      <th>gender</th>\n",
              "      <th>l1 language</th>\n",
              "      <th>other l1 language(s)</th>\n",
              "      <th>language(s) used at home</th>\n",
              "      <th>language(s) studied</th>\n",
              "      <th>listening comprehension</th>\n",
              "      <th>reading comprehension</th>\n",
              "      <th>speaking ability</th>\n",
              "      <th>writing ability</th>\n",
              "      <th>study abroad</th>\n",
              "      <th>essay</th>\n",
              "      <th>a personal annotator1</th>\n",
              "      <th>a personal annotator2</th>\n",
              "      <th>gender-number annotator1</th>\n",
              "      <th>gender-number annotator2</th>\n",
              "      <th>corrected</th>\n",
              "    </tr>\n",
              "  </thead>\n",
              "  <tbody>\n",
              "    <tr>\n",
              "      <th>0</th>\n",
              "      <td>146362</td>\n",
              "      <td>famous</td>\n",
              "      <td>F17</td>\n",
              "      <td>SPA 2</td>\n",
              "      <td>19</td>\n",
              "      <td>Female</td>\n",
              "      <td>English</td>\n",
              "      <td>NaN</td>\n",
              "      <td>NaN</td>\n",
              "      <td>NaN</td>\n",
              "      <td>3.0</td>\n",
              "      <td>3.0</td>\n",
              "      <td>1.0</td>\n",
              "      <td>1.0</td>\n",
              "      <td>No</td>\n",
              "      <td>Una persona famosa que admiro es Lauren Jaureg...</td>\n",
              "      <td>Una persona famosa que admiro es Lauren Jaureg...</td>\n",
              "      <td>Una persona famosa que admiro es Lauren Jaureg...</td>\n",
              "      <td>Una persona famosa que admiro es Lauren Jaureg...</td>\n",
              "      <td>Una persona famosa que admiro es Lauren Jaureg...</td>\n",
              "      <td>Una persona famosa que admiro es Lauren Jaureg...</td>\n",
              "    </tr>\n",
              "    <tr>\n",
              "      <th>1</th>\n",
              "      <td>104622</td>\n",
              "      <td>famous</td>\n",
              "      <td>F17</td>\n",
              "      <td>SPA 3</td>\n",
              "      <td>20</td>\n",
              "      <td>Female</td>\n",
              "      <td>English</td>\n",
              "      <td>Not Applicable</td>\n",
              "      <td>No</td>\n",
              "      <td>Not Applicable</td>\n",
              "      <td>2.0</td>\n",
              "      <td>3.0</td>\n",
              "      <td>3.0</td>\n",
              "      <td>3.0</td>\n",
              "      <td>No</td>\n",
              "      <td>Yo veo un programa de television que es muy di...</td>\n",
              "      <td>Yo veo un programa de television que es muy di...</td>\n",
              "      <td>Yo veo un programa de television que es muy di...</td>\n",
              "      <td>Yo veo un programa de television que es muy di...</td>\n",
              "      <td>Yo veo un programa de television que es muy di...</td>\n",
              "      <td>Yo veo un programa de televisión que es muy di...</td>\n",
              "    </tr>\n",
              "    <tr>\n",
              "      <th>2</th>\n",
              "      <td>169693</td>\n",
              "      <td>famous</td>\n",
              "      <td>F17</td>\n",
              "      <td>SPA 24</td>\n",
              "      <td>18 as of April 2017</td>\n",
              "      <td>Female</td>\n",
              "      <td>English</td>\n",
              "      <td>NaN</td>\n",
              "      <td>NaN</td>\n",
              "      <td>NaN</td>\n",
              "      <td>3.0</td>\n",
              "      <td>3.0</td>\n",
              "      <td>2.0</td>\n",
              "      <td>3.0</td>\n",
              "      <td>No</td>\n",
              "      <td>Antes de contarles de una persona famosa quien...</td>\n",
              "      <td>Antes de contarles de una persona famosa quien...</td>\n",
              "      <td>Antes de contarles de una persona famosa quien...</td>\n",
              "      <td>Antes de contarles de una persona famosa quien...</td>\n",
              "      <td>Antes de contarles de una persona famosa quien...</td>\n",
              "      <td>Antes de contarles sobre una persona famosa qu...</td>\n",
              "    </tr>\n",
              "    <tr>\n",
              "      <th>3</th>\n",
              "      <td>179355</td>\n",
              "      <td>famous</td>\n",
              "      <td>F17</td>\n",
              "      <td>SPA 1</td>\n",
              "      <td>20</td>\n",
              "      <td>Female</td>\n",
              "      <td>Other</td>\n",
              "      <td>Japanese</td>\n",
              "      <td>Japanese</td>\n",
              "      <td>English more than 10 years</td>\n",
              "      <td>2.0</td>\n",
              "      <td>3.0</td>\n",
              "      <td>1.0</td>\n",
              "      <td>2.0</td>\n",
              "      <td>No</td>\n",
              "      <td>Voy a prensentar una chica famosa en Japón. S...</td>\n",
              "      <td>Voy a prensentar una chica famosa en Japón. S...</td>\n",
              "      <td>Voy a prensentar []{a}&lt;az:do:an&gt; una chica fa...</td>\n",
              "      <td>Voy a prensentar una chica famosa en Japón. S...</td>\n",
              "      <td>Voy a prensentar una chica famosa en Japón. S...</td>\n",
              "      <td>Voy a presentar a una chica famosa en Japón. S...</td>\n",
              "    </tr>\n",
              "    <tr>\n",
              "      <th>4</th>\n",
              "      <td>148244</td>\n",
              "      <td>famous</td>\n",
              "      <td>F17</td>\n",
              "      <td>SPA 3</td>\n",
              "      <td>19</td>\n",
              "      <td>Male</td>\n",
              "      <td>Mandarin</td>\n",
              "      <td>NaN</td>\n",
              "      <td>I speak mandarin at home</td>\n",
              "      <td>English 12 years</td>\n",
              "      <td>3.0</td>\n",
              "      <td>4.0</td>\n",
              "      <td>4.0</td>\n",
              "      <td>5.0</td>\n",
              "      <td>No</td>\n",
              "      <td>Mi cantante favorita es Taylor Swift. Me gusta...</td>\n",
              "      <td>Mi cantante favorita es Taylor Swift. Me gusta...</td>\n",
              "      <td>Mi cantante favorita es Taylor Swift. Me gusta...</td>\n",
              "      <td>Mi cantante favorita es Taylor Swift. Me gusta...</td>\n",
              "      <td>Mi cantante favorita es Taylor Swift. Me gusta...</td>\n",
              "      <td>Mi cantante favorita es Taylor Swift. Me gusta...</td>\n",
              "    </tr>\n",
              "    <tr>\n",
              "      <th>...</th>\n",
              "      <td>...</td>\n",
              "      <td>...</td>\n",
              "      <td>...</td>\n",
              "      <td>...</td>\n",
              "      <td>...</td>\n",
              "      <td>...</td>\n",
              "      <td>...</td>\n",
              "      <td>...</td>\n",
              "      <td>...</td>\n",
              "      <td>...</td>\n",
              "      <td>...</td>\n",
              "      <td>...</td>\n",
              "      <td>...</td>\n",
              "      <td>...</td>\n",
              "      <td>...</td>\n",
              "      <td>...</td>\n",
              "      <td>...</td>\n",
              "      <td>...</td>\n",
              "      <td>...</td>\n",
              "      <td>...</td>\n",
              "      <td>...</td>\n",
              "    </tr>\n",
              "    <tr>\n",
              "      <th>170</th>\n",
              "      <td>140109</td>\n",
              "      <td>famous</td>\n",
              "      <td>F17</td>\n",
              "      <td>SPA 3</td>\n",
              "      <td>19</td>\n",
              "      <td>Male</td>\n",
              "      <td>English</td>\n",
              "      <td>NaN</td>\n",
              "      <td>no</td>\n",
              "      <td>no</td>\n",
              "      <td>3.0</td>\n",
              "      <td>4.0</td>\n",
              "      <td>3.0</td>\n",
              "      <td>4.0</td>\n",
              "      <td>Yes</td>\n",
              "      <td>Una persona Famoso: Nathan Fielder es una pers...</td>\n",
              "      <td>Una persona Famoso: Nathan Fielder es una pers...</td>\n",
              "      <td>Una persona Famoso: Nathan Fielder es una pers...</td>\n",
              "      <td>Una persona [Famoso]{famosa}&lt;ga:fm:adj:an&gt;: Na...</td>\n",
              "      <td>Una persona [Famoso]{famosa}&lt;ga:fm:adj:an&gt;: Na...</td>\n",
              "      <td>Una persona famosa: Nathan Fielder es una pers...</td>\n",
              "    </tr>\n",
              "    <tr>\n",
              "      <th>171</th>\n",
              "      <td>185606</td>\n",
              "      <td>famous</td>\n",
              "      <td>F17</td>\n",
              "      <td>SPA 23</td>\n",
              "      <td>23</td>\n",
              "      <td>Female</td>\n",
              "      <td>English</td>\n",
              "      <td>NaN</td>\n",
              "      <td>no</td>\n",
              "      <td>NaN</td>\n",
              "      <td>2.0</td>\n",
              "      <td>3.0</td>\n",
              "      <td>2.0</td>\n",
              "      <td>3.0</td>\n",
              "      <td>No</td>\n",
              "      <td>Una persona famosa quien yo pienso es muy asom...</td>\n",
              "      <td>Una persona famosa quien yo pienso es muy asom...</td>\n",
              "      <td>Una persona famosa quien yo pienso es muy asom...</td>\n",
              "      <td>Una persona famosa quien yo pienso es muy asom...</td>\n",
              "      <td>Una persona famosa quien yo pienso es muy asom...</td>\n",
              "      <td>Una persona famosa muy asombrosa es Helen Kell...</td>\n",
              "    </tr>\n",
              "    <tr>\n",
              "      <th>172</th>\n",
              "      <td>156764</td>\n",
              "      <td>famous</td>\n",
              "      <td>F17</td>\n",
              "      <td>SPA 24</td>\n",
              "      <td>19</td>\n",
              "      <td>Female</td>\n",
              "      <td>English</td>\n",
              "      <td>NaN</td>\n",
              "      <td>NaN</td>\n",
              "      <td>NaN</td>\n",
              "      <td>3.0</td>\n",
              "      <td>3.0</td>\n",
              "      <td>2.0</td>\n",
              "      <td>2.0</td>\n",
              "      <td>No</td>\n",
              "      <td>Selena Gomez: Persona famosa\\n\\nSelena Gomez e...</td>\n",
              "      <td>Selena Gomez: Persona famosa\\n\\nSelena Gomez e...</td>\n",
              "      <td>Selena Gomez: Persona famosa\\n\\nSelena Gomez e...</td>\n",
              "      <td>Selena Gomez: Persona famosa\\n\\nSelena Gomez e...</td>\n",
              "      <td>Selena Gomez: Persona famosa\\n\\nSelena Gomez e...</td>\n",
              "      <td>Selena Gomez: Persona famosa. Selena Gomez es ...</td>\n",
              "    </tr>\n",
              "    <tr>\n",
              "      <th>173</th>\n",
              "      <td>172630</td>\n",
              "      <td>famous</td>\n",
              "      <td>F17</td>\n",
              "      <td>SPA 1</td>\n",
              "      <td>18</td>\n",
              "      <td>Female</td>\n",
              "      <td>English</td>\n",
              "      <td>none...</td>\n",
              "      <td>Spanish.</td>\n",
              "      <td>none...</td>\n",
              "      <td>2.0</td>\n",
              "      <td>3.0</td>\n",
              "      <td>2.0</td>\n",
              "      <td>2.0</td>\n",
              "      <td>No</td>\n",
              "      <td>Una famosa persona que yo encanta es Sabrina C...</td>\n",
              "      <td>Una famosa persona que yo encanta es Sabrina C...</td>\n",
              "      <td>Una famosa persona que yo encanta es Sabrina C...</td>\n",
              "      <td>Una famosa persona que yo encanta es Sabrina C...</td>\n",
              "      <td>Una famosa persona que yo encanta es Sabrina C...</td>\n",
              "      <td>Una famosa persona que me encanta es Sabrina C...</td>\n",
              "    </tr>\n",
              "    <tr>\n",
              "      <th>174</th>\n",
              "      <td>144920</td>\n",
              "      <td>famous</td>\n",
              "      <td>F17</td>\n",
              "      <td>SPA 3</td>\n",
              "      <td>19</td>\n",
              "      <td>Male</td>\n",
              "      <td>English</td>\n",
              "      <td>NaN</td>\n",
              "      <td>NaN</td>\n",
              "      <td>NaN</td>\n",
              "      <td>2.0</td>\n",
              "      <td>2.0</td>\n",
              "      <td>3.0</td>\n",
              "      <td>3.0</td>\n",
              "      <td>No</td>\n",
              "      <td>Famoso Persona\\n\\n                Mi favorito ...</td>\n",
              "      <td>Famoso Persona\\n\\n                Mi favorito ...</td>\n",
              "      <td>Famoso Persona\\n\\n                Mi favorito ...</td>\n",
              "      <td>[Famoso]{famosa}&lt;ga:fm:adj:an&gt; Persona\\n\\n    ...</td>\n",
              "      <td>[Famoso]{famosa}&lt;ga:fm:adj:an&gt; Persona\\n\\n    ...</td>\n",
              "      <td>Persona famosa. Mi persona famosa favorita es ...</td>\n",
              "    </tr>\n",
              "  </tbody>\n",
              "</table>\n",
              "<p>175 rows × 21 columns</p>\n",
              "</div>"
            ],
            "text/plain": [
              "         id  ...                                          corrected\n",
              "0    146362  ...  Una persona famosa que admiro es Lauren Jaureg...\n",
              "1    104622  ...  Yo veo un programa de televisión que es muy di...\n",
              "2    169693  ...  Antes de contarles sobre una persona famosa qu...\n",
              "3    179355  ...  Voy a presentar a una chica famosa en Japón. S...\n",
              "4    148244  ...  Mi cantante favorita es Taylor Swift. Me gusta...\n",
              "..      ...  ...                                                ...\n",
              "170  140109  ...  Una persona famosa: Nathan Fielder es una pers...\n",
              "171  185606  ...  Una persona famosa muy asombrosa es Helen Kell...\n",
              "172  156764  ...  Selena Gomez: Persona famosa. Selena Gomez es ...\n",
              "173  172630  ...  Una famosa persona que me encanta es Sabrina C...\n",
              "174  144920  ...  Persona famosa. Mi persona famosa favorita es ...\n",
              "\n",
              "[175 rows x 21 columns]"
            ]
          },
          "metadata": {},
          "execution_count": 6
        }
      ]
    },
    {
      "cell_type": "markdown",
      "source": [
        "#### Reddit Data"
      ],
      "metadata": {
        "id": "y77szVu3SnPO"
      }
    },
    {
      "cell_type": "markdown",
      "metadata": {
        "id": "G03PoQXguOrG"
      },
      "source": [
        "The data was obtained from scraping different subreddits (r/Spanish, r/LearnSpanish) from the year 2019 and creating JSON units for each post, from [redditsearch.io](https://https://www.redditsearch.io/). Posts are both posts to the subreddit and comments. The JSONs include information such as author_tag, score (number of upvotes), and the text content of the post. \n",
        "\n",
        "To classify users, we will reorganize the JSONs to contain all posts for a user, retaining the score and the comments by other users. "
      ]
    },
    {
      "cell_type": "code",
      "execution_count": 7,
      "metadata": {
        "id": "xaR0ndvB_mDr"
      },
      "outputs": [],
      "source": [
        "subreddit_list = []\n",
        "\n",
        "with gzip.open('./2019_SUBREDDITS=learnspanish,spanish.gz') as f:\n",
        "  for obj in f:\n",
        "    post = json.loads(obj)\n",
        "    subreddit_list.append(post)"
      ]
    },
    {
      "cell_type": "code",
      "execution_count": 8,
      "metadata": {
        "colab": {
          "base_uri": "https://localhost:8080/",
          "height": 791
        },
        "id": "LjDlvsv99wLP",
        "outputId": "85e2e81c-ec0a-48ca-ec45-ae66bcf47cdb"
      },
      "outputs": [
        {
          "output_type": "execute_result",
          "data": {
            "text/html": [
              "<div>\n",
              "<style scoped>\n",
              "    .dataframe tbody tr th:only-of-type {\n",
              "        vertical-align: middle;\n",
              "    }\n",
              "\n",
              "    .dataframe tbody tr th {\n",
              "        vertical-align: top;\n",
              "    }\n",
              "\n",
              "    .dataframe thead th {\n",
              "        text-align: right;\n",
              "    }\n",
              "</style>\n",
              "<table border=\"1\" class=\"dataframe\">\n",
              "  <thead>\n",
              "    <tr style=\"text-align: right;\">\n",
              "      <th></th>\n",
              "      <th>author</th>\n",
              "      <th>author_created_utc</th>\n",
              "      <th>author_flair_background_color</th>\n",
              "      <th>author_flair_css_class</th>\n",
              "      <th>author_flair_richtext</th>\n",
              "      <th>author_flair_template_id</th>\n",
              "      <th>author_flair_text</th>\n",
              "      <th>author_flair_text_color</th>\n",
              "      <th>author_flair_type</th>\n",
              "      <th>author_fullname</th>\n",
              "      <th>author_patreon_flair</th>\n",
              "      <th>body</th>\n",
              "      <th>can_gild</th>\n",
              "      <th>can_mod_post</th>\n",
              "      <th>collapsed</th>\n",
              "      <th>collapsed_reason</th>\n",
              "      <th>controversiality</th>\n",
              "      <th>created_utc</th>\n",
              "      <th>distinguished</th>\n",
              "      <th>edited</th>\n",
              "      <th>gilded</th>\n",
              "      <th>gildings</th>\n",
              "      <th>id</th>\n",
              "      <th>is_submitter</th>\n",
              "      <th>link_id</th>\n",
              "      <th>no_follow</th>\n",
              "      <th>parent_id</th>\n",
              "      <th>permalink</th>\n",
              "      <th>removal_reason</th>\n",
              "      <th>retrieved_on</th>\n",
              "      <th>score</th>\n",
              "      <th>send_replies</th>\n",
              "      <th>stickied</th>\n",
              "      <th>subreddit</th>\n",
              "      <th>subreddit_id</th>\n",
              "      <th>subreddit_name_prefixed</th>\n",
              "      <th>subreddit_type</th>\n",
              "      <th>author_cakeday</th>\n",
              "      <th>quarantined</th>\n",
              "      <th>locked</th>\n",
              "      <th>all_awardings</th>\n",
              "      <th>total_awards_received</th>\n",
              "      <th>steward_reports</th>\n",
              "      <th>awarders</th>\n",
              "      <th>associated_award</th>\n",
              "      <th>collapsed_because_crowd_control</th>\n",
              "      <th>author_premium</th>\n",
              "    </tr>\n",
              "  </thead>\n",
              "  <tbody>\n",
              "    <tr>\n",
              "      <th>0</th>\n",
              "      <td>gloix</td>\n",
              "      <td>1.314202e+09</td>\n",
              "      <td>None</td>\n",
              "      <td>None</td>\n",
              "      <td>[]</td>\n",
              "      <td>None</td>\n",
              "      <td>None</td>\n",
              "      <td>None</td>\n",
              "      <td>text</td>\n",
              "      <td>t2_5q1bq</td>\n",
              "      <td>False</td>\n",
              "      <td>You can say that when you've already ordered a...</td>\n",
              "      <td>True</td>\n",
              "      <td>False</td>\n",
              "      <td>False</td>\n",
              "      <td>None</td>\n",
              "      <td>0</td>\n",
              "      <td>1546300964</td>\n",
              "      <td>None</td>\n",
              "      <td>False</td>\n",
              "      <td>0</td>\n",
              "      <td>{'gid_1': 0, 'gid_2': 0, 'gid_3': 0}</td>\n",
              "      <td>eczb5ii</td>\n",
              "      <td>False</td>\n",
              "      <td>t3_aaz2g9</td>\n",
              "      <td>True</td>\n",
              "      <td>t1_ecygmis</td>\n",
              "      <td>/r/Spanish/comments/aaz2g9/when_ordering_food_...</td>\n",
              "      <td>None</td>\n",
              "      <td>1550712660</td>\n",
              "      <td>1</td>\n",
              "      <td>True</td>\n",
              "      <td>False</td>\n",
              "      <td>Spanish</td>\n",
              "      <td>t5_2qtt1</td>\n",
              "      <td>r/Spanish</td>\n",
              "      <td>public</td>\n",
              "      <td>NaN</td>\n",
              "      <td>NaN</td>\n",
              "      <td>NaN</td>\n",
              "      <td>NaN</td>\n",
              "      <td>NaN</td>\n",
              "      <td>NaN</td>\n",
              "      <td>NaN</td>\n",
              "      <td>NaN</td>\n",
              "      <td>NaN</td>\n",
              "      <td>NaN</td>\n",
              "    </tr>\n",
              "    <tr>\n",
              "      <th>1</th>\n",
              "      <td>garbagecoder</td>\n",
              "      <td>1.434302e+09</td>\n",
              "      <td></td>\n",
              "      <td>second</td>\n",
              "      <td>[{'e': 'text', 't': 'C1'}]</td>\n",
              "      <td>None</td>\n",
              "      <td>C1</td>\n",
              "      <td>dark</td>\n",
              "      <td>richtext</td>\n",
              "      <td>t2_o3ucv</td>\n",
              "      <td>False</td>\n",
              "      <td>Thank you. There are some language where the l...</td>\n",
              "      <td>True</td>\n",
              "      <td>False</td>\n",
              "      <td>False</td>\n",
              "      <td>None</td>\n",
              "      <td>0</td>\n",
              "      <td>1546301446</td>\n",
              "      <td>None</td>\n",
              "      <td>False</td>\n",
              "      <td>0</td>\n",
              "      <td>{'gid_1': 0, 'gid_2': 0, 'gid_3': 0}</td>\n",
              "      <td>eczbpj8</td>\n",
              "      <td>True</td>\n",
              "      <td>t3_ab9dr8</td>\n",
              "      <td>True</td>\n",
              "      <td>t1_ecz24yd</td>\n",
              "      <td>/r/Spanish/comments/ab9dr8/data_on_spanish_for...</td>\n",
              "      <td>None</td>\n",
              "      <td>1550712907</td>\n",
              "      <td>2</td>\n",
              "      <td>True</td>\n",
              "      <td>False</td>\n",
              "      <td>Spanish</td>\n",
              "      <td>t5_2qtt1</td>\n",
              "      <td>r/Spanish</td>\n",
              "      <td>public</td>\n",
              "      <td>NaN</td>\n",
              "      <td>NaN</td>\n",
              "      <td>NaN</td>\n",
              "      <td>NaN</td>\n",
              "      <td>NaN</td>\n",
              "      <td>NaN</td>\n",
              "      <td>NaN</td>\n",
              "      <td>NaN</td>\n",
              "      <td>NaN</td>\n",
              "      <td>NaN</td>\n",
              "    </tr>\n",
              "    <tr>\n",
              "      <th>2</th>\n",
              "      <td>gatosol</td>\n",
              "      <td>1.477917e+09</td>\n",
              "      <td>#46d160</td>\n",
              "      <td>native</td>\n",
              "      <td>[{'e': 'text', 't': '🇮🇨 Canarias (África) 🐱 Na...</td>\n",
              "      <td>ed67a04a-9a87-11e2-9ee1-12313b06caaf</td>\n",
              "      <td>🇮🇨 Canarias (África) 🐱 Native Spanish</td>\n",
              "      <td>light</td>\n",
              "      <td>richtext</td>\n",
              "      <td>t2_12hxof</td>\n",
              "      <td>False</td>\n",
              "      <td>Fast? \\n\\nhttp://www.youtube.com/watch?v=-W2NP...</td>\n",
              "      <td>True</td>\n",
              "      <td>False</td>\n",
              "      <td>False</td>\n",
              "      <td>None</td>\n",
              "      <td>0</td>\n",
              "      <td>1546301848</td>\n",
              "      <td>None</td>\n",
              "      <td>False</td>\n",
              "      <td>0</td>\n",
              "      <td>{'gid_1': 0, 'gid_2': 0, 'gid_3': 0}</td>\n",
              "      <td>eczc6fx</td>\n",
              "      <td>False</td>\n",
              "      <td>t3_abcgjr</td>\n",
              "      <td>False</td>\n",
              "      <td>t3_abcgjr</td>\n",
              "      <td>/r/Spanish/comments/abcgjr/fast_speaking_youtu...</td>\n",
              "      <td>None</td>\n",
              "      <td>1550713115</td>\n",
              "      <td>3</td>\n",
              "      <td>True</td>\n",
              "      <td>False</td>\n",
              "      <td>Spanish</td>\n",
              "      <td>t5_2qtt1</td>\n",
              "      <td>r/Spanish</td>\n",
              "      <td>public</td>\n",
              "      <td>NaN</td>\n",
              "      <td>NaN</td>\n",
              "      <td>NaN</td>\n",
              "      <td>NaN</td>\n",
              "      <td>NaN</td>\n",
              "      <td>NaN</td>\n",
              "      <td>NaN</td>\n",
              "      <td>NaN</td>\n",
              "      <td>NaN</td>\n",
              "      <td>NaN</td>\n",
              "    </tr>\n",
              "    <tr>\n",
              "      <th>3</th>\n",
              "      <td>gloix</td>\n",
              "      <td>1.314202e+09</td>\n",
              "      <td>None</td>\n",
              "      <td>None</td>\n",
              "      <td>[]</td>\n",
              "      <td>None</td>\n",
              "      <td>None</td>\n",
              "      <td>None</td>\n",
              "      <td>text</td>\n",
              "      <td>t2_5q1bq</td>\n",
              "      <td>False</td>\n",
              "      <td>Chile? I have never heard someone say \"me pone...</td>\n",
              "      <td>True</td>\n",
              "      <td>False</td>\n",
              "      <td>False</td>\n",
              "      <td>None</td>\n",
              "      <td>0</td>\n",
              "      <td>1546301907</td>\n",
              "      <td>None</td>\n",
              "      <td>False</td>\n",
              "      <td>0</td>\n",
              "      <td>{'gid_1': 0, 'gid_2': 0, 'gid_3': 0}</td>\n",
              "      <td>eczc8r2</td>\n",
              "      <td>False</td>\n",
              "      <td>t3_aaz2g9</td>\n",
              "      <td>True</td>\n",
              "      <td>t1_ecwk6pu</td>\n",
              "      <td>/r/Spanish/comments/aaz2g9/when_ordering_food_...</td>\n",
              "      <td>None</td>\n",
              "      <td>1550713145</td>\n",
              "      <td>1</td>\n",
              "      <td>True</td>\n",
              "      <td>False</td>\n",
              "      <td>Spanish</td>\n",
              "      <td>t5_2qtt1</td>\n",
              "      <td>r/Spanish</td>\n",
              "      <td>public</td>\n",
              "      <td>NaN</td>\n",
              "      <td>NaN</td>\n",
              "      <td>NaN</td>\n",
              "      <td>NaN</td>\n",
              "      <td>NaN</td>\n",
              "      <td>NaN</td>\n",
              "      <td>NaN</td>\n",
              "      <td>NaN</td>\n",
              "      <td>NaN</td>\n",
              "      <td>NaN</td>\n",
              "    </tr>\n",
              "    <tr>\n",
              "      <th>4</th>\n",
              "      <td>brog88</td>\n",
              "      <td>1.499983e+09</td>\n",
              "      <td>None</td>\n",
              "      <td>None</td>\n",
              "      <td>[]</td>\n",
              "      <td>None</td>\n",
              "      <td>None</td>\n",
              "      <td>None</td>\n",
              "      <td>text</td>\n",
              "      <td>t2_6z3h9m2</td>\n",
              "      <td>False</td>\n",
              "      <td>¡Feliz Año Nuevo! También he estado viendo las...</td>\n",
              "      <td>True</td>\n",
              "      <td>False</td>\n",
              "      <td>False</td>\n",
              "      <td>None</td>\n",
              "      <td>0</td>\n",
              "      <td>1546302339</td>\n",
              "      <td>None</td>\n",
              "      <td>False</td>\n",
              "      <td>0</td>\n",
              "      <td>{'gid_1': 0, 'gid_2': 0, 'gid_3': 0}</td>\n",
              "      <td>eczcqr0</td>\n",
              "      <td>False</td>\n",
              "      <td>t3_abcugt</td>\n",
              "      <td>False</td>\n",
              "      <td>t3_abcugt</td>\n",
              "      <td>/r/Spanish/comments/abcugt/feliz_año_nuevo_201...</td>\n",
              "      <td>None</td>\n",
              "      <td>1550713397</td>\n",
              "      <td>9</td>\n",
              "      <td>True</td>\n",
              "      <td>False</td>\n",
              "      <td>Spanish</td>\n",
              "      <td>t5_2qtt1</td>\n",
              "      <td>r/Spanish</td>\n",
              "      <td>public</td>\n",
              "      <td>NaN</td>\n",
              "      <td>NaN</td>\n",
              "      <td>NaN</td>\n",
              "      <td>NaN</td>\n",
              "      <td>NaN</td>\n",
              "      <td>NaN</td>\n",
              "      <td>NaN</td>\n",
              "      <td>NaN</td>\n",
              "      <td>NaN</td>\n",
              "      <td>NaN</td>\n",
              "    </tr>\n",
              "    <tr>\n",
              "      <th>...</th>\n",
              "      <td>...</td>\n",
              "      <td>...</td>\n",
              "      <td>...</td>\n",
              "      <td>...</td>\n",
              "      <td>...</td>\n",
              "      <td>...</td>\n",
              "      <td>...</td>\n",
              "      <td>...</td>\n",
              "      <td>...</td>\n",
              "      <td>...</td>\n",
              "      <td>...</td>\n",
              "      <td>...</td>\n",
              "      <td>...</td>\n",
              "      <td>...</td>\n",
              "      <td>...</td>\n",
              "      <td>...</td>\n",
              "      <td>...</td>\n",
              "      <td>...</td>\n",
              "      <td>...</td>\n",
              "      <td>...</td>\n",
              "      <td>...</td>\n",
              "      <td>...</td>\n",
              "      <td>...</td>\n",
              "      <td>...</td>\n",
              "      <td>...</td>\n",
              "      <td>...</td>\n",
              "      <td>...</td>\n",
              "      <td>...</td>\n",
              "      <td>...</td>\n",
              "      <td>...</td>\n",
              "      <td>...</td>\n",
              "      <td>...</td>\n",
              "      <td>...</td>\n",
              "      <td>...</td>\n",
              "      <td>...</td>\n",
              "      <td>...</td>\n",
              "      <td>...</td>\n",
              "      <td>...</td>\n",
              "      <td>...</td>\n",
              "      <td>...</td>\n",
              "      <td>...</td>\n",
              "      <td>...</td>\n",
              "      <td>...</td>\n",
              "      <td>...</td>\n",
              "      <td>...</td>\n",
              "      <td>...</td>\n",
              "      <td>...</td>\n",
              "    </tr>\n",
              "    <tr>\n",
              "      <th>79886</th>\n",
              "      <td>Goatlessly</td>\n",
              "      <td>1.532500e+09</td>\n",
              "      <td>None</td>\n",
              "      <td>None</td>\n",
              "      <td>[]</td>\n",
              "      <td>None</td>\n",
              "      <td>None</td>\n",
              "      <td>None</td>\n",
              "      <td>text</td>\n",
              "      <td>t2_1ulehyr1</td>\n",
              "      <td>False</td>\n",
              "      <td>Te lo resumo</td>\n",
              "      <td>True</td>\n",
              "      <td>False</td>\n",
              "      <td>False</td>\n",
              "      <td>None</td>\n",
              "      <td>0</td>\n",
              "      <td>1569887499</td>\n",
              "      <td>None</td>\n",
              "      <td>False</td>\n",
              "      <td>0</td>\n",
              "      <td>{}</td>\n",
              "      <td>f22emdg</td>\n",
              "      <td>False</td>\n",
              "      <td>t3_dbff5h</td>\n",
              "      <td>True</td>\n",
              "      <td>t3_dbff5h</td>\n",
              "      <td>/r/learnspanish/comments/dbff5h/can_someone_re...</td>\n",
              "      <td>None</td>\n",
              "      <td>1578011733</td>\n",
              "      <td>2</td>\n",
              "      <td>True</td>\n",
              "      <td>False</td>\n",
              "      <td>learnspanish</td>\n",
              "      <td>t5_2rd6d</td>\n",
              "      <td>r/learnspanish</td>\n",
              "      <td>public</td>\n",
              "      <td>NaN</td>\n",
              "      <td>False</td>\n",
              "      <td>False</td>\n",
              "      <td>[]</td>\n",
              "      <td>0.0</td>\n",
              "      <td>[]</td>\n",
              "      <td>[]</td>\n",
              "      <td>NaN</td>\n",
              "      <td>NaN</td>\n",
              "      <td>False</td>\n",
              "    </tr>\n",
              "    <tr>\n",
              "      <th>79887</th>\n",
              "      <td>stvbeev</td>\n",
              "      <td>1.513914e+09</td>\n",
              "      <td>None</td>\n",
              "      <td>None</td>\n",
              "      <td>[]</td>\n",
              "      <td>None</td>\n",
              "      <td>None</td>\n",
              "      <td>None</td>\n",
              "      <td>text</td>\n",
              "      <td>t2_4iyofhk</td>\n",
              "      <td>False</td>\n",
              "      <td>It’s usually presented as a dichotomy, but eac...</td>\n",
              "      <td>True</td>\n",
              "      <td>False</td>\n",
              "      <td>False</td>\n",
              "      <td>None</td>\n",
              "      <td>0</td>\n",
              "      <td>1569887598</td>\n",
              "      <td>None</td>\n",
              "      <td>False</td>\n",
              "      <td>0</td>\n",
              "      <td>{}</td>\n",
              "      <td>f22es6l</td>\n",
              "      <td>False</td>\n",
              "      <td>t3_dbkdc0</td>\n",
              "      <td>True</td>\n",
              "      <td>t3_dbkdc0</td>\n",
              "      <td>/r/Spanish/comments/dbkdc0/what_are_some_diffe...</td>\n",
              "      <td>None</td>\n",
              "      <td>1578011813</td>\n",
              "      <td>7</td>\n",
              "      <td>True</td>\n",
              "      <td>False</td>\n",
              "      <td>Spanish</td>\n",
              "      <td>t5_2qtt1</td>\n",
              "      <td>r/Spanish</td>\n",
              "      <td>public</td>\n",
              "      <td>NaN</td>\n",
              "      <td>False</td>\n",
              "      <td>False</td>\n",
              "      <td>[]</td>\n",
              "      <td>0.0</td>\n",
              "      <td>[]</td>\n",
              "      <td>[]</td>\n",
              "      <td>NaN</td>\n",
              "      <td>NaN</td>\n",
              "      <td>False</td>\n",
              "    </tr>\n",
              "    <tr>\n",
              "      <th>79888</th>\n",
              "      <td>Rumope</td>\n",
              "      <td>1.397216e+09</td>\n",
              "      <td>None</td>\n",
              "      <td>None</td>\n",
              "      <td>[]</td>\n",
              "      <td>None</td>\n",
              "      <td>None</td>\n",
              "      <td>None</td>\n",
              "      <td>text</td>\n",
              "      <td>t2_g2tva</td>\n",
              "      <td>False</td>\n",
              "      <td>Some sentences like \"A comer\" or \"A la playa\" ...</td>\n",
              "      <td>True</td>\n",
              "      <td>False</td>\n",
              "      <td>False</td>\n",
              "      <td>None</td>\n",
              "      <td>0</td>\n",
              "      <td>1569887809</td>\n",
              "      <td>None</td>\n",
              "      <td>False</td>\n",
              "      <td>0</td>\n",
              "      <td>{}</td>\n",
              "      <td>f22f51w</td>\n",
              "      <td>False</td>\n",
              "      <td>t3_db5g7n</td>\n",
              "      <td>True</td>\n",
              "      <td>t1_f227n41</td>\n",
              "      <td>/r/Spanish/comments/db5g7n/shortcut_phrases_li...</td>\n",
              "      <td>None</td>\n",
              "      <td>1578011979</td>\n",
              "      <td>2</td>\n",
              "      <td>True</td>\n",
              "      <td>False</td>\n",
              "      <td>Spanish</td>\n",
              "      <td>t5_2qtt1</td>\n",
              "      <td>r/Spanish</td>\n",
              "      <td>public</td>\n",
              "      <td>NaN</td>\n",
              "      <td>False</td>\n",
              "      <td>False</td>\n",
              "      <td>[]</td>\n",
              "      <td>0.0</td>\n",
              "      <td>[]</td>\n",
              "      <td>[]</td>\n",
              "      <td>NaN</td>\n",
              "      <td>NaN</td>\n",
              "      <td>False</td>\n",
              "    </tr>\n",
              "    <tr>\n",
              "      <th>79889</th>\n",
              "      <td>KingsElite</td>\n",
              "      <td>1.343486e+09</td>\n",
              "      <td>#e87500</td>\n",
              "      <td>None</td>\n",
              "      <td>[{'e': 'text', 't': 'Perfecting it'}]</td>\n",
              "      <td>1b663862-23b7-11e4-9a5d-12313b0e94e7</td>\n",
              "      <td>Perfecting it</td>\n",
              "      <td>light</td>\n",
              "      <td>richtext</td>\n",
              "      <td>t2_8hd71</td>\n",
              "      <td>False</td>\n",
              "      <td>I studied in Xela in 2017 and felt perfectly s...</td>\n",
              "      <td>True</td>\n",
              "      <td>False</td>\n",
              "      <td>False</td>\n",
              "      <td>None</td>\n",
              "      <td>0</td>\n",
              "      <td>1569887898</td>\n",
              "      <td>None</td>\n",
              "      <td>False</td>\n",
              "      <td>0</td>\n",
              "      <td>{}</td>\n",
              "      <td>f22fac8</td>\n",
              "      <td>False</td>\n",
              "      <td>t3_dbdhx0</td>\n",
              "      <td>False</td>\n",
              "      <td>t3_dbdhx0</td>\n",
              "      <td>/r/learnspanish/comments/dbdhx0/spanish_school...</td>\n",
              "      <td>None</td>\n",
              "      <td>1578012045</td>\n",
              "      <td>5</td>\n",
              "      <td>True</td>\n",
              "      <td>False</td>\n",
              "      <td>learnspanish</td>\n",
              "      <td>t5_2rd6d</td>\n",
              "      <td>r/learnspanish</td>\n",
              "      <td>public</td>\n",
              "      <td>NaN</td>\n",
              "      <td>False</td>\n",
              "      <td>False</td>\n",
              "      <td>[]</td>\n",
              "      <td>0.0</td>\n",
              "      <td>[]</td>\n",
              "      <td>[]</td>\n",
              "      <td>NaN</td>\n",
              "      <td>NaN</td>\n",
              "      <td>False</td>\n",
              "    </tr>\n",
              "    <tr>\n",
              "      <th>79890</th>\n",
              "      <td>grynfux</td>\n",
              "      <td>1.434911e+09</td>\n",
              "      <td>None</td>\n",
              "      <td>None</td>\n",
              "      <td>[]</td>\n",
              "      <td>None</td>\n",
              "      <td>None</td>\n",
              "      <td>None</td>\n",
              "      <td>text</td>\n",
              "      <td>t2_o94ci</td>\n",
              "      <td>False</td>\n",
              "      <td>Ú is to denote stress on the u.\\n\\nÜ is to den...</td>\n",
              "      <td>True</td>\n",
              "      <td>False</td>\n",
              "      <td>False</td>\n",
              "      <td>None</td>\n",
              "      <td>0</td>\n",
              "      <td>1569887962</td>\n",
              "      <td>None</td>\n",
              "      <td>False</td>\n",
              "      <td>0</td>\n",
              "      <td>{}</td>\n",
              "      <td>f22fe8g</td>\n",
              "      <td>False</td>\n",
              "      <td>t3_dbi5yz</td>\n",
              "      <td>True</td>\n",
              "      <td>t3_dbi5yz</td>\n",
              "      <td>/r/Spanish/comments/dbi5yz/what_if_there_was_a...</td>\n",
              "      <td>None</td>\n",
              "      <td>1578012096</td>\n",
              "      <td>1</td>\n",
              "      <td>True</td>\n",
              "      <td>False</td>\n",
              "      <td>Spanish</td>\n",
              "      <td>t5_2qtt1</td>\n",
              "      <td>r/Spanish</td>\n",
              "      <td>public</td>\n",
              "      <td>NaN</td>\n",
              "      <td>False</td>\n",
              "      <td>False</td>\n",
              "      <td>[]</td>\n",
              "      <td>0.0</td>\n",
              "      <td>[]</td>\n",
              "      <td>[]</td>\n",
              "      <td>NaN</td>\n",
              "      <td>NaN</td>\n",
              "      <td>False</td>\n",
              "    </tr>\n",
              "  </tbody>\n",
              "</table>\n",
              "<p>79891 rows × 47 columns</p>\n",
              "</div>"
            ],
            "text/plain": [
              "             author  ...  author_premium\n",
              "0             gloix  ...             NaN\n",
              "1      garbagecoder  ...             NaN\n",
              "2           gatosol  ...             NaN\n",
              "3             gloix  ...             NaN\n",
              "4            brog88  ...             NaN\n",
              "...             ...  ...             ...\n",
              "79886    Goatlessly  ...           False\n",
              "79887       stvbeev  ...           False\n",
              "79888        Rumope  ...           False\n",
              "79889    KingsElite  ...           False\n",
              "79890       grynfux  ...           False\n",
              "\n",
              "[79891 rows x 47 columns]"
            ]
          },
          "metadata": {},
          "execution_count": 8
        }
      ],
      "source": [
        "df_reddit = pd.DataFrame(subreddit_list)\n",
        "df_reddit"
      ]
    },
    {
      "cell_type": "code",
      "source": [
        "df_tagged = pd.read_csv('./reddit_tagged.csv', index_col=0)"
      ],
      "metadata": {
        "id": "wU3pbVpYOabF"
      },
      "execution_count": 9,
      "outputs": []
    },
    {
      "cell_type": "markdown",
      "metadata": {
        "id": "dV705xv1Iv02"
      },
      "source": [
        "## Task 1: Classifying Users by Proficiency Level\n",
        "\n",
        "\n"
      ]
    },
    {
      "cell_type": "markdown",
      "source": [
        "### Preprocessing the Data"
      ],
      "metadata": {
        "id": "4iyQVaNETlES"
      }
    },
    {
      "cell_type": "code",
      "source": [
        "df_essay"
      ],
      "metadata": {
        "colab": {
          "base_uri": "https://localhost:8080/",
          "height": 1000
        },
        "id": "cqoRVEKGTkDu",
        "outputId": "4067ee54-d548-4750-8848-da5c28c2fac7"
      },
      "execution_count": 10,
      "outputs": [
        {
          "output_type": "execute_result",
          "data": {
            "text/html": [
              "<div>\n",
              "<style scoped>\n",
              "    .dataframe tbody tr th:only-of-type {\n",
              "        vertical-align: middle;\n",
              "    }\n",
              "\n",
              "    .dataframe tbody tr th {\n",
              "        vertical-align: top;\n",
              "    }\n",
              "\n",
              "    .dataframe thead th {\n",
              "        text-align: right;\n",
              "    }\n",
              "</style>\n",
              "<table border=\"1\" class=\"dataframe\">\n",
              "  <thead>\n",
              "    <tr style=\"text-align: right;\">\n",
              "      <th></th>\n",
              "      <th>id</th>\n",
              "      <th>prompt</th>\n",
              "      <th>quarter</th>\n",
              "      <th>course</th>\n",
              "      <th>age</th>\n",
              "      <th>gender</th>\n",
              "      <th>l1 language</th>\n",
              "      <th>other l1 language(s)</th>\n",
              "      <th>language(s) used at home</th>\n",
              "      <th>language(s) studied</th>\n",
              "      <th>listening comprehension</th>\n",
              "      <th>reading comprehension</th>\n",
              "      <th>speaking ability</th>\n",
              "      <th>writing ability</th>\n",
              "      <th>study abroad</th>\n",
              "      <th>essay</th>\n",
              "      <th>a personal annotator1</th>\n",
              "      <th>a personal annotator2</th>\n",
              "      <th>gender-number annotator1</th>\n",
              "      <th>gender-number annotator2</th>\n",
              "      <th>corrected</th>\n",
              "    </tr>\n",
              "  </thead>\n",
              "  <tbody>\n",
              "    <tr>\n",
              "      <th>0</th>\n",
              "      <td>146362</td>\n",
              "      <td>famous</td>\n",
              "      <td>F17</td>\n",
              "      <td>SPA 2</td>\n",
              "      <td>19</td>\n",
              "      <td>Female</td>\n",
              "      <td>English</td>\n",
              "      <td>NaN</td>\n",
              "      <td>NaN</td>\n",
              "      <td>NaN</td>\n",
              "      <td>3.0</td>\n",
              "      <td>3.0</td>\n",
              "      <td>1.0</td>\n",
              "      <td>1.0</td>\n",
              "      <td>No</td>\n",
              "      <td>Una persona famosa que admiro es Lauren Jaureg...</td>\n",
              "      <td>Una persona famosa que admiro es Lauren Jaureg...</td>\n",
              "      <td>Una persona famosa que admiro es Lauren Jaureg...</td>\n",
              "      <td>Una persona famosa que admiro es Lauren Jaureg...</td>\n",
              "      <td>Una persona famosa que admiro es Lauren Jaureg...</td>\n",
              "      <td>Una persona famosa que admiro es Lauren Jaureg...</td>\n",
              "    </tr>\n",
              "    <tr>\n",
              "      <th>1</th>\n",
              "      <td>104622</td>\n",
              "      <td>famous</td>\n",
              "      <td>F17</td>\n",
              "      <td>SPA 3</td>\n",
              "      <td>20</td>\n",
              "      <td>Female</td>\n",
              "      <td>English</td>\n",
              "      <td>Not Applicable</td>\n",
              "      <td>No</td>\n",
              "      <td>Not Applicable</td>\n",
              "      <td>2.0</td>\n",
              "      <td>3.0</td>\n",
              "      <td>3.0</td>\n",
              "      <td>3.0</td>\n",
              "      <td>No</td>\n",
              "      <td>Yo veo un programa de television que es muy di...</td>\n",
              "      <td>Yo veo un programa de television que es muy di...</td>\n",
              "      <td>Yo veo un programa de television que es muy di...</td>\n",
              "      <td>Yo veo un programa de television que es muy di...</td>\n",
              "      <td>Yo veo un programa de television que es muy di...</td>\n",
              "      <td>Yo veo un programa de televisión que es muy di...</td>\n",
              "    </tr>\n",
              "    <tr>\n",
              "      <th>2</th>\n",
              "      <td>169693</td>\n",
              "      <td>famous</td>\n",
              "      <td>F17</td>\n",
              "      <td>SPA 24</td>\n",
              "      <td>18 as of April 2017</td>\n",
              "      <td>Female</td>\n",
              "      <td>English</td>\n",
              "      <td>NaN</td>\n",
              "      <td>NaN</td>\n",
              "      <td>NaN</td>\n",
              "      <td>3.0</td>\n",
              "      <td>3.0</td>\n",
              "      <td>2.0</td>\n",
              "      <td>3.0</td>\n",
              "      <td>No</td>\n",
              "      <td>Antes de contarles de una persona famosa quien...</td>\n",
              "      <td>Antes de contarles de una persona famosa quien...</td>\n",
              "      <td>Antes de contarles de una persona famosa quien...</td>\n",
              "      <td>Antes de contarles de una persona famosa quien...</td>\n",
              "      <td>Antes de contarles de una persona famosa quien...</td>\n",
              "      <td>Antes de contarles sobre una persona famosa qu...</td>\n",
              "    </tr>\n",
              "    <tr>\n",
              "      <th>3</th>\n",
              "      <td>179355</td>\n",
              "      <td>famous</td>\n",
              "      <td>F17</td>\n",
              "      <td>SPA 1</td>\n",
              "      <td>20</td>\n",
              "      <td>Female</td>\n",
              "      <td>Other</td>\n",
              "      <td>Japanese</td>\n",
              "      <td>Japanese</td>\n",
              "      <td>English more than 10 years</td>\n",
              "      <td>2.0</td>\n",
              "      <td>3.0</td>\n",
              "      <td>1.0</td>\n",
              "      <td>2.0</td>\n",
              "      <td>No</td>\n",
              "      <td>Voy a prensentar una chica famosa en Japón. S...</td>\n",
              "      <td>Voy a prensentar una chica famosa en Japón. S...</td>\n",
              "      <td>Voy a prensentar []{a}&lt;az:do:an&gt; una chica fa...</td>\n",
              "      <td>Voy a prensentar una chica famosa en Japón. S...</td>\n",
              "      <td>Voy a prensentar una chica famosa en Japón. S...</td>\n",
              "      <td>Voy a presentar a una chica famosa en Japón. S...</td>\n",
              "    </tr>\n",
              "    <tr>\n",
              "      <th>4</th>\n",
              "      <td>148244</td>\n",
              "      <td>famous</td>\n",
              "      <td>F17</td>\n",
              "      <td>SPA 3</td>\n",
              "      <td>19</td>\n",
              "      <td>Male</td>\n",
              "      <td>Mandarin</td>\n",
              "      <td>NaN</td>\n",
              "      <td>I speak mandarin at home</td>\n",
              "      <td>English 12 years</td>\n",
              "      <td>3.0</td>\n",
              "      <td>4.0</td>\n",
              "      <td>4.0</td>\n",
              "      <td>5.0</td>\n",
              "      <td>No</td>\n",
              "      <td>Mi cantante favorita es Taylor Swift. Me gusta...</td>\n",
              "      <td>Mi cantante favorita es Taylor Swift. Me gusta...</td>\n",
              "      <td>Mi cantante favorita es Taylor Swift. Me gusta...</td>\n",
              "      <td>Mi cantante favorita es Taylor Swift. Me gusta...</td>\n",
              "      <td>Mi cantante favorita es Taylor Swift. Me gusta...</td>\n",
              "      <td>Mi cantante favorita es Taylor Swift. Me gusta...</td>\n",
              "    </tr>\n",
              "    <tr>\n",
              "      <th>...</th>\n",
              "      <td>...</td>\n",
              "      <td>...</td>\n",
              "      <td>...</td>\n",
              "      <td>...</td>\n",
              "      <td>...</td>\n",
              "      <td>...</td>\n",
              "      <td>...</td>\n",
              "      <td>...</td>\n",
              "      <td>...</td>\n",
              "      <td>...</td>\n",
              "      <td>...</td>\n",
              "      <td>...</td>\n",
              "      <td>...</td>\n",
              "      <td>...</td>\n",
              "      <td>...</td>\n",
              "      <td>...</td>\n",
              "      <td>...</td>\n",
              "      <td>...</td>\n",
              "      <td>...</td>\n",
              "      <td>...</td>\n",
              "      <td>...</td>\n",
              "    </tr>\n",
              "    <tr>\n",
              "      <th>170</th>\n",
              "      <td>140109</td>\n",
              "      <td>famous</td>\n",
              "      <td>F17</td>\n",
              "      <td>SPA 3</td>\n",
              "      <td>19</td>\n",
              "      <td>Male</td>\n",
              "      <td>English</td>\n",
              "      <td>NaN</td>\n",
              "      <td>no</td>\n",
              "      <td>no</td>\n",
              "      <td>3.0</td>\n",
              "      <td>4.0</td>\n",
              "      <td>3.0</td>\n",
              "      <td>4.0</td>\n",
              "      <td>Yes</td>\n",
              "      <td>Una persona Famoso: Nathan Fielder es una pers...</td>\n",
              "      <td>Una persona Famoso: Nathan Fielder es una pers...</td>\n",
              "      <td>Una persona Famoso: Nathan Fielder es una pers...</td>\n",
              "      <td>Una persona [Famoso]{famosa}&lt;ga:fm:adj:an&gt;: Na...</td>\n",
              "      <td>Una persona [Famoso]{famosa}&lt;ga:fm:adj:an&gt;: Na...</td>\n",
              "      <td>Una persona famosa: Nathan Fielder es una pers...</td>\n",
              "    </tr>\n",
              "    <tr>\n",
              "      <th>171</th>\n",
              "      <td>185606</td>\n",
              "      <td>famous</td>\n",
              "      <td>F17</td>\n",
              "      <td>SPA 23</td>\n",
              "      <td>23</td>\n",
              "      <td>Female</td>\n",
              "      <td>English</td>\n",
              "      <td>NaN</td>\n",
              "      <td>no</td>\n",
              "      <td>NaN</td>\n",
              "      <td>2.0</td>\n",
              "      <td>3.0</td>\n",
              "      <td>2.0</td>\n",
              "      <td>3.0</td>\n",
              "      <td>No</td>\n",
              "      <td>Una persona famosa quien yo pienso es muy asom...</td>\n",
              "      <td>Una persona famosa quien yo pienso es muy asom...</td>\n",
              "      <td>Una persona famosa quien yo pienso es muy asom...</td>\n",
              "      <td>Una persona famosa quien yo pienso es muy asom...</td>\n",
              "      <td>Una persona famosa quien yo pienso es muy asom...</td>\n",
              "      <td>Una persona famosa muy asombrosa es Helen Kell...</td>\n",
              "    </tr>\n",
              "    <tr>\n",
              "      <th>172</th>\n",
              "      <td>156764</td>\n",
              "      <td>famous</td>\n",
              "      <td>F17</td>\n",
              "      <td>SPA 24</td>\n",
              "      <td>19</td>\n",
              "      <td>Female</td>\n",
              "      <td>English</td>\n",
              "      <td>NaN</td>\n",
              "      <td>NaN</td>\n",
              "      <td>NaN</td>\n",
              "      <td>3.0</td>\n",
              "      <td>3.0</td>\n",
              "      <td>2.0</td>\n",
              "      <td>2.0</td>\n",
              "      <td>No</td>\n",
              "      <td>Selena Gomez: Persona famosa\\n\\nSelena Gomez e...</td>\n",
              "      <td>Selena Gomez: Persona famosa\\n\\nSelena Gomez e...</td>\n",
              "      <td>Selena Gomez: Persona famosa\\n\\nSelena Gomez e...</td>\n",
              "      <td>Selena Gomez: Persona famosa\\n\\nSelena Gomez e...</td>\n",
              "      <td>Selena Gomez: Persona famosa\\n\\nSelena Gomez e...</td>\n",
              "      <td>Selena Gomez: Persona famosa. Selena Gomez es ...</td>\n",
              "    </tr>\n",
              "    <tr>\n",
              "      <th>173</th>\n",
              "      <td>172630</td>\n",
              "      <td>famous</td>\n",
              "      <td>F17</td>\n",
              "      <td>SPA 1</td>\n",
              "      <td>18</td>\n",
              "      <td>Female</td>\n",
              "      <td>English</td>\n",
              "      <td>none...</td>\n",
              "      <td>Spanish.</td>\n",
              "      <td>none...</td>\n",
              "      <td>2.0</td>\n",
              "      <td>3.0</td>\n",
              "      <td>2.0</td>\n",
              "      <td>2.0</td>\n",
              "      <td>No</td>\n",
              "      <td>Una famosa persona que yo encanta es Sabrina C...</td>\n",
              "      <td>Una famosa persona que yo encanta es Sabrina C...</td>\n",
              "      <td>Una famosa persona que yo encanta es Sabrina C...</td>\n",
              "      <td>Una famosa persona que yo encanta es Sabrina C...</td>\n",
              "      <td>Una famosa persona que yo encanta es Sabrina C...</td>\n",
              "      <td>Una famosa persona que me encanta es Sabrina C...</td>\n",
              "    </tr>\n",
              "    <tr>\n",
              "      <th>174</th>\n",
              "      <td>144920</td>\n",
              "      <td>famous</td>\n",
              "      <td>F17</td>\n",
              "      <td>SPA 3</td>\n",
              "      <td>19</td>\n",
              "      <td>Male</td>\n",
              "      <td>English</td>\n",
              "      <td>NaN</td>\n",
              "      <td>NaN</td>\n",
              "      <td>NaN</td>\n",
              "      <td>2.0</td>\n",
              "      <td>2.0</td>\n",
              "      <td>3.0</td>\n",
              "      <td>3.0</td>\n",
              "      <td>No</td>\n",
              "      <td>Famoso Persona\\n\\n                Mi favorito ...</td>\n",
              "      <td>Famoso Persona\\n\\n                Mi favorito ...</td>\n",
              "      <td>Famoso Persona\\n\\n                Mi favorito ...</td>\n",
              "      <td>[Famoso]{famosa}&lt;ga:fm:adj:an&gt; Persona\\n\\n    ...</td>\n",
              "      <td>[Famoso]{famosa}&lt;ga:fm:adj:an&gt; Persona\\n\\n    ...</td>\n",
              "      <td>Persona famosa. Mi persona famosa favorita es ...</td>\n",
              "    </tr>\n",
              "  </tbody>\n",
              "</table>\n",
              "<p>175 rows × 21 columns</p>\n",
              "</div>"
            ],
            "text/plain": [
              "         id  ...                                          corrected\n",
              "0    146362  ...  Una persona famosa que admiro es Lauren Jaureg...\n",
              "1    104622  ...  Yo veo un programa de televisión que es muy di...\n",
              "2    169693  ...  Antes de contarles sobre una persona famosa qu...\n",
              "3    179355  ...  Voy a presentar a una chica famosa en Japón. S...\n",
              "4    148244  ...  Mi cantante favorita es Taylor Swift. Me gusta...\n",
              "..      ...  ...                                                ...\n",
              "170  140109  ...  Una persona famosa: Nathan Fielder es una pers...\n",
              "171  185606  ...  Una persona famosa muy asombrosa es Helen Kell...\n",
              "172  156764  ...  Selena Gomez: Persona famosa. Selena Gomez es ...\n",
              "173  172630  ...  Una famosa persona que me encanta es Sabrina C...\n",
              "174  144920  ...  Persona famosa. Mi persona famosa favorita es ...\n",
              "\n",
              "[175 rows x 21 columns]"
            ]
          },
          "metadata": {},
          "execution_count": 10
        }
      ]
    },
    {
      "cell_type": "markdown",
      "source": [
        "We will first start by taking the mean of the listeners' ability scores and rounding that be an integer score. This will be used as our ordered, categorical labels for proficiency classification, {1,2,3,4,5} with 5 being most proficient and 1 being least proficient."
      ],
      "metadata": {
        "id": "nAdUUnE0T1dU"
      }
    },
    {
      "cell_type": "code",
      "execution_count": 11,
      "metadata": {
        "colab": {
          "base_uri": "https://localhost:8080/"
        },
        "id": "zBTOOW9A4R25",
        "outputId": "e941354a-0f4b-4ae9-b9dc-59c694ab2e9c"
      },
      "outputs": [
        {
          "output_type": "stream",
          "name": "stderr",
          "text": [
            "/usr/local/lib/python3.7/dist-packages/ipykernel_launcher.py:4: SettingWithCopyWarning: \n",
            "A value is trying to be set on a copy of a slice from a DataFrame.\n",
            "Try using .loc[row_indexer,col_indexer] = value instead\n",
            "\n",
            "See the caveats in the documentation: https://pandas.pydata.org/pandas-docs/stable/user_guide/indexing.html#returning-a-view-versus-a-copy\n",
            "  after removing the cwd from sys.path.\n"
          ]
        }
      ],
      "source": [
        "df_e = df_essay\n",
        "df_e['score'] = df_essay[['listening comprehension', 'reading comprehension', 'speaking ability', 'writing ability']].mean(axis=1)\n",
        "df_e = df_e.dropna(axis=0, subset=['score'])\n",
        "df_e['score'] = df_e['score'].round(0).astype(int)"
      ]
    },
    {
      "cell_type": "code",
      "execution_count": 12,
      "metadata": {
        "colab": {
          "base_uri": "https://localhost:8080/",
          "height": 424
        },
        "id": "Cerp8OvX6XR0",
        "outputId": "cd23d3bc-98e0-4600-ca5c-695ca1068ce6"
      },
      "outputs": [
        {
          "output_type": "execute_result",
          "data": {
            "text/html": [
              "<div>\n",
              "<style scoped>\n",
              "    .dataframe tbody tr th:only-of-type {\n",
              "        vertical-align: middle;\n",
              "    }\n",
              "\n",
              "    .dataframe tbody tr th {\n",
              "        vertical-align: top;\n",
              "    }\n",
              "\n",
              "    .dataframe thead th {\n",
              "        text-align: right;\n",
              "    }\n",
              "</style>\n",
              "<table border=\"1\" class=\"dataframe\">\n",
              "  <thead>\n",
              "    <tr style=\"text-align: right;\">\n",
              "      <th></th>\n",
              "      <th>id</th>\n",
              "      <th>course</th>\n",
              "      <th>essay</th>\n",
              "      <th>score</th>\n",
              "    </tr>\n",
              "  </thead>\n",
              "  <tbody>\n",
              "    <tr>\n",
              "      <th>0</th>\n",
              "      <td>146362</td>\n",
              "      <td>SPA 2</td>\n",
              "      <td>Una persona famosa que admiro es Lauren Jaureg...</td>\n",
              "      <td>2</td>\n",
              "    </tr>\n",
              "    <tr>\n",
              "      <th>1</th>\n",
              "      <td>104622</td>\n",
              "      <td>SPA 3</td>\n",
              "      <td>Yo veo un programa de television que es muy di...</td>\n",
              "      <td>3</td>\n",
              "    </tr>\n",
              "    <tr>\n",
              "      <th>2</th>\n",
              "      <td>169693</td>\n",
              "      <td>SPA 24</td>\n",
              "      <td>Antes de contarles de una persona famosa quien...</td>\n",
              "      <td>3</td>\n",
              "    </tr>\n",
              "    <tr>\n",
              "      <th>3</th>\n",
              "      <td>179355</td>\n",
              "      <td>SPA 1</td>\n",
              "      <td>Voy a prensentar una chica famosa en Japón. S...</td>\n",
              "      <td>2</td>\n",
              "    </tr>\n",
              "    <tr>\n",
              "      <th>4</th>\n",
              "      <td>148244</td>\n",
              "      <td>SPA 3</td>\n",
              "      <td>Mi cantante favorita es Taylor Swift. Me gusta...</td>\n",
              "      <td>4</td>\n",
              "    </tr>\n",
              "    <tr>\n",
              "      <th>...</th>\n",
              "      <td>...</td>\n",
              "      <td>...</td>\n",
              "      <td>...</td>\n",
              "      <td>...</td>\n",
              "    </tr>\n",
              "    <tr>\n",
              "      <th>170</th>\n",
              "      <td>140109</td>\n",
              "      <td>SPA 3</td>\n",
              "      <td>Una persona Famoso: Nathan Fielder es una pers...</td>\n",
              "      <td>4</td>\n",
              "    </tr>\n",
              "    <tr>\n",
              "      <th>171</th>\n",
              "      <td>185606</td>\n",
              "      <td>SPA 23</td>\n",
              "      <td>Una persona famosa quien yo pienso es muy asom...</td>\n",
              "      <td>2</td>\n",
              "    </tr>\n",
              "    <tr>\n",
              "      <th>172</th>\n",
              "      <td>156764</td>\n",
              "      <td>SPA 24</td>\n",
              "      <td>Selena Gomez: Persona famosa\\n\\nSelena Gomez e...</td>\n",
              "      <td>2</td>\n",
              "    </tr>\n",
              "    <tr>\n",
              "      <th>173</th>\n",
              "      <td>172630</td>\n",
              "      <td>SPA 1</td>\n",
              "      <td>Una famosa persona que yo encanta es Sabrina C...</td>\n",
              "      <td>2</td>\n",
              "    </tr>\n",
              "    <tr>\n",
              "      <th>174</th>\n",
              "      <td>144920</td>\n",
              "      <td>SPA 3</td>\n",
              "      <td>Famoso Persona\\n\\n                Mi favorito ...</td>\n",
              "      <td>2</td>\n",
              "    </tr>\n",
              "  </tbody>\n",
              "</table>\n",
              "<p>164 rows × 4 columns</p>\n",
              "</div>"
            ],
            "text/plain": [
              "         id  course                                              essay  score\n",
              "0    146362   SPA 2  Una persona famosa que admiro es Lauren Jaureg...      2\n",
              "1    104622   SPA 3  Yo veo un programa de television que es muy di...      3\n",
              "2    169693  SPA 24  Antes de contarles de una persona famosa quien...      3\n",
              "3    179355   SPA 1   Voy a prensentar una chica famosa en Japón. S...      2\n",
              "4    148244   SPA 3  Mi cantante favorita es Taylor Swift. Me gusta...      4\n",
              "..      ...     ...                                                ...    ...\n",
              "170  140109   SPA 3  Una persona Famoso: Nathan Fielder es una pers...      4\n",
              "171  185606  SPA 23  Una persona famosa quien yo pienso es muy asom...      2\n",
              "172  156764  SPA 24  Selena Gomez: Persona famosa\\n\\nSelena Gomez e...      2\n",
              "173  172630   SPA 1  Una famosa persona que yo encanta es Sabrina C...      2\n",
              "174  144920   SPA 3  Famoso Persona\\n\\n                Mi favorito ...      2\n",
              "\n",
              "[164 rows x 4 columns]"
            ]
          },
          "metadata": {},
          "execution_count": 12
        }
      ],
      "source": [
        "df_e = df_e[['id', 'course', 'essay', 'score']]\n",
        "df_e"
      ]
    },
    {
      "cell_type": "markdown",
      "source": [
        "We are also extracting the Spanish level course number using Regex. We are only extracting the first digit to have three courses {1,2,3}."
      ],
      "metadata": {
        "id": "HRhRWclnVd7M"
      }
    },
    {
      "cell_type": "code",
      "execution_count": 13,
      "metadata": {
        "colab": {
          "base_uri": "https://localhost:8080/",
          "height": 424
        },
        "id": "HUVKLGAa85ze",
        "outputId": "9b0d6c5f-46d8-4f7c-8060-8542cdea015a"
      },
      "outputs": [
        {
          "output_type": "execute_result",
          "data": {
            "text/html": [
              "<div>\n",
              "<style scoped>\n",
              "    .dataframe tbody tr th:only-of-type {\n",
              "        vertical-align: middle;\n",
              "    }\n",
              "\n",
              "    .dataframe tbody tr th {\n",
              "        vertical-align: top;\n",
              "    }\n",
              "\n",
              "    .dataframe thead th {\n",
              "        text-align: right;\n",
              "    }\n",
              "</style>\n",
              "<table border=\"1\" class=\"dataframe\">\n",
              "  <thead>\n",
              "    <tr style=\"text-align: right;\">\n",
              "      <th></th>\n",
              "      <th>id</th>\n",
              "      <th>course</th>\n",
              "      <th>essay</th>\n",
              "      <th>score</th>\n",
              "    </tr>\n",
              "  </thead>\n",
              "  <tbody>\n",
              "    <tr>\n",
              "      <th>0</th>\n",
              "      <td>146362</td>\n",
              "      <td>2</td>\n",
              "      <td>Una persona famosa que admiro es Lauren Jaureg...</td>\n",
              "      <td>2</td>\n",
              "    </tr>\n",
              "    <tr>\n",
              "      <th>1</th>\n",
              "      <td>104622</td>\n",
              "      <td>3</td>\n",
              "      <td>Yo veo un programa de television que es muy di...</td>\n",
              "      <td>3</td>\n",
              "    </tr>\n",
              "    <tr>\n",
              "      <th>2</th>\n",
              "      <td>169693</td>\n",
              "      <td>2</td>\n",
              "      <td>Antes de contarles de una persona famosa quien...</td>\n",
              "      <td>3</td>\n",
              "    </tr>\n",
              "    <tr>\n",
              "      <th>3</th>\n",
              "      <td>179355</td>\n",
              "      <td>1</td>\n",
              "      <td>Voy a prensentar una chica famosa en Japón. S...</td>\n",
              "      <td>2</td>\n",
              "    </tr>\n",
              "    <tr>\n",
              "      <th>4</th>\n",
              "      <td>148244</td>\n",
              "      <td>3</td>\n",
              "      <td>Mi cantante favorita es Taylor Swift. Me gusta...</td>\n",
              "      <td>4</td>\n",
              "    </tr>\n",
              "    <tr>\n",
              "      <th>...</th>\n",
              "      <td>...</td>\n",
              "      <td>...</td>\n",
              "      <td>...</td>\n",
              "      <td>...</td>\n",
              "    </tr>\n",
              "    <tr>\n",
              "      <th>170</th>\n",
              "      <td>140109</td>\n",
              "      <td>3</td>\n",
              "      <td>Una persona Famoso: Nathan Fielder es una pers...</td>\n",
              "      <td>4</td>\n",
              "    </tr>\n",
              "    <tr>\n",
              "      <th>171</th>\n",
              "      <td>185606</td>\n",
              "      <td>2</td>\n",
              "      <td>Una persona famosa quien yo pienso es muy asom...</td>\n",
              "      <td>2</td>\n",
              "    </tr>\n",
              "    <tr>\n",
              "      <th>172</th>\n",
              "      <td>156764</td>\n",
              "      <td>2</td>\n",
              "      <td>Selena Gomez: Persona famosa\\n\\nSelena Gomez e...</td>\n",
              "      <td>2</td>\n",
              "    </tr>\n",
              "    <tr>\n",
              "      <th>173</th>\n",
              "      <td>172630</td>\n",
              "      <td>1</td>\n",
              "      <td>Una famosa persona que yo encanta es Sabrina C...</td>\n",
              "      <td>2</td>\n",
              "    </tr>\n",
              "    <tr>\n",
              "      <th>174</th>\n",
              "      <td>144920</td>\n",
              "      <td>3</td>\n",
              "      <td>Famoso Persona\\n\\n                Mi favorito ...</td>\n",
              "      <td>2</td>\n",
              "    </tr>\n",
              "  </tbody>\n",
              "</table>\n",
              "<p>164 rows × 4 columns</p>\n",
              "</div>"
            ],
            "text/plain": [
              "         id course                                              essay  score\n",
              "0    146362      2  Una persona famosa que admiro es Lauren Jaureg...      2\n",
              "1    104622      3  Yo veo un programa de television que es muy di...      3\n",
              "2    169693      2  Antes de contarles de una persona famosa quien...      3\n",
              "3    179355      1   Voy a prensentar una chica famosa en Japón. S...      2\n",
              "4    148244      3  Mi cantante favorita es Taylor Swift. Me gusta...      4\n",
              "..      ...    ...                                                ...    ...\n",
              "170  140109      3  Una persona Famoso: Nathan Fielder es una pers...      4\n",
              "171  185606      2  Una persona famosa quien yo pienso es muy asom...      2\n",
              "172  156764      2  Selena Gomez: Persona famosa\\n\\nSelena Gomez e...      2\n",
              "173  172630      1  Una famosa persona que yo encanta es Sabrina C...      2\n",
              "174  144920      3  Famoso Persona\\n\\n                Mi favorito ...      2\n",
              "\n",
              "[164 rows x 4 columns]"
            ]
          },
          "metadata": {},
          "execution_count": 13
        }
      ],
      "source": [
        "df_e['course'] = df_e['course'].str.replace(r\"(SPA\\s)(\\d)([0-9]*)\", r\"\\2\")\n",
        "df_e"
      ]
    },
    {
      "cell_type": "markdown",
      "metadata": {
        "id": "TKxbVa4qCRvc"
      },
      "source": [
        "### Creating LSTM to do Document Classification"
      ]
    },
    {
      "cell_type": "markdown",
      "metadata": {
        "id": "rkuAt3-NI1_d"
      },
      "source": [
        "Following the tutorial to create a Bidirectional LSTM from https://towardsdatascience.com/multi-class-text-classification-with-lstm-using-tensorflow-2-0-d88627c10a35 "
      ]
    },
    {
      "cell_type": "code",
      "execution_count": 14,
      "metadata": {
        "colab": {
          "base_uri": "https://localhost:8080/"
        },
        "id": "WEP655FkCa9G",
        "outputId": "277926d7-457d-44cc-b030-e360197da2f1"
      },
      "outputs": [
        {
          "output_type": "stream",
          "name": "stdout",
          "text": [
            "[nltk_data] Downloading package stopwords to /root/nltk_data...\n",
            "[nltk_data]   Package stopwords is already up-to-date!\n"
          ]
        }
      ],
      "source": [
        "import numpy as np\n",
        "\n",
        "import tensorflow as tf\n",
        "from tensorflow.keras.preprocessing.text import Tokenizer\n",
        "from tensorflow.keras.preprocessing.sequence import pad_sequences\n",
        "from tensorflow.keras.utils import to_categorical\n",
        "from tensorflow.keras.models import Sequential\n",
        "from tensorflow.keras.layers import LSTM, Dense, Dropout, Bidirectional, Embedding\n",
        "\n",
        "import nltk\n",
        "nltk.download('stopwords')\n",
        "from nltk.corpus import stopwords\n",
        "\n",
        "STOPWORDS = set(stopwords.words('english') + stopwords.words('spanish'))"
      ]
    },
    {
      "cell_type": "markdown",
      "source": [
        "First we iterate over every essay and remove the stopwords and append it to our docs list."
      ],
      "metadata": {
        "id": "gMIKUdaeWlbX"
      }
    },
    {
      "cell_type": "code",
      "execution_count": 15,
      "metadata": {
        "colab": {
          "base_uri": "https://localhost:8080/"
        },
        "id": "e1QXBP_vA8bJ",
        "outputId": "9339f53e-e6f3-4400-9a65-4c6af3d32017"
      },
      "outputs": [
        {
          "output_type": "stream",
          "name": "stdout",
          "text": [
            "164\n"
          ]
        }
      ],
      "source": [
        "docs_e = []\n",
        "for doc in df_e['essay']:\n",
        "  for word in STOPWORDS:\n",
        "    token = ' ' + word + ' '\n",
        "    doc = doc.replace(token, ' ')\n",
        "    doc = doc.replace(' ', ' ')\n",
        "  docs_e.append(doc)\n",
        "print(len(docs_e))"
      ]
    },
    {
      "cell_type": "markdown",
      "source": [
        "We are subtracting 1 from the labels so that our classes begin at 0. We will then one-hot encode our classes, assuming they resemble Likert scale measures of proficiency."
      ],
      "metadata": {
        "id": "CosCMo_gYCIr"
      }
    },
    {
      "cell_type": "code",
      "source": [
        "labels_e = df_e['score'] - 1\n",
        "print(len(labels_e))\n",
        "print(labels_e[:5])"
      ],
      "metadata": {
        "colab": {
          "base_uri": "https://localhost:8080/"
        },
        "id": "N2PX7C-4Wi5l",
        "outputId": "4b317fc1-319b-4d97-f8d9-1e7d33a883e6"
      },
      "execution_count": 16,
      "outputs": [
        {
          "output_type": "stream",
          "name": "stdout",
          "text": [
            "164\n",
            "0    1\n",
            "1    2\n",
            "2    2\n",
            "3    1\n",
            "4    3\n",
            "Name: score, dtype: int64\n"
          ]
        }
      ]
    },
    {
      "cell_type": "code",
      "source": [
        "labels_encoded = to_categorical(labels_e)\n",
        "print(len(labels_encoded))\n",
        "print(labels_encoded[:5])"
      ],
      "metadata": {
        "colab": {
          "base_uri": "https://localhost:8080/"
        },
        "id": "nIkruySuZ5Ni",
        "outputId": "15b6463d-3614-4467-f2e0-f93581b2572f"
      },
      "execution_count": 17,
      "outputs": [
        {
          "output_type": "stream",
          "name": "stdout",
          "text": [
            "164\n",
            "[[0. 1. 0. 0. 0.]\n",
            " [0. 0. 1. 0. 0.]\n",
            " [0. 0. 1. 0. 0.]\n",
            " [0. 1. 0. 0. 0.]\n",
            " [0. 0. 0. 1. 0.]]\n"
          ]
        }
      ]
    },
    {
      "cell_type": "code",
      "source": [
        "print(set(df_e['score'] - 1))"
      ],
      "metadata": {
        "colab": {
          "base_uri": "https://localhost:8080/"
        },
        "id": "shu2r6dWaYVC",
        "outputId": "af91a00f-ad8c-412c-c230-dcd8cca755dd"
      },
      "execution_count": 18,
      "outputs": [
        {
          "output_type": "stream",
          "name": "stdout",
          "text": [
            "{0, 1, 2, 3, 4}\n"
          ]
        }
      ]
    },
    {
      "cell_type": "code",
      "execution_count": 19,
      "metadata": {
        "id": "FTkUEL3gBySC"
      },
      "outputs": [],
      "source": [
        "# hyperparameters\n",
        "vocab_size = 500\n",
        "embedding_dim = 64\n",
        "max_length = 200\n",
        "trunc_type = 'post'\n",
        "padding_type = 'post'\n",
        "oov_tok = '<OOV>'\n",
        "training_portion = .8"
      ]
    },
    {
      "cell_type": "markdown",
      "source": [
        "We will print out a list of all the word tokens and their indices."
      ],
      "metadata": {
        "id": "ygSSHWyyXRTQ"
      }
    },
    {
      "cell_type": "code",
      "execution_count": 20,
      "metadata": {
        "colab": {
          "base_uri": "https://localhost:8080/"
        },
        "id": "mOC2vhtnDNXA",
        "outputId": "0e32f8a3-cbc0-4929-e527-6fff49ab9b8f"
      },
      "outputs": [
        {
          "output_type": "execute_result",
          "data": {
            "text/plain": [
              "{'<OOV>': 1,\n",
              " 'años': 9,\n",
              " 'canciones': 15,\n",
              " 'dos': 16,\n",
              " 'el': 3,\n",
              " 'ella': 2,\n",
              " 'en': 12,\n",
              " 'famosa': 7,\n",
              " 'famoso': 18,\n",
              " 'gusta': 5,\n",
              " 'muchas': 11,\n",
              " 'música': 13,\n",
              " 'película': 17,\n",
              " 'persona': 6,\n",
              " 'personas': 8,\n",
              " 'ser': 14,\n",
              " 'su': 10,\n",
              " 'también': 20,\n",
              " 'vida': 19,\n",
              " 'él': 4}"
            ]
          },
          "metadata": {},
          "execution_count": 20
        }
      ],
      "source": [
        "tokenizer = Tokenizer(num_words = vocab_size, oov_token=oov_tok)\n",
        "tokenizer.fit_on_texts(docs_e)\n",
        "word_index = tokenizer.word_index\n",
        "dict(list(word_index.items())[0:20])"
      ]
    },
    {
      "cell_type": "code",
      "execution_count": 21,
      "metadata": {
        "id": "1Z9i_eWsESTT"
      },
      "outputs": [],
      "source": [
        "padded_docs_e = pad_sequences(tokenizer.texts_to_sequences(docs_e), maxlen=max_length, padding=padding_type, truncating=trunc_type)"
      ]
    },
    {
      "cell_type": "code",
      "source": [
        "label_seq_e = np.array(labels_encoded)"
      ],
      "metadata": {
        "id": "FatSAln5a_Cl"
      },
      "execution_count": 22,
      "outputs": []
    },
    {
      "cell_type": "code",
      "source": [
        "model = Sequential()\n",
        "model.add(Embedding(vocab_size, embedding_dim))\n",
        "model.add(Bidirectional(LSTM(embedding_dim)))\n",
        "model.add(Dropout(0.2))\n",
        "model.add(Dense(5, activation='softmax'))\n",
        "model.summary()"
      ],
      "metadata": {
        "colab": {
          "base_uri": "https://localhost:8080/"
        },
        "id": "DaI3dr_DhlHl",
        "outputId": "1100cd46-5f80-4c92-b27b-245f8c60718a"
      },
      "execution_count": 23,
      "outputs": [
        {
          "output_type": "stream",
          "name": "stdout",
          "text": [
            "Model: \"sequential\"\n",
            "_________________________________________________________________\n",
            " Layer (type)                Output Shape              Param #   \n",
            "=================================================================\n",
            " embedding (Embedding)       (None, None, 64)          32000     \n",
            "                                                                 \n",
            " bidirectional (Bidirectiona  (None, 128)              66048     \n",
            " l)                                                              \n",
            "                                                                 \n",
            " dropout (Dropout)           (None, 128)               0         \n",
            "                                                                 \n",
            " dense (Dense)               (None, 5)                 645       \n",
            "                                                                 \n",
            "=================================================================\n",
            "Total params: 98,693\n",
            "Trainable params: 98,693\n",
            "Non-trainable params: 0\n",
            "_________________________________________________________________\n"
          ]
        }
      ]
    },
    {
      "cell_type": "code",
      "source": [
        "model.compile(loss='categorical_crossentropy', optimizer='adam', metrics=['accuracy'])\n",
        "history = model.fit(padded_docs_e, label_seq_e, epochs=20, validation_split=0.2)"
      ],
      "metadata": {
        "id": "tsR6dCtJmB1g",
        "colab": {
          "base_uri": "https://localhost:8080/"
        },
        "outputId": "05b45506-43c7-43fe-df35-b8419b82134d"
      },
      "execution_count": 24,
      "outputs": [
        {
          "output_type": "stream",
          "name": "stdout",
          "text": [
            "Epoch 1/20\n",
            "5/5 [==============================] - 6s 436ms/step - loss: 1.5895 - accuracy: 0.3740 - val_loss: 1.5693 - val_accuracy: 0.2424\n",
            "Epoch 2/20\n",
            "5/5 [==============================] - 1s 203ms/step - loss: 1.5191 - accuracy: 0.4198 - val_loss: 1.5153 - val_accuracy: 0.2424\n",
            "Epoch 3/20\n",
            "5/5 [==============================] - 1s 205ms/step - loss: 1.3976 - accuracy: 0.4504 - val_loss: 1.4585 - val_accuracy: 0.3939\n",
            "Epoch 4/20\n",
            "5/5 [==============================] - 1s 211ms/step - loss: 1.2263 - accuracy: 0.4122 - val_loss: 1.5937 - val_accuracy: 0.4242\n",
            "Epoch 5/20\n",
            "5/5 [==============================] - 1s 200ms/step - loss: 1.2815 - accuracy: 0.4504 - val_loss: 1.6617 - val_accuracy: 0.2424\n",
            "Epoch 6/20\n",
            "5/5 [==============================] - 1s 195ms/step - loss: 1.2033 - accuracy: 0.4733 - val_loss: 1.5356 - val_accuracy: 0.3939\n",
            "Epoch 7/20\n",
            "5/5 [==============================] - 1s 200ms/step - loss: 1.2285 - accuracy: 0.4580 - val_loss: 1.5122 - val_accuracy: 0.4242\n",
            "Epoch 8/20\n",
            "5/5 [==============================] - 1s 196ms/step - loss: 1.2213 - accuracy: 0.4580 - val_loss: 1.5102 - val_accuracy: 0.4242\n",
            "Epoch 9/20\n",
            "5/5 [==============================] - 1s 197ms/step - loss: 1.1928 - accuracy: 0.4656 - val_loss: 1.5736 - val_accuracy: 0.2424\n",
            "Epoch 10/20\n",
            "5/5 [==============================] - 1s 205ms/step - loss: 1.2205 - accuracy: 0.4046 - val_loss: 1.6067 - val_accuracy: 0.2424\n",
            "Epoch 11/20\n",
            "5/5 [==============================] - 1s 198ms/step - loss: 1.1823 - accuracy: 0.4427 - val_loss: 1.5540 - val_accuracy: 0.4242\n",
            "Epoch 12/20\n",
            "5/5 [==============================] - 1s 199ms/step - loss: 1.2061 - accuracy: 0.4046 - val_loss: 1.5241 - val_accuracy: 0.4242\n",
            "Epoch 13/20\n",
            "5/5 [==============================] - 1s 205ms/step - loss: 1.2059 - accuracy: 0.3817 - val_loss: 1.5056 - val_accuracy: 0.4242\n",
            "Epoch 14/20\n",
            "5/5 [==============================] - 1s 198ms/step - loss: 1.1837 - accuracy: 0.3893 - val_loss: 1.4799 - val_accuracy: 0.4242\n",
            "Epoch 15/20\n",
            "5/5 [==============================] - 1s 201ms/step - loss: 1.1330 - accuracy: 0.4733 - val_loss: 1.4914 - val_accuracy: 0.3636\n",
            "Epoch 16/20\n",
            "5/5 [==============================] - 1s 203ms/step - loss: 1.1216 - accuracy: 0.5649 - val_loss: 1.4929 - val_accuracy: 0.3333\n",
            "Epoch 17/20\n",
            "5/5 [==============================] - 1s 205ms/step - loss: 1.0931 - accuracy: 0.5496 - val_loss: 1.5084 - val_accuracy: 0.3030\n",
            "Epoch 18/20\n",
            "5/5 [==============================] - 1s 201ms/step - loss: 1.0766 - accuracy: 0.6107 - val_loss: 1.5034 - val_accuracy: 0.3636\n",
            "Epoch 19/20\n",
            "5/5 [==============================] - 1s 205ms/step - loss: 1.0171 - accuracy: 0.6947 - val_loss: 1.4602 - val_accuracy: 0.4545\n",
            "Epoch 20/20\n",
            "5/5 [==============================] - 1s 202ms/step - loss: 0.9516 - accuracy: 0.6794 - val_loss: 1.4569 - val_accuracy: 0.4545\n"
          ]
        }
      ]
    },
    {
      "cell_type": "code",
      "execution_count": 25,
      "metadata": {
        "colab": {
          "base_uri": "https://localhost:8080/",
          "height": 541
        },
        "id": "SgQ78YZIGPtV",
        "outputId": "c0b85bc7-05c5-457b-d098-e23c33abbf07"
      },
      "outputs": [
        {
          "output_type": "display_data",
          "data": {
            "image/png": "[encoded data removed]",
            "text/plain": [
              "<Figure size 432x288 with 1 Axes>"
            ]
          },
          "metadata": {
            "needs_background": "light"
          }
        },
        {
          "output_type": "display_data",
          "data": {
            "image/png": "[encoded data removed]",
            "text/plain": [
              "<Figure size 432x288 with 1 Axes>"
            ]
          },
          "metadata": {
            "needs_background": "light"
          }
        }
      ],
      "source": [
        "import matplotlib.pyplot as plt\n",
        "\n",
        "def plot_graphs(history, string):\n",
        "  plt.plot(history.history[string])\n",
        "  plt.plot(history.history['val_'+string])\n",
        "  plt.xlabel(\"Epochs\")\n",
        "  plt.ylabel(string)\n",
        "  plt.legend([string, 'val_'+string])\n",
        "  plt.show()\n",
        "  \n",
        "plot_graphs(history, \"accuracy\")\n",
        "plot_graphs(history, \"loss\")"
      ]
    },
    {
      "cell_type": "markdown",
      "source": [
        "The results of the LSTM performing supervised classification."
      ],
      "metadata": {
        "id": "nXCwVonTmsBz"
      }
    },
    {
      "cell_type": "markdown",
      "metadata": {
        "id": "XzZlkN-gI9xW"
      },
      "source": [
        "## Task 2: Figuring out how to classify Learners by Motivation"
      ]
    },
    {
      "cell_type": "markdown",
      "metadata": {
        "id": "HqiQAsQPuLLZ"
      },
      "source": [
        "### Pre-Processing Data"
      ]
    },
    {
      "cell_type": "code",
      "source": [
        "df_reddit"
      ],
      "metadata": {
        "colab": {
          "base_uri": "https://localhost:8080/",
          "height": 791
        },
        "id": "hktdHvLInG8l",
        "outputId": "b0e817c5-beb4-4e1a-c972-8fe0db4dbf29"
      },
      "execution_count": 26,
      "outputs": [
        {
          "output_type": "execute_result",
          "data": {
            "text/html": [
              "<div>\n",
              "<style scoped>\n",
              "    .dataframe tbody tr th:only-of-type {\n",
              "        vertical-align: middle;\n",
              "    }\n",
              "\n",
              "    .dataframe tbody tr th {\n",
              "        vertical-align: top;\n",
              "    }\n",
              "\n",
              "    .dataframe thead th {\n",
              "        text-align: right;\n",
              "    }\n",
              "</style>\n",
              "<table border=\"1\" class=\"dataframe\">\n",
              "  <thead>\n",
              "    <tr style=\"text-align: right;\">\n",
              "      <th></th>\n",
              "      <th>author</th>\n",
              "      <th>author_created_utc</th>\n",
              "      <th>author_flair_background_color</th>\n",
              "      <th>author_flair_css_class</th>\n",
              "      <th>author_flair_richtext</th>\n",
              "      <th>author_flair_template_id</th>\n",
              "      <th>author_flair_text</th>\n",
              "      <th>author_flair_text_color</th>\n",
              "      <th>author_flair_type</th>\n",
              "      <th>author_fullname</th>\n",
              "      <th>author_patreon_flair</th>\n",
              "      <th>body</th>\n",
              "      <th>can_gild</th>\n",
              "      <th>can_mod_post</th>\n",
              "      <th>collapsed</th>\n",
              "      <th>collapsed_reason</th>\n",
              "      <th>controversiality</th>\n",
              "      <th>created_utc</th>\n",
              "      <th>distinguished</th>\n",
              "      <th>edited</th>\n",
              "      <th>gilded</th>\n",
              "      <th>gildings</th>\n",
              "      <th>id</th>\n",
              "      <th>is_submitter</th>\n",
              "      <th>link_id</th>\n",
              "      <th>no_follow</th>\n",
              "      <th>parent_id</th>\n",
              "      <th>permalink</th>\n",
              "      <th>removal_reason</th>\n",
              "      <th>retrieved_on</th>\n",
              "      <th>score</th>\n",
              "      <th>send_replies</th>\n",
              "      <th>stickied</th>\n",
              "      <th>subreddit</th>\n",
              "      <th>subreddit_id</th>\n",
              "      <th>subreddit_name_prefixed</th>\n",
              "      <th>subreddit_type</th>\n",
              "      <th>author_cakeday</th>\n",
              "      <th>quarantined</th>\n",
              "      <th>locked</th>\n",
              "      <th>all_awardings</th>\n",
              "      <th>total_awards_received</th>\n",
              "      <th>steward_reports</th>\n",
              "      <th>awarders</th>\n",
              "      <th>associated_award</th>\n",
              "      <th>collapsed_because_crowd_control</th>\n",
              "      <th>author_premium</th>\n",
              "    </tr>\n",
              "  </thead>\n",
              "  <tbody>\n",
              "    <tr>\n",
              "      <th>0</th>\n",
              "      <td>gloix</td>\n",
              "      <td>1.314202e+09</td>\n",
              "      <td>None</td>\n",
              "      <td>None</td>\n",
              "      <td>[]</td>\n",
              "      <td>None</td>\n",
              "      <td>None</td>\n",
              "      <td>None</td>\n",
              "      <td>text</td>\n",
              "      <td>t2_5q1bq</td>\n",
              "      <td>False</td>\n",
              "      <td>You can say that when you've already ordered a...</td>\n",
              "      <td>True</td>\n",
              "      <td>False</td>\n",
              "      <td>False</td>\n",
              "      <td>None</td>\n",
              "      <td>0</td>\n",
              "      <td>1546300964</td>\n",
              "      <td>None</td>\n",
              "      <td>False</td>\n",
              "      <td>0</td>\n",
              "      <td>{'gid_1': 0, 'gid_2': 0, 'gid_3': 0}</td>\n",
              "      <td>eczb5ii</td>\n",
              "      <td>False</td>\n",
              "      <td>t3_aaz2g9</td>\n",
              "      <td>True</td>\n",
              "      <td>t1_ecygmis</td>\n",
              "      <td>/r/Spanish/comments/aaz2g9/when_ordering_food_...</td>\n",
              "      <td>None</td>\n",
              "      <td>1550712660</td>\n",
              "      <td>1</td>\n",
              "      <td>True</td>\n",
              "      <td>False</td>\n",
              "      <td>Spanish</td>\n",
              "      <td>t5_2qtt1</td>\n",
              "      <td>r/Spanish</td>\n",
              "      <td>public</td>\n",
              "      <td>NaN</td>\n",
              "      <td>NaN</td>\n",
              "      <td>NaN</td>\n",
              "      <td>NaN</td>\n",
              "      <td>NaN</td>\n",
              "      <td>NaN</td>\n",
              "      <td>NaN</td>\n",
              "      <td>NaN</td>\n",
              "      <td>NaN</td>\n",
              "      <td>NaN</td>\n",
              "    </tr>\n",
              "    <tr>\n",
              "      <th>1</th>\n",
              "      <td>garbagecoder</td>\n",
              "      <td>1.434302e+09</td>\n",
              "      <td></td>\n",
              "      <td>second</td>\n",
              "      <td>[{'e': 'text', 't': 'C1'}]</td>\n",
              "      <td>None</td>\n",
              "      <td>C1</td>\n",
              "      <td>dark</td>\n",
              "      <td>richtext</td>\n",
              "      <td>t2_o3ucv</td>\n",
              "      <td>False</td>\n",
              "      <td>Thank you. There are some language where the l...</td>\n",
              "      <td>True</td>\n",
              "      <td>False</td>\n",
              "      <td>False</td>\n",
              "      <td>None</td>\n",
              "      <td>0</td>\n",
              "      <td>1546301446</td>\n",
              "      <td>None</td>\n",
              "      <td>False</td>\n",
              "      <td>0</td>\n",
              "      <td>{'gid_1': 0, 'gid_2': 0, 'gid_3': 0}</td>\n",
              "      <td>eczbpj8</td>\n",
              "      <td>True</td>\n",
              "      <td>t3_ab9dr8</td>\n",
              "      <td>True</td>\n",
              "      <td>t1_ecz24yd</td>\n",
              "      <td>/r/Spanish/comments/ab9dr8/data_on_spanish_for...</td>\n",
              "      <td>None</td>\n",
              "      <td>1550712907</td>\n",
              "      <td>2</td>\n",
              "      <td>True</td>\n",
              "      <td>False</td>\n",
              "      <td>Spanish</td>\n",
              "      <td>t5_2qtt1</td>\n",
              "      <td>r/Spanish</td>\n",
              "      <td>public</td>\n",
              "      <td>NaN</td>\n",
              "      <td>NaN</td>\n",
              "      <td>NaN</td>\n",
              "      <td>NaN</td>\n",
              "      <td>NaN</td>\n",
              "      <td>NaN</td>\n",
              "      <td>NaN</td>\n",
              "      <td>NaN</td>\n",
              "      <td>NaN</td>\n",
              "      <td>NaN</td>\n",
              "    </tr>\n",
              "    <tr>\n",
              "      <th>2</th>\n",
              "      <td>gatosol</td>\n",
              "      <td>1.477917e+09</td>\n",
              "      <td>#46d160</td>\n",
              "      <td>native</td>\n",
              "      <td>[{'e': 'text', 't': '🇮🇨 Canarias (África) 🐱 Na...</td>\n",
              "      <td>ed67a04a-9a87-11e2-9ee1-12313b06caaf</td>\n",
              "      <td>🇮🇨 Canarias (África) 🐱 Native Spanish</td>\n",
              "      <td>light</td>\n",
              "      <td>richtext</td>\n",
              "      <td>t2_12hxof</td>\n",
              "      <td>False</td>\n",
              "      <td>Fast? \\n\\nhttp://www.youtube.com/watch?v=-W2NP...</td>\n",
              "      <td>True</td>\n",
              "      <td>False</td>\n",
              "      <td>False</td>\n",
              "      <td>None</td>\n",
              "      <td>0</td>\n",
              "      <td>1546301848</td>\n",
              "      <td>None</td>\n",
              "      <td>False</td>\n",
              "      <td>0</td>\n",
              "      <td>{'gid_1': 0, 'gid_2': 0, 'gid_3': 0}</td>\n",
              "      <td>eczc6fx</td>\n",
              "      <td>False</td>\n",
              "      <td>t3_abcgjr</td>\n",
              "      <td>False</td>\n",
              "      <td>t3_abcgjr</td>\n",
              "      <td>/r/Spanish/comments/abcgjr/fast_speaking_youtu...</td>\n",
              "      <td>None</td>\n",
              "      <td>1550713115</td>\n",
              "      <td>3</td>\n",
              "      <td>True</td>\n",
              "      <td>False</td>\n",
              "      <td>Spanish</td>\n",
              "      <td>t5_2qtt1</td>\n",
              "      <td>r/Spanish</td>\n",
              "      <td>public</td>\n",
              "      <td>NaN</td>\n",
              "      <td>NaN</td>\n",
              "      <td>NaN</td>\n",
              "      <td>NaN</td>\n",
              "      <td>NaN</td>\n",
              "      <td>NaN</td>\n",
              "      <td>NaN</td>\n",
              "      <td>NaN</td>\n",
              "      <td>NaN</td>\n",
              "      <td>NaN</td>\n",
              "    </tr>\n",
              "    <tr>\n",
              "      <th>3</th>\n",
              "      <td>gloix</td>\n",
              "      <td>1.314202e+09</td>\n",
              "      <td>None</td>\n",
              "      <td>None</td>\n",
              "      <td>[]</td>\n",
              "      <td>None</td>\n",
              "      <td>None</td>\n",
              "      <td>None</td>\n",
              "      <td>text</td>\n",
              "      <td>t2_5q1bq</td>\n",
              "      <td>False</td>\n",
              "      <td>Chile? I have never heard someone say \"me pone...</td>\n",
              "      <td>True</td>\n",
              "      <td>False</td>\n",
              "      <td>False</td>\n",
              "      <td>None</td>\n",
              "      <td>0</td>\n",
              "      <td>1546301907</td>\n",
              "      <td>None</td>\n",
              "      <td>False</td>\n",
              "      <td>0</td>\n",
              "      <td>{'gid_1': 0, 'gid_2': 0, 'gid_3': 0}</td>\n",
              "      <td>eczc8r2</td>\n",
              "      <td>False</td>\n",
              "      <td>t3_aaz2g9</td>\n",
              "      <td>True</td>\n",
              "      <td>t1_ecwk6pu</td>\n",
              "      <td>/r/Spanish/comments/aaz2g9/when_ordering_food_...</td>\n",
              "      <td>None</td>\n",
              "      <td>1550713145</td>\n",
              "      <td>1</td>\n",
              "      <td>True</td>\n",
              "      <td>False</td>\n",
              "      <td>Spanish</td>\n",
              "      <td>t5_2qtt1</td>\n",
              "      <td>r/Spanish</td>\n",
              "      <td>public</td>\n",
              "      <td>NaN</td>\n",
              "      <td>NaN</td>\n",
              "      <td>NaN</td>\n",
              "      <td>NaN</td>\n",
              "      <td>NaN</td>\n",
              "      <td>NaN</td>\n",
              "      <td>NaN</td>\n",
              "      <td>NaN</td>\n",
              "      <td>NaN</td>\n",
              "      <td>NaN</td>\n",
              "    </tr>\n",
              "    <tr>\n",
              "      <th>4</th>\n",
              "      <td>brog88</td>\n",
              "      <td>1.499983e+09</td>\n",
              "      <td>None</td>\n",
              "      <td>None</td>\n",
              "      <td>[]</td>\n",
              "      <td>None</td>\n",
              "      <td>None</td>\n",
              "      <td>None</td>\n",
              "      <td>text</td>\n",
              "      <td>t2_6z3h9m2</td>\n",
              "      <td>False</td>\n",
              "      <td>¡Feliz Año Nuevo! También he estado viendo las...</td>\n",
              "      <td>True</td>\n",
              "      <td>False</td>\n",
              "      <td>False</td>\n",
              "      <td>None</td>\n",
              "      <td>0</td>\n",
              "      <td>1546302339</td>\n",
              "      <td>None</td>\n",
              "      <td>False</td>\n",
              "      <td>0</td>\n",
              "      <td>{'gid_1': 0, 'gid_2': 0, 'gid_3': 0}</td>\n",
              "      <td>eczcqr0</td>\n",
              "      <td>False</td>\n",
              "      <td>t3_abcugt</td>\n",
              "      <td>False</td>\n",
              "      <td>t3_abcugt</td>\n",
              "      <td>/r/Spanish/comments/abcugt/feliz_año_nuevo_201...</td>\n",
              "      <td>None</td>\n",
              "      <td>1550713397</td>\n",
              "      <td>9</td>\n",
              "      <td>True</td>\n",
              "      <td>False</td>\n",
              "      <td>Spanish</td>\n",
              "      <td>t5_2qtt1</td>\n",
              "      <td>r/Spanish</td>\n",
              "      <td>public</td>\n",
              "      <td>NaN</td>\n",
              "      <td>NaN</td>\n",
              "      <td>NaN</td>\n",
              "      <td>NaN</td>\n",
              "      <td>NaN</td>\n",
              "      <td>NaN</td>\n",
              "      <td>NaN</td>\n",
              "      <td>NaN</td>\n",
              "      <td>NaN</td>\n",
              "      <td>NaN</td>\n",
              "    </tr>\n",
              "    <tr>\n",
              "      <th>...</th>\n",
              "      <td>...</td>\n",
              "      <td>...</td>\n",
              "      <td>...</td>\n",
              "      <td>...</td>\n",
              "      <td>...</td>\n",
              "      <td>...</td>\n",
              "      <td>...</td>\n",
              "      <td>...</td>\n",
              "      <td>...</td>\n",
              "      <td>...</td>\n",
              "      <td>...</td>\n",
              "      <td>...</td>\n",
              "      <td>...</td>\n",
              "      <td>...</td>\n",
              "      <td>...</td>\n",
              "      <td>...</td>\n",
              "      <td>...</td>\n",
              "      <td>...</td>\n",
              "      <td>...</td>\n",
              "      <td>...</td>\n",
              "      <td>...</td>\n",
              "      <td>...</td>\n",
              "      <td>...</td>\n",
              "      <td>...</td>\n",
              "      <td>...</td>\n",
              "      <td>...</td>\n",
              "      <td>...</td>\n",
              "      <td>...</td>\n",
              "      <td>...</td>\n",
              "      <td>...</td>\n",
              "      <td>...</td>\n",
              "      <td>...</td>\n",
              "      <td>...</td>\n",
              "      <td>...</td>\n",
              "      <td>...</td>\n",
              "      <td>...</td>\n",
              "      <td>...</td>\n",
              "      <td>...</td>\n",
              "      <td>...</td>\n",
              "      <td>...</td>\n",
              "      <td>...</td>\n",
              "      <td>...</td>\n",
              "      <td>...</td>\n",
              "      <td>...</td>\n",
              "      <td>...</td>\n",
              "      <td>...</td>\n",
              "      <td>...</td>\n",
              "    </tr>\n",
              "    <tr>\n",
              "      <th>79886</th>\n",
              "      <td>Goatlessly</td>\n",
              "      <td>1.532500e+09</td>\n",
              "      <td>None</td>\n",
              "      <td>None</td>\n",
              "      <td>[]</td>\n",
              "      <td>None</td>\n",
              "      <td>None</td>\n",
              "      <td>None</td>\n",
              "      <td>text</td>\n",
              "      <td>t2_1ulehyr1</td>\n",
              "      <td>False</td>\n",
              "      <td>Te lo resumo</td>\n",
              "      <td>True</td>\n",
              "      <td>False</td>\n",
              "      <td>False</td>\n",
              "      <td>None</td>\n",
              "      <td>0</td>\n",
              "      <td>1569887499</td>\n",
              "      <td>None</td>\n",
              "      <td>False</td>\n",
              "      <td>0</td>\n",
              "      <td>{}</td>\n",
              "      <td>f22emdg</td>\n",
              "      <td>False</td>\n",
              "      <td>t3_dbff5h</td>\n",
              "      <td>True</td>\n",
              "      <td>t3_dbff5h</td>\n",
              "      <td>/r/learnspanish/comments/dbff5h/can_someone_re...</td>\n",
              "      <td>None</td>\n",
              "      <td>1578011733</td>\n",
              "      <td>2</td>\n",
              "      <td>True</td>\n",
              "      <td>False</td>\n",
              "      <td>learnspanish</td>\n",
              "      <td>t5_2rd6d</td>\n",
              "      <td>r/learnspanish</td>\n",
              "      <td>public</td>\n",
              "      <td>NaN</td>\n",
              "      <td>False</td>\n",
              "      <td>False</td>\n",
              "      <td>[]</td>\n",
              "      <td>0.0</td>\n",
              "      <td>[]</td>\n",
              "      <td>[]</td>\n",
              "      <td>NaN</td>\n",
              "      <td>NaN</td>\n",
              "      <td>False</td>\n",
              "    </tr>\n",
              "    <tr>\n",
              "      <th>79887</th>\n",
              "      <td>stvbeev</td>\n",
              "      <td>1.513914e+09</td>\n",
              "      <td>None</td>\n",
              "      <td>None</td>\n",
              "      <td>[]</td>\n",
              "      <td>None</td>\n",
              "      <td>None</td>\n",
              "      <td>None</td>\n",
              "      <td>text</td>\n",
              "      <td>t2_4iyofhk</td>\n",
              "      <td>False</td>\n",
              "      <td>It’s usually presented as a dichotomy, but eac...</td>\n",
              "      <td>True</td>\n",
              "      <td>False</td>\n",
              "      <td>False</td>\n",
              "      <td>None</td>\n",
              "      <td>0</td>\n",
              "      <td>1569887598</td>\n",
              "      <td>None</td>\n",
              "      <td>False</td>\n",
              "      <td>0</td>\n",
              "      <td>{}</td>\n",
              "      <td>f22es6l</td>\n",
              "      <td>False</td>\n",
              "      <td>t3_dbkdc0</td>\n",
              "      <td>True</td>\n",
              "      <td>t3_dbkdc0</td>\n",
              "      <td>/r/Spanish/comments/dbkdc0/what_are_some_diffe...</td>\n",
              "      <td>None</td>\n",
              "      <td>1578011813</td>\n",
              "      <td>7</td>\n",
              "      <td>True</td>\n",
              "      <td>False</td>\n",
              "      <td>Spanish</td>\n",
              "      <td>t5_2qtt1</td>\n",
              "      <td>r/Spanish</td>\n",
              "      <td>public</td>\n",
              "      <td>NaN</td>\n",
              "      <td>False</td>\n",
              "      <td>False</td>\n",
              "      <td>[]</td>\n",
              "      <td>0.0</td>\n",
              "      <td>[]</td>\n",
              "      <td>[]</td>\n",
              "      <td>NaN</td>\n",
              "      <td>NaN</td>\n",
              "      <td>False</td>\n",
              "    </tr>\n",
              "    <tr>\n",
              "      <th>79888</th>\n",
              "      <td>Rumope</td>\n",
              "      <td>1.397216e+09</td>\n",
              "      <td>None</td>\n",
              "      <td>None</td>\n",
              "      <td>[]</td>\n",
              "      <td>None</td>\n",
              "      <td>None</td>\n",
              "      <td>None</td>\n",
              "      <td>text</td>\n",
              "      <td>t2_g2tva</td>\n",
              "      <td>False</td>\n",
              "      <td>Some sentences like \"A comer\" or \"A la playa\" ...</td>\n",
              "      <td>True</td>\n",
              "      <td>False</td>\n",
              "      <td>False</td>\n",
              "      <td>None</td>\n",
              "      <td>0</td>\n",
              "      <td>1569887809</td>\n",
              "      <td>None</td>\n",
              "      <td>False</td>\n",
              "      <td>0</td>\n",
              "      <td>{}</td>\n",
              "      <td>f22f51w</td>\n",
              "      <td>False</td>\n",
              "      <td>t3_db5g7n</td>\n",
              "      <td>True</td>\n",
              "      <td>t1_f227n41</td>\n",
              "      <td>/r/Spanish/comments/db5g7n/shortcut_phrases_li...</td>\n",
              "      <td>None</td>\n",
              "      <td>1578011979</td>\n",
              "      <td>2</td>\n",
              "      <td>True</td>\n",
              "      <td>False</td>\n",
              "      <td>Spanish</td>\n",
              "      <td>t5_2qtt1</td>\n",
              "      <td>r/Spanish</td>\n",
              "      <td>public</td>\n",
              "      <td>NaN</td>\n",
              "      <td>False</td>\n",
              "      <td>False</td>\n",
              "      <td>[]</td>\n",
              "      <td>0.0</td>\n",
              "      <td>[]</td>\n",
              "      <td>[]</td>\n",
              "      <td>NaN</td>\n",
              "      <td>NaN</td>\n",
              "      <td>False</td>\n",
              "    </tr>\n",
              "    <tr>\n",
              "      <th>79889</th>\n",
              "      <td>KingsElite</td>\n",
              "      <td>1.343486e+09</td>\n",
              "      <td>#e87500</td>\n",
              "      <td>None</td>\n",
              "      <td>[{'e': 'text', 't': 'Perfecting it'}]</td>\n",
              "      <td>1b663862-23b7-11e4-9a5d-12313b0e94e7</td>\n",
              "      <td>Perfecting it</td>\n",
              "      <td>light</td>\n",
              "      <td>richtext</td>\n",
              "      <td>t2_8hd71</td>\n",
              "      <td>False</td>\n",
              "      <td>I studied in Xela in 2017 and felt perfectly s...</td>\n",
              "      <td>True</td>\n",
              "      <td>False</td>\n",
              "      <td>False</td>\n",
              "      <td>None</td>\n",
              "      <td>0</td>\n",
              "      <td>1569887898</td>\n",
              "      <td>None</td>\n",
              "      <td>False</td>\n",
              "      <td>0</td>\n",
              "      <td>{}</td>\n",
              "      <td>f22fac8</td>\n",
              "      <td>False</td>\n",
              "      <td>t3_dbdhx0</td>\n",
              "      <td>False</td>\n",
              "      <td>t3_dbdhx0</td>\n",
              "      <td>/r/learnspanish/comments/dbdhx0/spanish_school...</td>\n",
              "      <td>None</td>\n",
              "      <td>1578012045</td>\n",
              "      <td>5</td>\n",
              "      <td>True</td>\n",
              "      <td>False</td>\n",
              "      <td>learnspanish</td>\n",
              "      <td>t5_2rd6d</td>\n",
              "      <td>r/learnspanish</td>\n",
              "      <td>public</td>\n",
              "      <td>NaN</td>\n",
              "      <td>False</td>\n",
              "      <td>False</td>\n",
              "      <td>[]</td>\n",
              "      <td>0.0</td>\n",
              "      <td>[]</td>\n",
              "      <td>[]</td>\n",
              "      <td>NaN</td>\n",
              "      <td>NaN</td>\n",
              "      <td>False</td>\n",
              "    </tr>\n",
              "    <tr>\n",
              "      <th>79890</th>\n",
              "      <td>grynfux</td>\n",
              "      <td>1.434911e+09</td>\n",
              "      <td>None</td>\n",
              "      <td>None</td>\n",
              "      <td>[]</td>\n",
              "      <td>None</td>\n",
              "      <td>None</td>\n",
              "      <td>None</td>\n",
              "      <td>text</td>\n",
              "      <td>t2_o94ci</td>\n",
              "      <td>False</td>\n",
              "      <td>Ú is to denote stress on the u.\\n\\nÜ is to den...</td>\n",
              "      <td>True</td>\n",
              "      <td>False</td>\n",
              "      <td>False</td>\n",
              "      <td>None</td>\n",
              "      <td>0</td>\n",
              "      <td>1569887962</td>\n",
              "      <td>None</td>\n",
              "      <td>False</td>\n",
              "      <td>0</td>\n",
              "      <td>{}</td>\n",
              "      <td>f22fe8g</td>\n",
              "      <td>False</td>\n",
              "      <td>t3_dbi5yz</td>\n",
              "      <td>True</td>\n",
              "      <td>t3_dbi5yz</td>\n",
              "      <td>/r/Spanish/comments/dbi5yz/what_if_there_was_a...</td>\n",
              "      <td>None</td>\n",
              "      <td>1578012096</td>\n",
              "      <td>1</td>\n",
              "      <td>True</td>\n",
              "      <td>False</td>\n",
              "      <td>Spanish</td>\n",
              "      <td>t5_2qtt1</td>\n",
              "      <td>r/Spanish</td>\n",
              "      <td>public</td>\n",
              "      <td>NaN</td>\n",
              "      <td>False</td>\n",
              "      <td>False</td>\n",
              "      <td>[]</td>\n",
              "      <td>0.0</td>\n",
              "      <td>[]</td>\n",
              "      <td>[]</td>\n",
              "      <td>NaN</td>\n",
              "      <td>NaN</td>\n",
              "      <td>False</td>\n",
              "    </tr>\n",
              "  </tbody>\n",
              "</table>\n",
              "<p>79891 rows × 47 columns</p>\n",
              "</div>"
            ],
            "text/plain": [
              "             author  ...  author_premium\n",
              "0             gloix  ...             NaN\n",
              "1      garbagecoder  ...             NaN\n",
              "2           gatosol  ...             NaN\n",
              "3             gloix  ...             NaN\n",
              "4            brog88  ...             NaN\n",
              "...             ...  ...             ...\n",
              "79886    Goatlessly  ...           False\n",
              "79887       stvbeev  ...           False\n",
              "79888        Rumope  ...           False\n",
              "79889    KingsElite  ...           False\n",
              "79890       grynfux  ...           False\n",
              "\n",
              "[79891 rows x 47 columns]"
            ]
          },
          "metadata": {},
          "execution_count": 26
        }
      ]
    },
    {
      "cell_type": "markdown",
      "metadata": {
        "id": "U4CVa8zrB_Sj"
      },
      "source": [
        "First, we will specify which columns to keep, dropping unimportant information to our task about background text and gildings. Then we are dropping posts that have a deleted author since we won't be able to connect it to other posts. We are also adding a column to reformat the timestamp when the post was created. We are then going to index by the author id to keep a hierarchy."
      ]
    },
    {
      "cell_type": "code",
      "execution_count": 27,
      "metadata": {
        "colab": {
          "base_uri": "https://localhost:8080/",
          "height": 927
        },
        "id": "SlJbtdXHrBS9",
        "outputId": "6df386b8-ce79-45ec-8412-4b542a92e51a"
      },
      "outputs": [
        {
          "output_type": "execute_result",
          "data": {
            "text/html": [
              "<div>\n",
              "<style scoped>\n",
              "    .dataframe tbody tr th:only-of-type {\n",
              "        vertical-align: middle;\n",
              "    }\n",
              "\n",
              "    .dataframe tbody tr th {\n",
              "        vertical-align: top;\n",
              "    }\n",
              "\n",
              "    .dataframe thead th {\n",
              "        text-align: right;\n",
              "    }\n",
              "</style>\n",
              "<table border=\"1\" class=\"dataframe\">\n",
              "  <thead>\n",
              "    <tr style=\"text-align: right;\">\n",
              "      <th></th>\n",
              "      <th></th>\n",
              "      <th>author</th>\n",
              "      <th>author_flair_text</th>\n",
              "      <th>body</th>\n",
              "      <th>created_utc</th>\n",
              "      <th>is_submitter</th>\n",
              "      <th>link_id</th>\n",
              "      <th>no_follow</th>\n",
              "      <th>parent_id</th>\n",
              "      <th>permalink</th>\n",
              "      <th>score</th>\n",
              "      <th>subreddit</th>\n",
              "      <th>subreddit_id</th>\n",
              "    </tr>\n",
              "    <tr>\n",
              "      <th>author_fullname</th>\n",
              "      <th>id</th>\n",
              "      <th></th>\n",
              "      <th></th>\n",
              "      <th></th>\n",
              "      <th></th>\n",
              "      <th></th>\n",
              "      <th></th>\n",
              "      <th></th>\n",
              "      <th></th>\n",
              "      <th></th>\n",
              "      <th></th>\n",
              "      <th></th>\n",
              "      <th></th>\n",
              "    </tr>\n",
              "  </thead>\n",
              "  <tbody>\n",
              "    <tr>\n",
              "      <th rowspan=\"2\" valign=\"top\">t2_100byr</th>\n",
              "      <th>evuk9t6</th>\n",
              "      <td>JOJOawestruck</td>\n",
              "      <td>None</td>\n",
              "      <td>how did you practice? just by going through th...</td>\n",
              "      <td>1564797639</td>\n",
              "      <td>False</td>\n",
              "      <td>t3_cjs76f</td>\n",
              "      <td>True</td>\n",
              "      <td>t1_evg61tw</td>\n",
              "      <td>/r/learnspanish/comments/cjs76f/television_tra...</td>\n",
              "      <td>1</td>\n",
              "      <td>learnspanish</td>\n",
              "      <td>t5_2rd6d</td>\n",
              "    </tr>\n",
              "    <tr>\n",
              "      <th>evug5dj</th>\n",
              "      <td>JOJOawestruck</td>\n",
              "      <td>None</td>\n",
              "      <td>any good sites? and would it also help if I wa...</td>\n",
              "      <td>1564794329</td>\n",
              "      <td>False</td>\n",
              "      <td>t3_ciqq1a</td>\n",
              "      <td>True</td>\n",
              "      <td>t1_evd6kfh</td>\n",
              "      <td>/r/learnspanish/comments/ciqq1a/what_ways_do_y...</td>\n",
              "      <td>1</td>\n",
              "      <td>learnspanish</td>\n",
              "      <td>t5_2rd6d</td>\n",
              "    </tr>\n",
              "    <tr>\n",
              "      <th rowspan=\"3\" valign=\"top\">t2_100irc</th>\n",
              "      <th>evzk75r</th>\n",
              "      <td>FinnTheFierce</td>\n",
              "      <td>None</td>\n",
              "      <td>Se puede usarlo en una canción? Solo quiero sa...</td>\n",
              "      <td>1564959738</td>\n",
              "      <td>True</td>\n",
              "      <td>t3_cm2hd1</td>\n",
              "      <td>True</td>\n",
              "      <td>t1_evzjsfe</td>\n",
              "      <td>/r/Spanish/comments/cm2hd1/para_siempre_vs_por...</td>\n",
              "      <td>1</td>\n",
              "      <td>Spanish</td>\n",
              "      <td>t5_2qtt1</td>\n",
              "    </tr>\n",
              "    <tr>\n",
              "      <th>evzom0r</th>\n",
              "      <td>FinnTheFierce</td>\n",
              "      <td>None</td>\n",
              "      <td>No creo que se pueda intercambiarlos... quizá ...</td>\n",
              "      <td>1564963109</td>\n",
              "      <td>False</td>\n",
              "      <td>t3_cm2k4t</td>\n",
              "      <td>True</td>\n",
              "      <td>t1_evzo347</td>\n",
              "      <td>/r/Spanish/comments/cm2k4t/can_articles_be_use...</td>\n",
              "      <td>2</td>\n",
              "      <td>Spanish</td>\n",
              "      <td>t5_2qtt1</td>\n",
              "    </tr>\n",
              "    <tr>\n",
              "      <th>eunnx3y</th>\n",
              "      <td>FinnTheFierce</td>\n",
              "      <td>None</td>\n",
              "      <td>Sí, podía haber usado un mejor ejemplo. \\n\\n“S...</td>\n",
              "      <td>1563931252</td>\n",
              "      <td>True</td>\n",
              "      <td>t3_ch1drw</td>\n",
              "      <td>True</td>\n",
              "      <td>t1_eunn4if</td>\n",
              "      <td>/r/Spanish/comments/ch1drw/por_que_a_veces_se_...</td>\n",
              "      <td>6</td>\n",
              "      <td>Spanish</td>\n",
              "      <td>t5_2qtt1</td>\n",
              "    </tr>\n",
              "    <tr>\n",
              "      <th>...</th>\n",
              "      <th>...</th>\n",
              "      <td>...</td>\n",
              "      <td>...</td>\n",
              "      <td>...</td>\n",
              "      <td>...</td>\n",
              "      <td>...</td>\n",
              "      <td>...</td>\n",
              "      <td>...</td>\n",
              "      <td>...</td>\n",
              "      <td>...</td>\n",
              "      <td>...</td>\n",
              "      <td>...</td>\n",
              "      <td>...</td>\n",
              "    </tr>\n",
              "    <tr>\n",
              "      <th rowspan=\"5\" valign=\"top\">t2_zzree</th>\n",
              "      <th>eibf8z7</th>\n",
              "      <td>LangGeek</td>\n",
              "      <td>B2</td>\n",
              "      <td>De acuerdo pero como estudiante del idioma que...</td>\n",
              "      <td>1552349607</td>\n",
              "      <td>False</td>\n",
              "      <td>t3_azuf1x</td>\n",
              "      <td>False</td>\n",
              "      <td>t1_eibeztj</td>\n",
              "      <td>/r/Spanish/comments/azuf1x/cuál_es_tu_idioma_n...</td>\n",
              "      <td>4</td>\n",
              "      <td>Spanish</td>\n",
              "      <td>t5_2qtt1</td>\n",
              "    </tr>\n",
              "    <tr>\n",
              "      <th>evxgej4</th>\n",
              "      <td>LangGeek</td>\n",
              "      <td>B2</td>\n",
              "      <td>A popular thing to say in american spanish (an...</td>\n",
              "      <td>1564891603</td>\n",
              "      <td>False</td>\n",
              "      <td>t3_clr9tt</td>\n",
              "      <td>True</td>\n",
              "      <td>t3_clr9tt</td>\n",
              "      <td>/r/Spanish/comments/clr9tt/how_to_say_fuck_him...</td>\n",
              "      <td>2</td>\n",
              "      <td>Spanish</td>\n",
              "      <td>t5_2qtt1</td>\n",
              "    </tr>\n",
              "    <tr>\n",
              "      <th>ek7ujxj</th>\n",
              "      <td>LangGeek</td>\n",
              "      <td>B2</td>\n",
              "      <td>Para distinguir los sonidos \"gui\" y \"güi\". Con...</td>\n",
              "      <td>1554510972</td>\n",
              "      <td>False</td>\n",
              "      <td>t3_b9ybp0</td>\n",
              "      <td>False</td>\n",
              "      <td>t3_b9ybp0</td>\n",
              "      <td>/r/Spanish/comments/b9ybp0/diéresis/ek7ujxj/</td>\n",
              "      <td>7</td>\n",
              "      <td>Spanish</td>\n",
              "      <td>t5_2qtt1</td>\n",
              "    </tr>\n",
              "    <tr>\n",
              "      <th>euotx3g</th>\n",
              "      <td>LangGeek</td>\n",
              "      <td>B2</td>\n",
              "      <td>No hice nunca eso pero pudiera ser bueno para ...</td>\n",
              "      <td>1563946837</td>\n",
              "      <td>False</td>\n",
              "      <td>t3_ch4053</td>\n",
              "      <td>False</td>\n",
              "      <td>t3_ch4053</td>\n",
              "      <td>/r/Spanish/comments/ch4053/una_pregunta/euotx3g/</td>\n",
              "      <td>8</td>\n",
              "      <td>Spanish</td>\n",
              "      <td>t5_2qtt1</td>\n",
              "    </tr>\n",
              "    <tr>\n",
              "      <th>ejsn961</th>\n",
              "      <td>LangGeek</td>\n",
              "      <td>B2</td>\n",
              "      <td>necesario means necessary and necesariamente m...</td>\n",
              "      <td>1554025970</td>\n",
              "      <td>False</td>\n",
              "      <td>t3_b7m2u1</td>\n",
              "      <td>True</td>\n",
              "      <td>t3_b7m2u1</td>\n",
              "      <td>/r/Spanish/comments/b7m2u1/the_difference_of_n...</td>\n",
              "      <td>8</td>\n",
              "      <td>Spanish</td>\n",
              "      <td>t5_2qtt1</td>\n",
              "    </tr>\n",
              "  </tbody>\n",
              "</table>\n",
              "<p>73371 rows × 12 columns</p>\n",
              "</div>"
            ],
            "text/plain": [
              "                                author  ... subreddit_id\n",
              "author_fullname id                      ...             \n",
              "t2_100byr       evuk9t6  JOJOawestruck  ...     t5_2rd6d\n",
              "                evug5dj  JOJOawestruck  ...     t5_2rd6d\n",
              "t2_100irc       evzk75r  FinnTheFierce  ...     t5_2qtt1\n",
              "                evzom0r  FinnTheFierce  ...     t5_2qtt1\n",
              "                eunnx3y  FinnTheFierce  ...     t5_2qtt1\n",
              "...                                ...  ...          ...\n",
              "t2_zzree        eibf8z7       LangGeek  ...     t5_2qtt1\n",
              "                evxgej4       LangGeek  ...     t5_2qtt1\n",
              "                ek7ujxj       LangGeek  ...     t5_2qtt1\n",
              "                euotx3g       LangGeek  ...     t5_2qtt1\n",
              "                ejsn961       LangGeek  ...     t5_2qtt1\n",
              "\n",
              "[73371 rows x 12 columns]"
            ]
          },
          "metadata": {},
          "execution_count": 27
        }
      ],
      "source": [
        "df_r = df_reddit[['author', 'author_fullname', 'author_flair_text', 'id', 'body', 'created_utc', 'is_submitter', 'link_id', 'no_follow', 'parent_id', 'permalink', 'score', 'subreddit', 'subreddit_id']]\n",
        "df_r = df_r.dropna(axis=0, subset=['author_fullname', 'author'])\n",
        "\n",
        "df_r = df_r.sort_values(['author_fullname'])\n",
        "df_r = df_r.set_index(['author_fullname', 'id'])\n",
        "df_r"
      ]
    },
    {
      "cell_type": "markdown",
      "source": [
        "We are adding a timestamp to our posts so that we can have understanding of when the post was made."
      ],
      "metadata": {
        "id": "eT3kpywdn6BF"
      }
    },
    {
      "cell_type": "code",
      "execution_count": 28,
      "metadata": {
        "id": "ZxXqEujv_vlM"
      },
      "outputs": [],
      "source": [
        "from datetime import datetime, timezone\n",
        "\n",
        "utcs = (df_r['created_utc'].astype(int))\n",
        "ts = []\n",
        "month = []\n",
        "for u in utcs:\n",
        "   t = datetime.fromtimestamp(u, tz=timezone.utc)\n",
        "   ts.append(t)\n",
        "   month.append(datetime.strftime(t, '%m'))\n",
        "\n",
        "df_r['timestamp'] = ts\n",
        "df_r['month'] = month"
      ]
    },
    {
      "cell_type": "markdown",
      "metadata": {
        "id": "Fn9aD2azJx0L"
      },
      "source": [
        "### Looking at Data"
      ]
    },
    {
      "cell_type": "markdown",
      "source": [
        "#### Summary Data"
      ],
      "metadata": {
        "id": "EXBIS3q5R0d1"
      }
    },
    {
      "cell_type": "markdown",
      "metadata": {
        "id": "mzlPE_7j-UgK"
      },
      "source": [
        "Now we are going to look at summary statistics for the data."
      ]
    },
    {
      "cell_type": "code",
      "execution_count": 29,
      "metadata": {
        "colab": {
          "base_uri": "https://localhost:8080/"
        },
        "id": "m_jJPtCHLBuP",
        "outputId": "836b0e3a-0482-402d-ccd9-57dadae54d79"
      },
      "outputs": [
        {
          "output_type": "stream",
          "name": "stdout",
          "text": [
            "There are 12092 users in the dataset.\n",
            "\n",
            "There are 52601 posts from the r/Spanish subreddit\n",
            "There are 20770 posts from the r/learninspanish subreddit\n"
          ]
        }
      ],
      "source": [
        "print(\"There are\", df_r.author.nunique(), \"users in the dataset.\\n\")\n",
        "\n",
        "subreddit_user_count = list(df_r['subreddit'].value_counts())\n",
        "\n",
        "print(\"There are\", subreddit_user_count[0], \"posts from the r/Spanish subreddit\")\n",
        "print(\"There are\", subreddit_user_count[1], \"posts from the r/learninspanish subreddit\")"
      ]
    },
    {
      "cell_type": "code",
      "execution_count": 30,
      "metadata": {
        "colab": {
          "base_uri": "https://localhost:8080/"
        },
        "id": "QrRJNCm4BvaQ",
        "outputId": "89b1ddcb-7020-4cbf-9df3-6fc00574c7b7"
      },
      "outputs": [
        {
          "output_type": "execute_result",
          "data": {
            "text/plain": [
              "Native                                       3788\n",
              "Learner                                      3032\n",
              "Native (Spain)                               1316\n",
              "Native Speaker                               1054\n",
              "🇲🇽 (CDMX/GDL)                                 855\n",
              "🇮🇨 Canarias (África) 🐱 Native Spanish         685\n",
              "🇪🇸 España                                     596\n",
              "🇮🇨 Canary Islands (Africa) Native Spanish     590\n",
              "Native (Argentina)                            537\n",
              "MA in Spanish                                 503\n",
              "Name: author_flair_text, dtype: int64"
            ]
          },
          "metadata": {},
          "execution_count": 30
        }
      ],
      "source": [
        "# Most common author flairs\n",
        "df_r['author_flair_text'].value_counts()[:10]"
      ]
    },
    {
      "cell_type": "code",
      "source": [
        "# Average posts by a user\n",
        "df_r.groupby(['author']).size().mean()"
      ],
      "metadata": {
        "colab": {
          "base_uri": "https://localhost:8080/"
        },
        "id": "foRfLiJKQL4R",
        "outputId": "2e8be22a-0d85-42d1-8247-f12cd14c2542"
      },
      "execution_count": 31,
      "outputs": [
        {
          "output_type": "execute_result",
          "data": {
            "text/plain": [
              "6.067730731061859"
            ]
          },
          "metadata": {},
          "execution_count": 31
        }
      ]
    },
    {
      "cell_type": "code",
      "source": [
        "# Average length of a text post in characters\n",
        "df_r['body'].str.len().mean()"
      ],
      "metadata": {
        "colab": {
          "base_uri": "https://localhost:8080/"
        },
        "id": "l9IYC2jfRchW",
        "outputId": "cc77a252-96c1-4903-df99-075c4d47e2e6"
      },
      "execution_count": 32,
      "outputs": [
        {
          "output_type": "execute_result",
          "data": {
            "text/plain": [
              "219.2278420629404"
            ]
          },
          "metadata": {},
          "execution_count": 32
        }
      ]
    },
    {
      "cell_type": "markdown",
      "source": [
        "#### Sample User Data"
      ],
      "metadata": {
        "id": "Y2hPJqZ5RxSM"
      }
    },
    {
      "cell_type": "markdown",
      "metadata": {
        "id": "tqe7RPfeyZS5"
      },
      "source": [
        "Here we can isolate a random user ('gatosol', 't2_12hxof) and try to get an idea of what information we get from their profile and posts."
      ]
    },
    {
      "cell_type": "code",
      "execution_count": 33,
      "metadata": {
        "colab": {
          "base_uri": "https://localhost:8080/",
          "height": 774
        },
        "id": "20C1SAd6tRBe",
        "outputId": "06c84c3c-ea67-4394-972e-cf7a146389e3"
      },
      "outputs": [
        {
          "output_type": "execute_result",
          "data": {
            "text/html": [
              "<div>\n",
              "<style scoped>\n",
              "    .dataframe tbody tr th:only-of-type {\n",
              "        vertical-align: middle;\n",
              "    }\n",
              "\n",
              "    .dataframe tbody tr th {\n",
              "        vertical-align: top;\n",
              "    }\n",
              "\n",
              "    .dataframe thead th {\n",
              "        text-align: right;\n",
              "    }\n",
              "</style>\n",
              "<table border=\"1\" class=\"dataframe\">\n",
              "  <thead>\n",
              "    <tr style=\"text-align: right;\">\n",
              "      <th></th>\n",
              "      <th>id</th>\n",
              "      <th>author</th>\n",
              "      <th>author_flair_text</th>\n",
              "      <th>body</th>\n",
              "      <th>created_utc</th>\n",
              "      <th>is_submitter</th>\n",
              "      <th>link_id</th>\n",
              "      <th>no_follow</th>\n",
              "      <th>parent_id</th>\n",
              "      <th>permalink</th>\n",
              "      <th>score</th>\n",
              "      <th>subreddit</th>\n",
              "      <th>subreddit_id</th>\n",
              "      <th>timestamp</th>\n",
              "      <th>month</th>\n",
              "    </tr>\n",
              "  </thead>\n",
              "  <tbody>\n",
              "    <tr>\n",
              "      <th>0</th>\n",
              "      <td>egofj9a</td>\n",
              "      <td>gatosol</td>\n",
              "      <td>🇮🇨 Canarias (África) 🐱 Native Spanish</td>\n",
              "      <td>Yo aprendí a escribir en la época franquista a...</td>\n",
              "      <td>1550431196</td>\n",
              "      <td>False</td>\n",
              "      <td>t3_armosv</td>\n",
              "      <td>True</td>\n",
              "      <td>t1_egoemi0</td>\n",
              "      <td>/r/Spanish/comments/armosv/nos_vemos_or_nos_be...</td>\n",
              "      <td>0</td>\n",
              "      <td>Spanish</td>\n",
              "      <td>t5_2qtt1</td>\n",
              "      <td>2019-02-17 19:19:56+00:00</td>\n",
              "      <td>02</td>\n",
              "    </tr>\n",
              "    <tr>\n",
              "      <th>1</th>\n",
              "      <td>egonc38</td>\n",
              "      <td>gatosol</td>\n",
              "      <td>🇮🇨 Canarias (África) 🐱 Native Spanish</td>\n",
              "      <td>Pensé que eras inglés nativo. Una vez estuve d...</td>\n",
              "      <td>1550437409</td>\n",
              "      <td>False</td>\n",
              "      <td>t3_arkrih</td>\n",
              "      <td>True</td>\n",
              "      <td>t1_egoiqix</td>\n",
              "      <td>/r/learnspanish/comments/arkrih/what_does_balg...</td>\n",
              "      <td>1</td>\n",
              "      <td>learnspanish</td>\n",
              "      <td>t5_2rd6d</td>\n",
              "      <td>2019-02-17 21:03:29+00:00</td>\n",
              "      <td>02</td>\n",
              "    </tr>\n",
              "    <tr>\n",
              "      <th>2</th>\n",
              "      <td>evwz99y</td>\n",
              "      <td>gatosol</td>\n",
              "      <td>🇮🇨 Canary Islands (Africa)</td>\n",
              "      <td>Electroencefalografista y esternocleidomastoid...</td>\n",
              "      <td>1564877446</td>\n",
              "      <td>False</td>\n",
              "      <td>t3_cloyva</td>\n",
              "      <td>True</td>\n",
              "      <td>t3_cloyva</td>\n",
              "      <td>/r/learnspanish/comments/cloyva/son_palabras_e...</td>\n",
              "      <td>2</td>\n",
              "      <td>learnspanish</td>\n",
              "      <td>t5_2rd6d</td>\n",
              "      <td>2019-08-04 00:10:46+00:00</td>\n",
              "      <td>08</td>\n",
              "    </tr>\n",
              "    <tr>\n",
              "      <th>3</th>\n",
              "      <td>eq9e6cb</td>\n",
              "      <td>gatosol</td>\n",
              "      <td>🇮🇨 Canary Islands (Africa) Native Spanish</td>\n",
              "      <td>¿Puedes escuchar eso sin ser un hablante nativ...</td>\n",
              "      <td>1559902462</td>\n",
              "      <td>False</td>\n",
              "      <td>t3_bxpez8</td>\n",
              "      <td>True</td>\n",
              "      <td>t3_bxpez8</td>\n",
              "      <td>/r/Spanish/comments/bxpez8/lo_que_escucho_en_l...</td>\n",
              "      <td>-1</td>\n",
              "      <td>Spanish</td>\n",
              "      <td>t5_2qtt1</td>\n",
              "      <td>2019-06-07 10:14:22+00:00</td>\n",
              "      <td>06</td>\n",
              "    </tr>\n",
              "    <tr>\n",
              "      <th>4</th>\n",
              "      <td>ei7wf2y</td>\n",
              "      <td>gatosol</td>\n",
              "      <td>🇮🇨 Canarias (África) 🐱 Native Spanish</td>\n",
              "      <td>&amp;gt; ¡Disfrútate!\\n\\n¡Disfrúta***lo***!</td>\n",
              "      <td>1552239935</td>\n",
              "      <td>False</td>\n",
              "      <td>t3_azhwek</td>\n",
              "      <td>True</td>\n",
              "      <td>t3_azhwek</td>\n",
              "      <td>/r/Spanish/comments/azhwek/check_out_this_new_...</td>\n",
              "      <td>3</td>\n",
              "      <td>Spanish</td>\n",
              "      <td>t5_2qtt1</td>\n",
              "      <td>2019-03-10 17:45:35+00:00</td>\n",
              "      <td>03</td>\n",
              "    </tr>\n",
              "    <tr>\n",
              "      <th>...</th>\n",
              "      <td>...</td>\n",
              "      <td>...</td>\n",
              "      <td>...</td>\n",
              "      <td>...</td>\n",
              "      <td>...</td>\n",
              "      <td>...</td>\n",
              "      <td>...</td>\n",
              "      <td>...</td>\n",
              "      <td>...</td>\n",
              "      <td>...</td>\n",
              "      <td>...</td>\n",
              "      <td>...</td>\n",
              "      <td>...</td>\n",
              "      <td>...</td>\n",
              "      <td>...</td>\n",
              "    </tr>\n",
              "    <tr>\n",
              "      <th>1504</th>\n",
              "      <td>eh45gbx</td>\n",
              "      <td>gatosol</td>\n",
              "      <td>🇮🇨 Canarias (África) 🐱 Native Spanish</td>\n",
              "      <td>Suena raro ¿Estás usando una expresión parecid...</td>\n",
              "      <td>1550944132</td>\n",
              "      <td>False</td>\n",
              "      <td>t3_atmvoo</td>\n",
              "      <td>True</td>\n",
              "      <td>t1_eh2jtlh</td>\n",
              "      <td>/r/Spanish/comments/atmvoo/spanish_practice_th...</td>\n",
              "      <td>1</td>\n",
              "      <td>Spanish</td>\n",
              "      <td>t5_2qtt1</td>\n",
              "      <td>2019-02-23 17:48:52+00:00</td>\n",
              "      <td>02</td>\n",
              "    </tr>\n",
              "    <tr>\n",
              "      <th>1505</th>\n",
              "      <td>eu8bli2</td>\n",
              "      <td>gatosol</td>\n",
              "      <td>🇮🇨 Canary Islands (Africa) Native Spanish</td>\n",
              "      <td>As /u/xarkstick said, in the Canary Islands we...</td>\n",
              "      <td>1563553838</td>\n",
              "      <td>False</td>\n",
              "      <td>t3_cf8rf9</td>\n",
              "      <td>True</td>\n",
              "      <td>t1_eu8ajk9</td>\n",
              "      <td>/r/Spanish/comments/cf8rf9/allí_use_worldwide/...</td>\n",
              "      <td>3</td>\n",
              "      <td>Spanish</td>\n",
              "      <td>t5_2qtt1</td>\n",
              "      <td>2019-07-19 16:30:38+00:00</td>\n",
              "      <td>07</td>\n",
              "    </tr>\n",
              "    <tr>\n",
              "      <th>1506</th>\n",
              "      <td>evt3rrv</td>\n",
              "      <td>gatosol</td>\n",
              "      <td>🇮🇨 Canary Islands (Africa) Native Spanish</td>\n",
              "      <td>Antioquia, Colombia. Cante al revés: \\n\\nhttp:...</td>\n",
              "      <td>1564762202</td>\n",
              "      <td>False</td>\n",
              "      <td>t3_ckxu5i</td>\n",
              "      <td>True</td>\n",
              "      <td>t1_evt0dhb</td>\n",
              "      <td>/r/Spanish/comments/ckxu5i/un_poco_de_humorcom...</td>\n",
              "      <td>2</td>\n",
              "      <td>Spanish</td>\n",
              "      <td>t5_2qtt1</td>\n",
              "      <td>2019-08-02 16:10:02+00:00</td>\n",
              "      <td>08</td>\n",
              "    </tr>\n",
              "    <tr>\n",
              "      <th>1507</th>\n",
              "      <td>ewipn3w</td>\n",
              "      <td>gatosol</td>\n",
              "      <td>🇮🇨 Canary Islands (Africa)</td>\n",
              "      <td>Ah, OK, gracias. Ahora sí se oye.</td>\n",
              "      <td>1565454233</td>\n",
              "      <td>False</td>\n",
              "      <td>t3_cojy1f</td>\n",
              "      <td>True</td>\n",
              "      <td>t1_ewipeve</td>\n",
              "      <td>/r/learnspanish/comments/cojy1f/subtitles_says...</td>\n",
              "      <td>1</td>\n",
              "      <td>learnspanish</td>\n",
              "      <td>t5_2rd6d</td>\n",
              "      <td>2019-08-10 16:23:53+00:00</td>\n",
              "      <td>08</td>\n",
              "    </tr>\n",
              "    <tr>\n",
              "      <th>1508</th>\n",
              "      <td>ettogvm</td>\n",
              "      <td>gatosol</td>\n",
              "      <td>🇮🇨 Canary Islands (Africa) Native Spanish</td>\n",
              "      <td>&amp;gt; What other tips could people share to hel...</td>\n",
              "      <td>1563190311</td>\n",
              "      <td>False</td>\n",
              "      <td>t3_cdg77s</td>\n",
              "      <td>True</td>\n",
              "      <td>t3_cdg77s</td>\n",
              "      <td>/r/Spanish/comments/cdg77s/wanting_to_learn_sp...</td>\n",
              "      <td>1</td>\n",
              "      <td>Spanish</td>\n",
              "      <td>t5_2qtt1</td>\n",
              "      <td>2019-07-15 11:31:51+00:00</td>\n",
              "      <td>07</td>\n",
              "    </tr>\n",
              "  </tbody>\n",
              "</table>\n",
              "<p>1509 rows × 15 columns</p>\n",
              "</div>"
            ],
            "text/plain": [
              "           id   author  ...                 timestamp month\n",
              "0     egofj9a  gatosol  ... 2019-02-17 19:19:56+00:00    02\n",
              "1     egonc38  gatosol  ... 2019-02-17 21:03:29+00:00    02\n",
              "2     evwz99y  gatosol  ... 2019-08-04 00:10:46+00:00    08\n",
              "3     eq9e6cb  gatosol  ... 2019-06-07 10:14:22+00:00    06\n",
              "4     ei7wf2y  gatosol  ... 2019-03-10 17:45:35+00:00    03\n",
              "...       ...      ...  ...                       ...   ...\n",
              "1504  eh45gbx  gatosol  ... 2019-02-23 17:48:52+00:00    02\n",
              "1505  eu8bli2  gatosol  ... 2019-07-19 16:30:38+00:00    07\n",
              "1506  evt3rrv  gatosol  ... 2019-08-02 16:10:02+00:00    08\n",
              "1507  ewipn3w  gatosol  ... 2019-08-10 16:23:53+00:00    08\n",
              "1508  ettogvm  gatosol  ... 2019-07-15 11:31:51+00:00    07\n",
              "\n",
              "[1509 rows x 15 columns]"
            ]
          },
          "metadata": {},
          "execution_count": 33
        }
      ],
      "source": [
        "user_sample = df_r.loc['t2_12hxof'].reset_index()\n",
        "user_sample"
      ]
    },
    {
      "cell_type": "markdown",
      "metadata": {
        "id": "e4Z4D6URFXae"
      },
      "source": [
        "We see that from the author_flair_text that they are a native speaker of Spanish, and therefore are not learning. We will eventually have to throw out this user, but we can do this with NLP processing by classifying a user as a learner or a native speaker."
      ]
    },
    {
      "cell_type": "markdown",
      "metadata": {
        "id": "PF0SutsuFmJY"
      },
      "source": [
        "Let's look at a user that we know is a learner, user LangGeek ('t2_zzree'). Their flair identifies them as a B2 learner which means that they are \"vantage or upper intermediate\" level."
      ]
    },
    {
      "cell_type": "code",
      "execution_count": 34,
      "metadata": {
        "colab": {
          "base_uri": "https://localhost:8080/",
          "height": 1000
        },
        "id": "EPkwIEnrFv9B",
        "outputId": "1f34410d-6a37-41fa-dc0c-312ea37dc315"
      },
      "outputs": [
        {
          "output_type": "execute_result",
          "data": {
            "text/html": [
              "<div>\n",
              "<style scoped>\n",
              "    .dataframe tbody tr th:only-of-type {\n",
              "        vertical-align: middle;\n",
              "    }\n",
              "\n",
              "    .dataframe tbody tr th {\n",
              "        vertical-align: top;\n",
              "    }\n",
              "\n",
              "    .dataframe thead th {\n",
              "        text-align: right;\n",
              "    }\n",
              "</style>\n",
              "<table border=\"1\" class=\"dataframe\">\n",
              "  <thead>\n",
              "    <tr style=\"text-align: right;\">\n",
              "      <th></th>\n",
              "      <th>id</th>\n",
              "      <th>author</th>\n",
              "      <th>author_flair_text</th>\n",
              "      <th>body</th>\n",
              "      <th>created_utc</th>\n",
              "      <th>is_submitter</th>\n",
              "      <th>link_id</th>\n",
              "      <th>no_follow</th>\n",
              "      <th>parent_id</th>\n",
              "      <th>permalink</th>\n",
              "      <th>score</th>\n",
              "      <th>subreddit</th>\n",
              "      <th>subreddit_id</th>\n",
              "      <th>timestamp</th>\n",
              "      <th>month</th>\n",
              "    </tr>\n",
              "  </thead>\n",
              "  <tbody>\n",
              "    <tr>\n",
              "      <th>0</th>\n",
              "      <td>eldx1df</td>\n",
              "      <td>LangGeek</td>\n",
              "      <td>B2</td>\n",
              "      <td>por ti 🎵</td>\n",
              "      <td>1555802876</td>\n",
              "      <td>False</td>\n",
              "      <td>t3_bfi2vr</td>\n",
              "      <td>False</td>\n",
              "      <td>t1_eldvv5q</td>\n",
              "      <td>/r/Spanish/comments/bfi2vr/do_natives_actually...</td>\n",
              "      <td>4</td>\n",
              "      <td>Spanish</td>\n",
              "      <td>t5_2qtt1</td>\n",
              "      <td>2019-04-20 23:27:56+00:00</td>\n",
              "      <td>04</td>\n",
              "    </tr>\n",
              "    <tr>\n",
              "      <th>1</th>\n",
              "      <td>eldx5a0</td>\n",
              "      <td>LangGeek</td>\n",
              "      <td>B2</td>\n",
              "      <td>If it makes you feel any better I've been lear...</td>\n",
              "      <td>1555802957</td>\n",
              "      <td>False</td>\n",
              "      <td>t3_bfi2vr</td>\n",
              "      <td>False</td>\n",
              "      <td>t3_bfi2vr</td>\n",
              "      <td>/r/Spanish/comments/bfi2vr/do_natives_actually...</td>\n",
              "      <td>17</td>\n",
              "      <td>Spanish</td>\n",
              "      <td>t5_2qtt1</td>\n",
              "      <td>2019-04-20 23:29:17+00:00</td>\n",
              "      <td>04</td>\n",
              "    </tr>\n",
              "    <tr>\n",
              "      <th>2</th>\n",
              "      <td>ev8u2pw</td>\n",
              "      <td>LangGeek</td>\n",
              "      <td>B2</td>\n",
              "      <td>Te gustó means \"did you like it?\"\\n\\nTe gusto ...</td>\n",
              "      <td>1564291576</td>\n",
              "      <td>False</td>\n",
              "      <td>t3_cirsbe</td>\n",
              "      <td>True</td>\n",
              "      <td>t3_cirsbe</td>\n",
              "      <td>/r/Spanish/comments/cirsbe/does_te_gustó_have_...</td>\n",
              "      <td>13</td>\n",
              "      <td>Spanish</td>\n",
              "      <td>t5_2qtt1</td>\n",
              "      <td>2019-07-28 05:26:16+00:00</td>\n",
              "      <td>07</td>\n",
              "    </tr>\n",
              "    <tr>\n",
              "      <th>3</th>\n",
              "      <td>enrs1vo</td>\n",
              "      <td>LangGeek</td>\n",
              "      <td>B2</td>\n",
              "      <td>No more odd than a white person working at a C...</td>\n",
              "      <td>1558019409</td>\n",
              "      <td>False</td>\n",
              "      <td>t3_bpdlp7</td>\n",
              "      <td>False</td>\n",
              "      <td>t3_bpdlp7</td>\n",
              "      <td>/r/Spanish/comments/bpdlp7/does_a_white_kid_wo...</td>\n",
              "      <td>28</td>\n",
              "      <td>Spanish</td>\n",
              "      <td>t5_2qtt1</td>\n",
              "      <td>2019-05-16 15:10:09+00:00</td>\n",
              "      <td>05</td>\n",
              "    </tr>\n",
              "    <tr>\n",
              "      <th>4</th>\n",
              "      <td>eh9jiu9</td>\n",
              "      <td>LangGeek</td>\n",
              "      <td>B2</td>\n",
              "      <td>It's just Portuguese for bathroom /s</td>\n",
              "      <td>1551122613</td>\n",
              "      <td>False</td>\n",
              "      <td>t3_auntig</td>\n",
              "      <td>False</td>\n",
              "      <td>t3_auntig</td>\n",
              "      <td>/r/Spanish/comments/auntig/they_tried/eh9jiu9/</td>\n",
              "      <td>60</td>\n",
              "      <td>Spanish</td>\n",
              "      <td>t5_2qtt1</td>\n",
              "      <td>2019-02-25 19:23:33+00:00</td>\n",
              "      <td>02</td>\n",
              "    </tr>\n",
              "    <tr>\n",
              "      <th>5</th>\n",
              "      <td>evwmzs2</td>\n",
              "      <td>LangGeek</td>\n",
              "      <td>B2</td>\n",
              "      <td>Es cómico ver ese gran area blanco que es Bras...</td>\n",
              "      <td>1564868257</td>\n",
              "      <td>False</td>\n",
              "      <td>t3_cllsh9</td>\n",
              "      <td>False</td>\n",
              "      <td>t3_cllsh9</td>\n",
              "      <td>/r/Spanish/comments/cllsh9/el_mapa_de_países_h...</td>\n",
              "      <td>38</td>\n",
              "      <td>Spanish</td>\n",
              "      <td>t5_2qtt1</td>\n",
              "      <td>2019-08-03 21:37:37+00:00</td>\n",
              "      <td>08</td>\n",
              "    </tr>\n",
              "    <tr>\n",
              "      <th>6</th>\n",
              "      <td>eib1fdy</td>\n",
              "      <td>LangGeek</td>\n",
              "      <td>B2</td>\n",
              "      <td>El español en algunas partes del américa del s...</td>\n",
              "      <td>1552339473</td>\n",
              "      <td>False</td>\n",
              "      <td>t3_azuf1x</td>\n",
              "      <td>False</td>\n",
              "      <td>t1_eiacp3u</td>\n",
              "      <td>/r/Spanish/comments/azuf1x/cuál_es_tu_idioma_n...</td>\n",
              "      <td>9</td>\n",
              "      <td>Spanish</td>\n",
              "      <td>t5_2qtt1</td>\n",
              "      <td>2019-03-11 21:24:33+00:00</td>\n",
              "      <td>03</td>\n",
              "    </tr>\n",
              "    <tr>\n",
              "      <th>7</th>\n",
              "      <td>ej6foj6</td>\n",
              "      <td>LangGeek</td>\n",
              "      <td>B2</td>\n",
              "      <td>&amp;gt;the Spanish speak rather fast and use voso...</td>\n",
              "      <td>1553321786</td>\n",
              "      <td>False</td>\n",
              "      <td>t3_b4d5mi</td>\n",
              "      <td>True</td>\n",
              "      <td>t1_ej6elpf</td>\n",
              "      <td>/r/Spanish/comments/b4d5mi/best_latin_american...</td>\n",
              "      <td>2</td>\n",
              "      <td>Spanish</td>\n",
              "      <td>t5_2qtt1</td>\n",
              "      <td>2019-03-23 06:16:26+00:00</td>\n",
              "      <td>03</td>\n",
              "    </tr>\n",
              "    <tr>\n",
              "      <th>8</th>\n",
              "      <td>ej6eemq</td>\n",
              "      <td>LangGeek</td>\n",
              "      <td>B2</td>\n",
              "      <td>In terms of understandable accents, Peru is de...</td>\n",
              "      <td>1553320066</td>\n",
              "      <td>False</td>\n",
              "      <td>t3_b4d5mi</td>\n",
              "      <td>True</td>\n",
              "      <td>t1_ej6dbf0</td>\n",
              "      <td>/r/Spanish/comments/b4d5mi/best_latin_american...</td>\n",
              "      <td>5</td>\n",
              "      <td>Spanish</td>\n",
              "      <td>t5_2qtt1</td>\n",
              "      <td>2019-03-23 05:47:46+00:00</td>\n",
              "      <td>03</td>\n",
              "    </tr>\n",
              "    <tr>\n",
              "      <th>9</th>\n",
              "      <td>eibf8z7</td>\n",
              "      <td>LangGeek</td>\n",
              "      <td>B2</td>\n",
              "      <td>De acuerdo pero como estudiante del idioma que...</td>\n",
              "      <td>1552349607</td>\n",
              "      <td>False</td>\n",
              "      <td>t3_azuf1x</td>\n",
              "      <td>False</td>\n",
              "      <td>t1_eibeztj</td>\n",
              "      <td>/r/Spanish/comments/azuf1x/cuál_es_tu_idioma_n...</td>\n",
              "      <td>4</td>\n",
              "      <td>Spanish</td>\n",
              "      <td>t5_2qtt1</td>\n",
              "      <td>2019-03-12 00:13:27+00:00</td>\n",
              "      <td>03</td>\n",
              "    </tr>\n",
              "    <tr>\n",
              "      <th>10</th>\n",
              "      <td>evxgej4</td>\n",
              "      <td>LangGeek</td>\n",
              "      <td>B2</td>\n",
              "      <td>A popular thing to say in american spanish (an...</td>\n",
              "      <td>1564891603</td>\n",
              "      <td>False</td>\n",
              "      <td>t3_clr9tt</td>\n",
              "      <td>True</td>\n",
              "      <td>t3_clr9tt</td>\n",
              "      <td>/r/Spanish/comments/clr9tt/how_to_say_fuck_him...</td>\n",
              "      <td>2</td>\n",
              "      <td>Spanish</td>\n",
              "      <td>t5_2qtt1</td>\n",
              "      <td>2019-08-04 04:06:43+00:00</td>\n",
              "      <td>08</td>\n",
              "    </tr>\n",
              "    <tr>\n",
              "      <th>11</th>\n",
              "      <td>ek7ujxj</td>\n",
              "      <td>LangGeek</td>\n",
              "      <td>B2</td>\n",
              "      <td>Para distinguir los sonidos \"gui\" y \"güi\". Con...</td>\n",
              "      <td>1554510972</td>\n",
              "      <td>False</td>\n",
              "      <td>t3_b9ybp0</td>\n",
              "      <td>False</td>\n",
              "      <td>t3_b9ybp0</td>\n",
              "      <td>/r/Spanish/comments/b9ybp0/diéresis/ek7ujxj/</td>\n",
              "      <td>7</td>\n",
              "      <td>Spanish</td>\n",
              "      <td>t5_2qtt1</td>\n",
              "      <td>2019-04-06 00:36:12+00:00</td>\n",
              "      <td>04</td>\n",
              "    </tr>\n",
              "    <tr>\n",
              "      <th>12</th>\n",
              "      <td>euotx3g</td>\n",
              "      <td>LangGeek</td>\n",
              "      <td>B2</td>\n",
              "      <td>No hice nunca eso pero pudiera ser bueno para ...</td>\n",
              "      <td>1563946837</td>\n",
              "      <td>False</td>\n",
              "      <td>t3_ch4053</td>\n",
              "      <td>False</td>\n",
              "      <td>t3_ch4053</td>\n",
              "      <td>/r/Spanish/comments/ch4053/una_pregunta/euotx3g/</td>\n",
              "      <td>8</td>\n",
              "      <td>Spanish</td>\n",
              "      <td>t5_2qtt1</td>\n",
              "      <td>2019-07-24 05:40:37+00:00</td>\n",
              "      <td>07</td>\n",
              "    </tr>\n",
              "    <tr>\n",
              "      <th>13</th>\n",
              "      <td>ejsn961</td>\n",
              "      <td>LangGeek</td>\n",
              "      <td>B2</td>\n",
              "      <td>necesario means necessary and necesariamente m...</td>\n",
              "      <td>1554025970</td>\n",
              "      <td>False</td>\n",
              "      <td>t3_b7m2u1</td>\n",
              "      <td>True</td>\n",
              "      <td>t3_b7m2u1</td>\n",
              "      <td>/r/Spanish/comments/b7m2u1/the_difference_of_n...</td>\n",
              "      <td>8</td>\n",
              "      <td>Spanish</td>\n",
              "      <td>t5_2qtt1</td>\n",
              "      <td>2019-03-31 09:52:50+00:00</td>\n",
              "      <td>03</td>\n",
              "    </tr>\n",
              "  </tbody>\n",
              "</table>\n",
              "</div>"
            ],
            "text/plain": [
              "         id    author  ...                 timestamp month\n",
              "0   eldx1df  LangGeek  ... 2019-04-20 23:27:56+00:00    04\n",
              "1   eldx5a0  LangGeek  ... 2019-04-20 23:29:17+00:00    04\n",
              "2   ev8u2pw  LangGeek  ... 2019-07-28 05:26:16+00:00    07\n",
              "3   enrs1vo  LangGeek  ... 2019-05-16 15:10:09+00:00    05\n",
              "4   eh9jiu9  LangGeek  ... 2019-02-25 19:23:33+00:00    02\n",
              "5   evwmzs2  LangGeek  ... 2019-08-03 21:37:37+00:00    08\n",
              "6   eib1fdy  LangGeek  ... 2019-03-11 21:24:33+00:00    03\n",
              "7   ej6foj6  LangGeek  ... 2019-03-23 06:16:26+00:00    03\n",
              "8   ej6eemq  LangGeek  ... 2019-03-23 05:47:46+00:00    03\n",
              "9   eibf8z7  LangGeek  ... 2019-03-12 00:13:27+00:00    03\n",
              "10  evxgej4  LangGeek  ... 2019-08-04 04:06:43+00:00    08\n",
              "11  ek7ujxj  LangGeek  ... 2019-04-06 00:36:12+00:00    04\n",
              "12  euotx3g  LangGeek  ... 2019-07-24 05:40:37+00:00    07\n",
              "13  ejsn961  LangGeek  ... 2019-03-31 09:52:50+00:00    03\n",
              "\n",
              "[14 rows x 15 columns]"
            ]
          },
          "metadata": {},
          "execution_count": 34
        }
      ],
      "source": [
        "user_sample = df_r.loc['t2_zzree'].reset_index()\n",
        "user_sample"
      ]
    },
    {
      "cell_type": "markdown",
      "metadata": {
        "id": "5mrz_RoFF6v4"
      },
      "source": [
        "Let's look at their post (id='eldx5a') to see what information they've shared about their learning."
      ]
    },
    {
      "cell_type": "code",
      "execution_count": 35,
      "metadata": {
        "colab": {
          "base_uri": "https://localhost:8080/"
        },
        "id": "o6CNJAHlGIX2",
        "outputId": "51423908-50ad-41ae-997b-8a5f5761305b"
      },
      "outputs": [
        {
          "output_type": "stream",
          "name": "stdout",
          "text": [
            "eldx1df :  por ti 🎵 \n",
            "\n",
            "eldx5a0 :  If it makes you feel any better I've been learning for 7 years and I can only understand like 40-50% of what he says \n",
            "\n",
            "ev8u2pw :  Te gustó means \"did you like it?\"\n",
            "\n",
            "Te gusto means \"you like me\"\n",
            "\n",
            "I'm not completely sure of the context nor am I a flirting expert so i can't tell you if what they said is meant in that way, but since the ó has an accent it has to do with whatever they sent you before you complimented them. \n",
            "\n",
            "enrs1vo :  No more odd than a white person working at a Chinese restaurant \n",
            "\n",
            "eh9jiu9 :  It's just Portuguese for bathroom /s \n",
            "\n",
            "evwmzs2 :  Es cómico ver ese gran area blanco que es Brasil. Que tamaño. \n",
            "\n",
            "eib1fdy :  El español en algunas partes del américa del sur es tan diferente que lo de españa/méxico que sí pudieras llamarlo un idioma diferente. Especialmente lo de Argentina. Pero personalmente me gusta mucho más la forma \"voseo\" que usar simplemente \"tú\". \n",
            "\n",
            "ej6foj6 :  &gt;the Spanish speak rather fast and use vosotros which could be an issue if the learner learned Latin American Spanish\n",
            "\n",
            "I think you misunderstood what I meant when I said the thing above. Chileans and Argentinians have weird accents, and the Spanish (people of Spain) speak fast and use vosotros. \n",
            "\n",
            "ej6eemq :  In terms of understandable accents, Peru is definitely the best option. Argentinians and Chileans have a very weird accent for learners, and the Spanish speak rather fast and use vosotros which *could* be an issue if the learner learned Latin American Spanish. As for Paraguay, I don't really know much about their accent/version of Spanish. Best bet is Peru for sure, though. \n",
            "\n",
            "eibf8z7 :  De acuerdo pero como estudiante del idioma que aprendió el español de méxico, es difícil entender el español que los argentinos/chilenos hablan. Es cómico porque hablo como un argentino, pero tengo problemas con entenderlos. \n",
            "\n",
            "evxgej4 :  A popular thing to say in american spanish (and i'm assuming mexico too) is chingar, so chingalo/chingala/chingalos/chingalas. This is the insult version of it but also does technically mean to have sex with. However, coger is the more sexual version. \n",
            "\n",
            "ek7ujxj :  Para distinguir los sonidos \"gui\" y \"güi\". Con ü se hace un sonido \"wu\". Pinguino ni es una palabra. \n",
            "\n",
            "euotx3g :  No hice nunca eso pero pudiera ser bueno para ayudarte aprender. A veces hablo con mi mismo pero sólo en mi cabeza. Lo mejor para superar tu poder de hablar es hablar con otras personas, preferiblemente hispanohablantes. \n",
            "\n",
            "ejsn961 :  necesario means necessary and necesariamente means necessarily. \n",
            "\n"
          ]
        }
      ],
      "source": [
        "for i in range(len(user_sample)):\n",
        "  post = user_sample.iloc[i]\n",
        "  print(post['id'], \": \", post['body'], \"\\n\")"
      ]
    },
    {
      "cell_type": "markdown",
      "metadata": {
        "id": "G62gPaOyHj2k"
      },
      "source": [
        "We see that they've been learning for 7 years ('eldx5a0'), that they \"speak like an Argentinian\" but have a hard time understanding other Argentinians ('eibf8z7'), and that they talk to themselves in their head to faciliate learning ('euotx3g'). These comments also highlight differences in learning Spanish that is spoken in different countries."
      ]
    },
    {
      "cell_type": "markdown",
      "metadata": {
        "id": "SedZyU7kIBD8"
      },
      "source": [
        "There's not much about user 't2_zzree's personal motivation in this post though there is an implication of learning for someone that the user is interested in communicating with."
      ]
    },
    {
      "cell_type": "markdown",
      "source": [
        "#### Extracting out Learners"
      ],
      "metadata": {
        "id": "yzTApIuvS3qd"
      }
    },
    {
      "cell_type": "code",
      "execution_count": 36,
      "metadata": {
        "id": "4pER_UjXMHSm"
      },
      "outputs": [],
      "source": [
        "df_r.fillna(\"\",inplace=True)\n",
        "\n",
        "df_r['author_flair_text'] = df_r['author_flair_text'].str.lower()"
      ]
    },
    {
      "cell_type": "markdown",
      "source": [
        "We are performing regex pattern matching to find a subset of users that are blatantly identified as learners."
      ],
      "metadata": {
        "id": "f8NDH2QuTKgE"
      }
    },
    {
      "cell_type": "code",
      "execution_count": 37,
      "metadata": {
        "colab": {
          "base_uri": "https://localhost:8080/",
          "height": 927
        },
        "id": "VwK8ZHBk9n3N",
        "outputId": "738c970e-cc33-4f84-f03d-38d99286bb17"
      },
      "outputs": [
        {
          "output_type": "execute_result",
          "data": {
            "text/html": [
              "<div>\n",
              "<style scoped>\n",
              "    .dataframe tbody tr th:only-of-type {\n",
              "        vertical-align: middle;\n",
              "    }\n",
              "\n",
              "    .dataframe tbody tr th {\n",
              "        vertical-align: top;\n",
              "    }\n",
              "\n",
              "    .dataframe thead th {\n",
              "        text-align: right;\n",
              "    }\n",
              "</style>\n",
              "<table border=\"1\" class=\"dataframe\">\n",
              "  <thead>\n",
              "    <tr style=\"text-align: right;\">\n",
              "      <th></th>\n",
              "      <th></th>\n",
              "      <th>author</th>\n",
              "      <th>author_flair_text</th>\n",
              "      <th>body</th>\n",
              "      <th>created_utc</th>\n",
              "      <th>is_submitter</th>\n",
              "      <th>link_id</th>\n",
              "      <th>no_follow</th>\n",
              "      <th>parent_id</th>\n",
              "      <th>permalink</th>\n",
              "      <th>score</th>\n",
              "      <th>subreddit</th>\n",
              "      <th>subreddit_id</th>\n",
              "      <th>timestamp</th>\n",
              "      <th>month</th>\n",
              "      <th>learner</th>\n",
              "    </tr>\n",
              "    <tr>\n",
              "      <th>author_fullname</th>\n",
              "      <th>id</th>\n",
              "      <th></th>\n",
              "      <th></th>\n",
              "      <th></th>\n",
              "      <th></th>\n",
              "      <th></th>\n",
              "      <th></th>\n",
              "      <th></th>\n",
              "      <th></th>\n",
              "      <th></th>\n",
              "      <th></th>\n",
              "      <th></th>\n",
              "      <th></th>\n",
              "      <th></th>\n",
              "      <th></th>\n",
              "      <th></th>\n",
              "    </tr>\n",
              "  </thead>\n",
              "  <tbody>\n",
              "    <tr>\n",
              "      <th rowspan=\"2\" valign=\"top\">t2_100byr</th>\n",
              "      <th>evuk9t6</th>\n",
              "      <td>JOJOawestruck</td>\n",
              "      <td></td>\n",
              "      <td>how did you practice? just by going through th...</td>\n",
              "      <td>1564797639</td>\n",
              "      <td>False</td>\n",
              "      <td>t3_cjs76f</td>\n",
              "      <td>True</td>\n",
              "      <td>t1_evg61tw</td>\n",
              "      <td>/r/learnspanish/comments/cjs76f/television_tra...</td>\n",
              "      <td>1</td>\n",
              "      <td>learnspanish</td>\n",
              "      <td>t5_2rd6d</td>\n",
              "      <td>2019-08-03 02:00:39+00:00</td>\n",
              "      <td>08</td>\n",
              "      <td>False</td>\n",
              "    </tr>\n",
              "    <tr>\n",
              "      <th>evug5dj</th>\n",
              "      <td>JOJOawestruck</td>\n",
              "      <td></td>\n",
              "      <td>any good sites? and would it also help if I wa...</td>\n",
              "      <td>1564794329</td>\n",
              "      <td>False</td>\n",
              "      <td>t3_ciqq1a</td>\n",
              "      <td>True</td>\n",
              "      <td>t1_evd6kfh</td>\n",
              "      <td>/r/learnspanish/comments/ciqq1a/what_ways_do_y...</td>\n",
              "      <td>1</td>\n",
              "      <td>learnspanish</td>\n",
              "      <td>t5_2rd6d</td>\n",
              "      <td>2019-08-03 01:05:29+00:00</td>\n",
              "      <td>08</td>\n",
              "      <td>False</td>\n",
              "    </tr>\n",
              "    <tr>\n",
              "      <th rowspan=\"3\" valign=\"top\">t2_100irc</th>\n",
              "      <th>evzk75r</th>\n",
              "      <td>FinnTheFierce</td>\n",
              "      <td></td>\n",
              "      <td>Se puede usarlo en una canción? Solo quiero sa...</td>\n",
              "      <td>1564959738</td>\n",
              "      <td>True</td>\n",
              "      <td>t3_cm2hd1</td>\n",
              "      <td>True</td>\n",
              "      <td>t1_evzjsfe</td>\n",
              "      <td>/r/Spanish/comments/cm2hd1/para_siempre_vs_por...</td>\n",
              "      <td>1</td>\n",
              "      <td>Spanish</td>\n",
              "      <td>t5_2qtt1</td>\n",
              "      <td>2019-08-04 23:02:18+00:00</td>\n",
              "      <td>08</td>\n",
              "      <td>False</td>\n",
              "    </tr>\n",
              "    <tr>\n",
              "      <th>evzom0r</th>\n",
              "      <td>FinnTheFierce</td>\n",
              "      <td></td>\n",
              "      <td>No creo que se pueda intercambiarlos... quizá ...</td>\n",
              "      <td>1564963109</td>\n",
              "      <td>False</td>\n",
              "      <td>t3_cm2k4t</td>\n",
              "      <td>True</td>\n",
              "      <td>t1_evzo347</td>\n",
              "      <td>/r/Spanish/comments/cm2k4t/can_articles_be_use...</td>\n",
              "      <td>2</td>\n",
              "      <td>Spanish</td>\n",
              "      <td>t5_2qtt1</td>\n",
              "      <td>2019-08-04 23:58:29+00:00</td>\n",
              "      <td>08</td>\n",
              "      <td>False</td>\n",
              "    </tr>\n",
              "    <tr>\n",
              "      <th>eunnx3y</th>\n",
              "      <td>FinnTheFierce</td>\n",
              "      <td></td>\n",
              "      <td>Sí, podía haber usado un mejor ejemplo. \\n\\n“S...</td>\n",
              "      <td>1563931252</td>\n",
              "      <td>True</td>\n",
              "      <td>t3_ch1drw</td>\n",
              "      <td>True</td>\n",
              "      <td>t1_eunn4if</td>\n",
              "      <td>/r/Spanish/comments/ch1drw/por_que_a_veces_se_...</td>\n",
              "      <td>6</td>\n",
              "      <td>Spanish</td>\n",
              "      <td>t5_2qtt1</td>\n",
              "      <td>2019-07-24 01:20:52+00:00</td>\n",
              "      <td>07</td>\n",
              "      <td>False</td>\n",
              "    </tr>\n",
              "    <tr>\n",
              "      <th>...</th>\n",
              "      <th>...</th>\n",
              "      <td>...</td>\n",
              "      <td>...</td>\n",
              "      <td>...</td>\n",
              "      <td>...</td>\n",
              "      <td>...</td>\n",
              "      <td>...</td>\n",
              "      <td>...</td>\n",
              "      <td>...</td>\n",
              "      <td>...</td>\n",
              "      <td>...</td>\n",
              "      <td>...</td>\n",
              "      <td>...</td>\n",
              "      <td>...</td>\n",
              "      <td>...</td>\n",
              "      <td>...</td>\n",
              "    </tr>\n",
              "    <tr>\n",
              "      <th rowspan=\"5\" valign=\"top\">t2_zzree</th>\n",
              "      <th>eibf8z7</th>\n",
              "      <td>LangGeek</td>\n",
              "      <td>b2</td>\n",
              "      <td>De acuerdo pero como estudiante del idioma que...</td>\n",
              "      <td>1552349607</td>\n",
              "      <td>False</td>\n",
              "      <td>t3_azuf1x</td>\n",
              "      <td>False</td>\n",
              "      <td>t1_eibeztj</td>\n",
              "      <td>/r/Spanish/comments/azuf1x/cuál_es_tu_idioma_n...</td>\n",
              "      <td>4</td>\n",
              "      <td>Spanish</td>\n",
              "      <td>t5_2qtt1</td>\n",
              "      <td>2019-03-12 00:13:27+00:00</td>\n",
              "      <td>03</td>\n",
              "      <td>True</td>\n",
              "    </tr>\n",
              "    <tr>\n",
              "      <th>evxgej4</th>\n",
              "      <td>LangGeek</td>\n",
              "      <td>b2</td>\n",
              "      <td>A popular thing to say in american spanish (an...</td>\n",
              "      <td>1564891603</td>\n",
              "      <td>False</td>\n",
              "      <td>t3_clr9tt</td>\n",
              "      <td>True</td>\n",
              "      <td>t3_clr9tt</td>\n",
              "      <td>/r/Spanish/comments/clr9tt/how_to_say_fuck_him...</td>\n",
              "      <td>2</td>\n",
              "      <td>Spanish</td>\n",
              "      <td>t5_2qtt1</td>\n",
              "      <td>2019-08-04 04:06:43+00:00</td>\n",
              "      <td>08</td>\n",
              "      <td>True</td>\n",
              "    </tr>\n",
              "    <tr>\n",
              "      <th>ek7ujxj</th>\n",
              "      <td>LangGeek</td>\n",
              "      <td>b2</td>\n",
              "      <td>Para distinguir los sonidos \"gui\" y \"güi\". Con...</td>\n",
              "      <td>1554510972</td>\n",
              "      <td>False</td>\n",
              "      <td>t3_b9ybp0</td>\n",
              "      <td>False</td>\n",
              "      <td>t3_b9ybp0</td>\n",
              "      <td>/r/Spanish/comments/b9ybp0/diéresis/ek7ujxj/</td>\n",
              "      <td>7</td>\n",
              "      <td>Spanish</td>\n",
              "      <td>t5_2qtt1</td>\n",
              "      <td>2019-04-06 00:36:12+00:00</td>\n",
              "      <td>04</td>\n",
              "      <td>True</td>\n",
              "    </tr>\n",
              "    <tr>\n",
              "      <th>euotx3g</th>\n",
              "      <td>LangGeek</td>\n",
              "      <td>b2</td>\n",
              "      <td>No hice nunca eso pero pudiera ser bueno para ...</td>\n",
              "      <td>1563946837</td>\n",
              "      <td>False</td>\n",
              "      <td>t3_ch4053</td>\n",
              "      <td>False</td>\n",
              "      <td>t3_ch4053</td>\n",
              "      <td>/r/Spanish/comments/ch4053/una_pregunta/euotx3g/</td>\n",
              "      <td>8</td>\n",
              "      <td>Spanish</td>\n",
              "      <td>t5_2qtt1</td>\n",
              "      <td>2019-07-24 05:40:37+00:00</td>\n",
              "      <td>07</td>\n",
              "      <td>True</td>\n",
              "    </tr>\n",
              "    <tr>\n",
              "      <th>ejsn961</th>\n",
              "      <td>LangGeek</td>\n",
              "      <td>b2</td>\n",
              "      <td>necesario means necessary and necesariamente m...</td>\n",
              "      <td>1554025970</td>\n",
              "      <td>False</td>\n",
              "      <td>t3_b7m2u1</td>\n",
              "      <td>True</td>\n",
              "      <td>t3_b7m2u1</td>\n",
              "      <td>/r/Spanish/comments/b7m2u1/the_difference_of_n...</td>\n",
              "      <td>8</td>\n",
              "      <td>Spanish</td>\n",
              "      <td>t5_2qtt1</td>\n",
              "      <td>2019-03-31 09:52:50+00:00</td>\n",
              "      <td>03</td>\n",
              "      <td>True</td>\n",
              "    </tr>\n",
              "  </tbody>\n",
              "</table>\n",
              "<p>73371 rows × 15 columns</p>\n",
              "</div>"
            ],
            "text/plain": [
              "                                author author_flair_text  ... month  learner\n",
              "author_fullname id                                        ...               \n",
              "t2_100byr       evuk9t6  JOJOawestruck                    ...    08    False\n",
              "                evug5dj  JOJOawestruck                    ...    08    False\n",
              "t2_100irc       evzk75r  FinnTheFierce                    ...    08    False\n",
              "                evzom0r  FinnTheFierce                    ...    08    False\n",
              "                eunnx3y  FinnTheFierce                    ...    07    False\n",
              "...                                ...               ...  ...   ...      ...\n",
              "t2_zzree        eibf8z7       LangGeek                b2  ...    03     True\n",
              "                evxgej4       LangGeek                b2  ...    08     True\n",
              "                ek7ujxj       LangGeek                b2  ...    04     True\n",
              "                euotx3g       LangGeek                b2  ...    07     True\n",
              "                ejsn961       LangGeek                b2  ...    03     True\n",
              "\n",
              "[73371 rows x 15 columns]"
            ]
          },
          "metadata": {},
          "execution_count": 37
        }
      ],
      "source": [
        "patterns = [r\"learner\", r\"heritage\", r\"native\",r\"[a-z]{1}[0-2]{1}\", r\"student\", r\"beginner\", r\"intermediate\", r\"advanced\"]\n",
        "\n",
        "flair_patterns = '|'.join(patterns)\n",
        "df_r['learner'] =  df_r['author_flair_text'].str.contains(flair_patterns)\n",
        "df_r"
      ]
    },
    {
      "cell_type": "code",
      "execution_count": 38,
      "metadata": {
        "colab": {
          "base_uri": "https://localhost:8080/",
          "height": 1000
        },
        "id": "-_t5QQBCNcVV",
        "outputId": "92898318-9aac-45ad-ab9b-02571b1b0afe"
      },
      "outputs": [
        {
          "output_type": "execute_result",
          "data": {
            "text/html": [
              "<div>\n",
              "<style scoped>\n",
              "    .dataframe tbody tr th:only-of-type {\n",
              "        vertical-align: middle;\n",
              "    }\n",
              "\n",
              "    .dataframe tbody tr th {\n",
              "        vertical-align: top;\n",
              "    }\n",
              "\n",
              "    .dataframe thead th {\n",
              "        text-align: right;\n",
              "    }\n",
              "</style>\n",
              "<table border=\"1\" class=\"dataframe\">\n",
              "  <thead>\n",
              "    <tr style=\"text-align: right;\">\n",
              "      <th></th>\n",
              "      <th>author_flair_text</th>\n",
              "      <th>body</th>\n",
              "      <th>created_utc</th>\n",
              "      <th>is_submitter</th>\n",
              "      <th>link_id</th>\n",
              "      <th>no_follow</th>\n",
              "      <th>parent_id</th>\n",
              "      <th>permalink</th>\n",
              "      <th>score</th>\n",
              "      <th>subreddit</th>\n",
              "      <th>subreddit_id</th>\n",
              "      <th>timestamp</th>\n",
              "      <th>month</th>\n",
              "    </tr>\n",
              "    <tr>\n",
              "      <th>author</th>\n",
              "      <th></th>\n",
              "      <th></th>\n",
              "      <th></th>\n",
              "      <th></th>\n",
              "      <th></th>\n",
              "      <th></th>\n",
              "      <th></th>\n",
              "      <th></th>\n",
              "      <th></th>\n",
              "      <th></th>\n",
              "      <th></th>\n",
              "      <th></th>\n",
              "      <th></th>\n",
              "    </tr>\n",
              "  </thead>\n",
              "  <tbody>\n",
              "    <tr>\n",
              "      <th>Pengliz</th>\n",
              "      <td>intermediate</td>\n",
              "      <td>¡Muchas gracias!</td>\n",
              "      <td>1549324266</td>\n",
              "      <td>False</td>\n",
              "      <td>t3_an2c9o</td>\n",
              "      <td>True</td>\n",
              "      <td>t3_an2c9o</td>\n",
              "      <td>/r/learnspanish/comments/an2c9o/live_spanish_m...</td>\n",
              "      <td>2</td>\n",
              "      <td>learnspanish</td>\n",
              "      <td>t5_2rd6d</td>\n",
              "      <td>2019-02-04 23:51:06+00:00</td>\n",
              "      <td>02</td>\n",
              "    </tr>\n",
              "    <tr>\n",
              "      <th>Pengliz</th>\n",
              "      <td>learner</td>\n",
              "      <td>Thanks for your help! That's  perfect. \\nSorry...</td>\n",
              "      <td>1554268295</td>\n",
              "      <td>True</td>\n",
              "      <td>t3_b8mdc1</td>\n",
              "      <td>True</td>\n",
              "      <td>t1_ek00b96</td>\n",
              "      <td>/r/Spanish/comments/b8mdc1/el_vocabulario_de_l...</td>\n",
              "      <td>1</td>\n",
              "      <td>Spanish</td>\n",
              "      <td>t5_2qtt1</td>\n",
              "      <td>2019-04-03 05:11:35+00:00</td>\n",
              "      <td>04</td>\n",
              "    </tr>\n",
              "    <tr>\n",
              "      <th>Pengliz</th>\n",
              "      <td>learner</td>\n",
              "      <td>Oh, I see what you mean.  Thanks for your help...</td>\n",
              "      <td>1554295463</td>\n",
              "      <td>True</td>\n",
              "      <td>t3_b8mdc1</td>\n",
              "      <td>True</td>\n",
              "      <td>t1_ek0mlld</td>\n",
              "      <td>/r/Spanish/comments/b8mdc1/el_vocabulario_de_l...</td>\n",
              "      <td>1</td>\n",
              "      <td>Spanish</td>\n",
              "      <td>t5_2qtt1</td>\n",
              "      <td>2019-04-03 12:44:23+00:00</td>\n",
              "      <td>04</td>\n",
              "    </tr>\n",
              "    <tr>\n",
              "      <th>zephyr121</th>\n",
              "      <td>learner 🇺🇸</td>\n",
              "      <td>I have some background in both Spanish and Fre...</td>\n",
              "      <td>1569609445</td>\n",
              "      <td>False</td>\n",
              "      <td>t3_d9wv8a</td>\n",
              "      <td>True</td>\n",
              "      <td>t3_d9wv8a</td>\n",
              "      <td>/r/Spanish/comments/d9wv8a/can_nonnative_spani...</td>\n",
              "      <td>1</td>\n",
              "      <td>Spanish</td>\n",
              "      <td>t5_2qtt1</td>\n",
              "      <td>2019-09-27 18:37:25+00:00</td>\n",
              "      <td>09</td>\n",
              "    </tr>\n",
              "    <tr>\n",
              "      <th>LesterBurnham3409</th>\n",
              "      <td>learner</td>\n",
              "      <td>I've heard \"Como estamos?\" to mean how are we ...</td>\n",
              "      <td>1547936340</td>\n",
              "      <td>False</td>\n",
              "      <td>t3_ahq8vs</td>\n",
              "      <td>True</td>\n",
              "      <td>t3_ahq8vs</td>\n",
              "      <td>/r/Spanish/comments/ahq8vs/como_vamos/eeh502q/</td>\n",
              "      <td>5</td>\n",
              "      <td>Spanish</td>\n",
              "      <td>t5_2qtt1</td>\n",
              "      <td>2019-01-19 22:19:00+00:00</td>\n",
              "      <td>01</td>\n",
              "    </tr>\n",
              "    <tr>\n",
              "      <th>...</th>\n",
              "      <td>...</td>\n",
              "      <td>...</td>\n",
              "      <td>...</td>\n",
              "      <td>...</td>\n",
              "      <td>...</td>\n",
              "      <td>...</td>\n",
              "      <td>...</td>\n",
              "      <td>...</td>\n",
              "      <td>...</td>\n",
              "      <td>...</td>\n",
              "      <td>...</td>\n",
              "      <td>...</td>\n",
              "      <td>...</td>\n",
              "    </tr>\n",
              "    <tr>\n",
              "      <th>LangGeek</th>\n",
              "      <td>b2</td>\n",
              "      <td>De acuerdo pero como estudiante del idioma que...</td>\n",
              "      <td>1552349607</td>\n",
              "      <td>False</td>\n",
              "      <td>t3_azuf1x</td>\n",
              "      <td>False</td>\n",
              "      <td>t1_eibeztj</td>\n",
              "      <td>/r/Spanish/comments/azuf1x/cuál_es_tu_idioma_n...</td>\n",
              "      <td>4</td>\n",
              "      <td>Spanish</td>\n",
              "      <td>t5_2qtt1</td>\n",
              "      <td>2019-03-12 00:13:27+00:00</td>\n",
              "      <td>03</td>\n",
              "    </tr>\n",
              "    <tr>\n",
              "      <th>LangGeek</th>\n",
              "      <td>b2</td>\n",
              "      <td>A popular thing to say in american spanish (an...</td>\n",
              "      <td>1564891603</td>\n",
              "      <td>False</td>\n",
              "      <td>t3_clr9tt</td>\n",
              "      <td>True</td>\n",
              "      <td>t3_clr9tt</td>\n",
              "      <td>/r/Spanish/comments/clr9tt/how_to_say_fuck_him...</td>\n",
              "      <td>2</td>\n",
              "      <td>Spanish</td>\n",
              "      <td>t5_2qtt1</td>\n",
              "      <td>2019-08-04 04:06:43+00:00</td>\n",
              "      <td>08</td>\n",
              "    </tr>\n",
              "    <tr>\n",
              "      <th>LangGeek</th>\n",
              "      <td>b2</td>\n",
              "      <td>Para distinguir los sonidos \"gui\" y \"güi\". Con...</td>\n",
              "      <td>1554510972</td>\n",
              "      <td>False</td>\n",
              "      <td>t3_b9ybp0</td>\n",
              "      <td>False</td>\n",
              "      <td>t3_b9ybp0</td>\n",
              "      <td>/r/Spanish/comments/b9ybp0/diéresis/ek7ujxj/</td>\n",
              "      <td>7</td>\n",
              "      <td>Spanish</td>\n",
              "      <td>t5_2qtt1</td>\n",
              "      <td>2019-04-06 00:36:12+00:00</td>\n",
              "      <td>04</td>\n",
              "    </tr>\n",
              "    <tr>\n",
              "      <th>LangGeek</th>\n",
              "      <td>b2</td>\n",
              "      <td>No hice nunca eso pero pudiera ser bueno para ...</td>\n",
              "      <td>1563946837</td>\n",
              "      <td>False</td>\n",
              "      <td>t3_ch4053</td>\n",
              "      <td>False</td>\n",
              "      <td>t3_ch4053</td>\n",
              "      <td>/r/Spanish/comments/ch4053/una_pregunta/euotx3g/</td>\n",
              "      <td>8</td>\n",
              "      <td>Spanish</td>\n",
              "      <td>t5_2qtt1</td>\n",
              "      <td>2019-07-24 05:40:37+00:00</td>\n",
              "      <td>07</td>\n",
              "    </tr>\n",
              "    <tr>\n",
              "      <th>LangGeek</th>\n",
              "      <td>b2</td>\n",
              "      <td>necesario means necessary and necesariamente m...</td>\n",
              "      <td>1554025970</td>\n",
              "      <td>False</td>\n",
              "      <td>t3_b7m2u1</td>\n",
              "      <td>True</td>\n",
              "      <td>t3_b7m2u1</td>\n",
              "      <td>/r/Spanish/comments/b7m2u1/the_difference_of_n...</td>\n",
              "      <td>8</td>\n",
              "      <td>Spanish</td>\n",
              "      <td>t5_2qtt1</td>\n",
              "      <td>2019-03-31 09:52:50+00:00</td>\n",
              "      <td>03</td>\n",
              "    </tr>\n",
              "  </tbody>\n",
              "</table>\n",
              "<p>22518 rows × 13 columns</p>\n",
              "</div>"
            ],
            "text/plain": [
              "                  author_flair_text  ... month\n",
              "author                               ...      \n",
              "Pengliz                intermediate  ...    02\n",
              "Pengliz                     learner  ...    04\n",
              "Pengliz                     learner  ...    04\n",
              "zephyr121                learner 🇺🇸  ...    09\n",
              "LesterBurnham3409           learner  ...    01\n",
              "...                             ...  ...   ...\n",
              "LangGeek                         b2  ...    03\n",
              "LangGeek                         b2  ...    08\n",
              "LangGeek                         b2  ...    04\n",
              "LangGeek                         b2  ...    07\n",
              "LangGeek                         b2  ...    03\n",
              "\n",
              "[22518 rows x 13 columns]"
            ]
          },
          "metadata": {},
          "execution_count": 38
        }
      ],
      "source": [
        "df_learner = df_r.loc[df_r['learner']]\n",
        "df_learner = df_learner.drop(columns=['learner'])\n",
        "df_learner.set_index('author')"
      ]
    },
    {
      "cell_type": "code",
      "execution_count": 39,
      "metadata": {
        "id": "UxlVVks-szY3"
      },
      "outputs": [],
      "source": [
        "out = open('reddit_learners.csv', 'w')\n",
        "df_learner.to_csv(out)"
      ]
    },
    {
      "cell_type": "markdown",
      "metadata": {
        "id": "dswXt5UPFVQJ"
      },
      "source": [
        "#### Manually annotating posts with motivation"
      ]
    },
    {
      "cell_type": "markdown",
      "metadata": {
        "id": "j_-lI9SFFlMm"
      },
      "source": [
        "1. Go through posts and classify them as hasMotivation (true, false) based on having the above regex words.\n",
        "2. Then from posts that do have motivation, combine to be one document for a user.\n",
        "3. Transform the posts to vectors using word2vec\n",
        "4. perform K-means clustering on the users' posts in vector space\n",
        "5. Use Elbow criterion to find best clusters"
      ]
    },
    {
      "cell_type": "markdown",
      "source": [
        "We are now importing a CSV that was manually annotated to assign each post to a motivation profile. The meanings of the labels are as follows:\n",
        "\n",
        "\n",
        "\n",
        "0.   No mention of motivation\n",
        "1.   Culture\n",
        "2.   Dating & Family\n",
        "3.   School & Lessons\n",
        "4.   Career\n",
        "5.   Travel\n",
        "6.   Heritage"
      ],
      "metadata": {
        "id": "4TbE800oV487"
      }
    },
    {
      "cell_type": "code",
      "execution_count": 40,
      "metadata": {
        "id": "d8uIb6hKp-Ho"
      },
      "outputs": [],
      "source": [
        "df_reddit_tagged = pd.read_csv('reddit_tagged.csv')"
      ]
    },
    {
      "cell_type": "code",
      "source": [
        "print(df_learner.shape)\n",
        "print(df_reddit_tagged.shape)"
      ],
      "metadata": {
        "colab": {
          "base_uri": "https://localhost:8080/"
        },
        "id": "Z-EuH7xTUBWA",
        "outputId": "8176a9ea-fb9b-4be0-a644-0481c167ca27"
      },
      "execution_count": 41,
      "outputs": [
        {
          "output_type": "stream",
          "name": "stdout",
          "text": [
            "(22518, 14)\n",
            "(1196, 15)\n"
          ]
        }
      ]
    },
    {
      "cell_type": "markdown",
      "source": [
        "We are using about 5% of posts from learners that have annotations. This could potentially be used for semi-supervised learning if our model fits to supervised learning well."
      ],
      "metadata": {
        "id": "hLWTcw4fUOoD"
      }
    },
    {
      "cell_type": "code",
      "execution_count": 42,
      "metadata": {
        "colab": {
          "base_uri": "https://localhost:8080/",
          "height": 424
        },
        "id": "MGmtjBxluZNC",
        "outputId": "5de28754-2cf6-40c4-8a8e-ad720048d6eb"
      },
      "outputs": [
        {
          "output_type": "execute_result",
          "data": {
            "text/html": [
              "<div>\n",
              "<style scoped>\n",
              "    .dataframe tbody tr th:only-of-type {\n",
              "        vertical-align: middle;\n",
              "    }\n",
              "\n",
              "    .dataframe tbody tr th {\n",
              "        vertical-align: top;\n",
              "    }\n",
              "\n",
              "    .dataframe thead th {\n",
              "        text-align: right;\n",
              "    }\n",
              "</style>\n",
              "<table border=\"1\" class=\"dataframe\">\n",
              "  <thead>\n",
              "    <tr style=\"text-align: right;\">\n",
              "      <th></th>\n",
              "      <th>author</th>\n",
              "      <th>author_flair_text</th>\n",
              "      <th>body</th>\n",
              "      <th>created_utc</th>\n",
              "      <th>class</th>\n",
              "    </tr>\n",
              "  </thead>\n",
              "  <tbody>\n",
              "    <tr>\n",
              "      <th>0</th>\n",
              "      <td>Pengliz</td>\n",
              "      <td>learner</td>\n",
              "      <td>Oh, I see what you mean.  Thanks for your help...</td>\n",
              "      <td>1554295463</td>\n",
              "      <td>5</td>\n",
              "    </tr>\n",
              "    <tr>\n",
              "      <th>1</th>\n",
              "      <td>thetripodguy</td>\n",
              "      <td>learner</td>\n",
              "      <td>Well, some people may disagree with me, but I ...</td>\n",
              "      <td>1549223827</td>\n",
              "      <td>0</td>\n",
              "    </tr>\n",
              "    <tr>\n",
              "      <th>2</th>\n",
              "      <td>thetripodguy</td>\n",
              "      <td>learner</td>\n",
              "      <td>Sin Senos Sí Hay Paraíso\\n\\nIt's divisive amon...</td>\n",
              "      <td>1548257963</td>\n",
              "      <td>0</td>\n",
              "    </tr>\n",
              "    <tr>\n",
              "      <th>3</th>\n",
              "      <td>oldskoolgeometro</td>\n",
              "      <td>learner (a1)</td>\n",
              "      <td>Yes. Of my non-native speaking friends, I know...</td>\n",
              "      <td>1549291709</td>\n",
              "      <td>1</td>\n",
              "    </tr>\n",
              "    <tr>\n",
              "      <th>4</th>\n",
              "      <td>oldskoolgeometro</td>\n",
              "      <td>beginner</td>\n",
              "      <td>Oh, I forgot to look! If you're American, look...</td>\n",
              "      <td>1553516324</td>\n",
              "      <td>0</td>\n",
              "    </tr>\n",
              "    <tr>\n",
              "      <th>...</th>\n",
              "      <td>...</td>\n",
              "      <td>...</td>\n",
              "      <td>...</td>\n",
              "      <td>...</td>\n",
              "      <td>...</td>\n",
              "    </tr>\n",
              "    <tr>\n",
              "      <th>794</th>\n",
              "      <td>ASunCame</td>\n",
              "      <td>a2</td>\n",
              "      <td>A related one is \"de ahi\" which basically mean...</td>\n",
              "      <td>1557023712</td>\n",
              "      <td>0</td>\n",
              "    </tr>\n",
              "    <tr>\n",
              "      <th>795</th>\n",
              "      <td>ASunCame</td>\n",
              "      <td>a2</td>\n",
              "      <td>Every native speaker I've heard use the word h...</td>\n",
              "      <td>1558292114</td>\n",
              "      <td>0</td>\n",
              "    </tr>\n",
              "    <tr>\n",
              "      <th>796</th>\n",
              "      <td>ASunCame</td>\n",
              "      <td>a2</td>\n",
              "      <td>I agree with the others that are saying Duolin...</td>\n",
              "      <td>1561822733</td>\n",
              "      <td>0</td>\n",
              "    </tr>\n",
              "    <tr>\n",
              "      <th>797</th>\n",
              "      <td>ASunCame</td>\n",
              "      <td>a2</td>\n",
              "      <td>That's a good point. With 'estudiar espanol', ...</td>\n",
              "      <td>1558763156</td>\n",
              "      <td>0</td>\n",
              "    </tr>\n",
              "    <tr>\n",
              "      <th>798</th>\n",
              "      <td>ASunCame</td>\n",
              "      <td>a2</td>\n",
              "      <td>I've only been once (with a friend of mine and...</td>\n",
              "      <td>1547957100</td>\n",
              "      <td>0</td>\n",
              "    </tr>\n",
              "  </tbody>\n",
              "</table>\n",
              "<p>799 rows × 5 columns</p>\n",
              "</div>"
            ],
            "text/plain": [
              "               author author_flair_text  ... created_utc  class\n",
              "0             Pengliz           learner  ...  1554295463      5\n",
              "1        thetripodguy           learner  ...  1549223827      0\n",
              "2        thetripodguy           learner  ...  1548257963      0\n",
              "3    oldskoolgeometro      learner (a1)  ...  1549291709      1\n",
              "4    oldskoolgeometro          beginner  ...  1553516324      0\n",
              "..                ...               ...  ...         ...    ...\n",
              "794          ASunCame                a2  ...  1557023712      0\n",
              "795          ASunCame                a2  ...  1558292114      0\n",
              "796          ASunCame                a2  ...  1561822733      0\n",
              "797          ASunCame                a2  ...  1558763156      0\n",
              "798          ASunCame                a2  ...  1547957100      0\n",
              "\n",
              "[799 rows x 5 columns]"
            ]
          },
          "metadata": {},
          "execution_count": 42
        }
      ],
      "source": [
        "df_tagged = df_reddit_tagged[['author','author_flair_text','body','created_utc','class']]\n",
        "df_tagged = df_tagged.dropna()\n",
        "df_tagged['class'] = df_tagged['class'].astype(int)\n",
        "df_tagged"
      ]
    },
    {
      "cell_type": "code",
      "source": [
        "# Most common author flairs\n",
        "df_tagged['author_flair_text'].value_counts()[:10]"
      ],
      "metadata": {
        "colab": {
          "base_uri": "https://localhost:8080/"
        },
        "id": "SFPBl1NDW8pJ",
        "outputId": "bf848f22-b3e6-4aec-d3dc-fd9bb6942b90"
      },
      "execution_count": 43,
      "outputs": [
        {
          "output_type": "execute_result",
          "data": {
            "text/plain": [
              "learner                                                282\n",
              "estadounidense entre b2 y c1                            27\n",
              "spanish ma student                                      27\n",
              "learner                                                 24\n",
              "🇦🇺🇲🇽 guadalajara; c1; spanish teacher; grammar geek     20\n",
              "beginner                                                18\n",
              "heritage                                                16\n",
              "a2                                                      14\n",
              "l2 - c1+ (chl)                                          13\n",
              "c0                                                      12\n",
              "Name: author_flair_text, dtype: int64"
            ]
          },
          "metadata": {},
          "execution_count": 43
        }
      ]
    },
    {
      "cell_type": "code",
      "execution_count": 44,
      "metadata": {
        "colab": {
          "base_uri": "https://localhost:8080/",
          "height": 551
        },
        "id": "oB_Xnytx3vYd",
        "outputId": "3ccac147-3ea5-4ead-f54e-ba6f6c1d3073"
      },
      "outputs": [
        {
          "output_type": "execute_result",
          "data": {
            "text/html": [
              "<div>\n",
              "<style scoped>\n",
              "    .dataframe tbody tr th:only-of-type {\n",
              "        vertical-align: middle;\n",
              "    }\n",
              "\n",
              "    .dataframe tbody tr th {\n",
              "        vertical-align: top;\n",
              "    }\n",
              "\n",
              "    .dataframe thead th {\n",
              "        text-align: right;\n",
              "    }\n",
              "</style>\n",
              "<table border=\"1\" class=\"dataframe\">\n",
              "  <thead>\n",
              "    <tr style=\"text-align: right;\">\n",
              "      <th></th>\n",
              "      <th>author</th>\n",
              "      <th>author_flair_text</th>\n",
              "      <th>body</th>\n",
              "      <th>created_utc</th>\n",
              "      <th>class</th>\n",
              "    </tr>\n",
              "  </thead>\n",
              "  <tbody>\n",
              "    <tr>\n",
              "      <th>3</th>\n",
              "      <td>oldskoolgeometro</td>\n",
              "      <td>learner (a1)</td>\n",
              "      <td>Yes. Of my non-native speaking friends, I know...</td>\n",
              "      <td>1549291709</td>\n",
              "      <td>1</td>\n",
              "    </tr>\n",
              "    <tr>\n",
              "      <th>4</th>\n",
              "      <td>oldskoolgeometro</td>\n",
              "      <td>beginner</td>\n",
              "      <td>Oh, I forgot to look! If you're American, look...</td>\n",
              "      <td>1553516324</td>\n",
              "      <td>0</td>\n",
              "    </tr>\n",
              "    <tr>\n",
              "      <th>5</th>\n",
              "      <td>oldskoolgeometro</td>\n",
              "      <td>learner (a1)</td>\n",
              "      <td>Are you a native Spanish speaker? Some days Sp...</td>\n",
              "      <td>1549587720</td>\n",
              "      <td>0</td>\n",
              "    </tr>\n",
              "    <tr>\n",
              "      <th>6</th>\n",
              "      <td>oldskoolgeometro</td>\n",
              "      <td>beginner</td>\n",
              "      <td>It has actually. I have \"met\" 5 people that I ...</td>\n",
              "      <td>1551216319</td>\n",
              "      <td>0</td>\n",
              "    </tr>\n",
              "    <tr>\n",
              "      <th>7</th>\n",
              "      <td>oldskoolgeometro</td>\n",
              "      <td>learner (a1)</td>\n",
              "      <td>OMG, yes! For me, just when I think I have it,...</td>\n",
              "      <td>1547050508</td>\n",
              "      <td>1</td>\n",
              "    </tr>\n",
              "    <tr>\n",
              "      <th>8</th>\n",
              "      <td>oldskoolgeometro</td>\n",
              "      <td>beginner</td>\n",
              "      <td>I believe it has at least 2 meanings. One is \"...</td>\n",
              "      <td>1546975959</td>\n",
              "      <td>0</td>\n",
              "    </tr>\n",
              "    <tr>\n",
              "      <th>9</th>\n",
              "      <td>oldskoolgeometro</td>\n",
              "      <td>learner (a1)</td>\n",
              "      <td>Lol, my friend used to always say \"cochina\" wh...</td>\n",
              "      <td>1546547732</td>\n",
              "      <td>0</td>\n",
              "    </tr>\n",
              "    <tr>\n",
              "      <th>10</th>\n",
              "      <td>oldskoolgeometro</td>\n",
              "      <td>beginner</td>\n",
              "      <td>My paws make it a bit tricky since I have no t...</td>\n",
              "      <td>1556248696</td>\n",
              "      <td>0</td>\n",
              "    </tr>\n",
              "    <tr>\n",
              "      <th>11</th>\n",
              "      <td>oldskoolgeometro</td>\n",
              "      <td>beginner</td>\n",
              "      <td>Thanks a bunch. I'll look in the Google store ...</td>\n",
              "      <td>1551470813</td>\n",
              "      <td>0</td>\n",
              "    </tr>\n",
              "    <tr>\n",
              "      <th>12</th>\n",
              "      <td>oldskoolgeometro</td>\n",
              "      <td>beginner</td>\n",
              "      <td>This is what I've seen from my native Spanish ...</td>\n",
              "      <td>1546652030</td>\n",
              "      <td>2</td>\n",
              "    </tr>\n",
              "    <tr>\n",
              "      <th>13</th>\n",
              "      <td>oldskoolgeometro</td>\n",
              "      <td>beginner</td>\n",
              "      <td>Oddly enough, I took Spanish online when I was...</td>\n",
              "      <td>1546561267</td>\n",
              "      <td>4</td>\n",
              "    </tr>\n",
              "    <tr>\n",
              "      <th>14</th>\n",
              "      <td>oldskoolgeometro</td>\n",
              "      <td>beginner</td>\n",
              "      <td>This is something that I'd also like to know b...</td>\n",
              "      <td>1546562190</td>\n",
              "      <td>1</td>\n",
              "    </tr>\n",
              "    <tr>\n",
              "      <th>15</th>\n",
              "      <td>oldskoolgeometro</td>\n",
              "      <td>beginner</td>\n",
              "      <td>OP, you need to go somewhere where people are ...</td>\n",
              "      <td>1553709708</td>\n",
              "      <td>0</td>\n",
              "    </tr>\n",
              "    <tr>\n",
              "      <th>16</th>\n",
              "      <td>oldskoolgeometro</td>\n",
              "      <td>learner (a1)</td>\n",
              "      <td>I'm mostly listening to Celia Cruz. Admittedly...</td>\n",
              "      <td>1553191853</td>\n",
              "      <td>5</td>\n",
              "    </tr>\n",
              "    <tr>\n",
              "      <th>17</th>\n",
              "      <td>oldskoolgeometro</td>\n",
              "      <td>learner (a1)</td>\n",
              "      <td>I had been wanting and thinking about it for o...</td>\n",
              "      <td>1553259711</td>\n",
              "      <td>5</td>\n",
              "    </tr>\n",
              "    <tr>\n",
              "      <th>18</th>\n",
              "      <td>oldskoolgeometro</td>\n",
              "      <td>beginner</td>\n",
              "      <td>I have 2 grammar books at home. One I like mor...</td>\n",
              "      <td>1553275387</td>\n",
              "      <td>0</td>\n",
              "    </tr>\n",
              "  </tbody>\n",
              "</table>\n",
              "</div>"
            ],
            "text/plain": [
              "              author author_flair_text  ... created_utc  class\n",
              "3   oldskoolgeometro      learner (a1)  ...  1549291709      1\n",
              "4   oldskoolgeometro          beginner  ...  1553516324      0\n",
              "5   oldskoolgeometro      learner (a1)  ...  1549587720      0\n",
              "6   oldskoolgeometro          beginner  ...  1551216319      0\n",
              "7   oldskoolgeometro      learner (a1)  ...  1547050508      1\n",
              "8   oldskoolgeometro          beginner  ...  1546975959      0\n",
              "9   oldskoolgeometro      learner (a1)  ...  1546547732      0\n",
              "10  oldskoolgeometro          beginner  ...  1556248696      0\n",
              "11  oldskoolgeometro          beginner  ...  1551470813      0\n",
              "12  oldskoolgeometro          beginner  ...  1546652030      2\n",
              "13  oldskoolgeometro          beginner  ...  1546561267      4\n",
              "14  oldskoolgeometro          beginner  ...  1546562190      1\n",
              "15  oldskoolgeometro          beginner  ...  1553709708      0\n",
              "16  oldskoolgeometro      learner (a1)  ...  1553191853      5\n",
              "17  oldskoolgeometro      learner (a1)  ...  1553259711      5\n",
              "18  oldskoolgeometro          beginner  ...  1553275387      0\n",
              "\n",
              "[16 rows x 5 columns]"
            ]
          },
          "metadata": {},
          "execution_count": 44
        }
      ],
      "source": [
        "user_sample = df_tagged.loc[df_tagged['author'] == 'oldskoolgeometro']\n",
        "user_sample"
      ]
    },
    {
      "cell_type": "markdown",
      "source": [
        "Here we look at user 'oldskoolgeometro' who has identified themselves as a \"beginner\" and \"learner (a1)\"."
      ],
      "metadata": {
        "id": "vXldy_mOVQKK"
      }
    },
    {
      "cell_type": "markdown",
      "source": [
        "Most of their posts are tagged 0 for no motivation, but the below post is labeled for class 5: \"travel\"."
      ],
      "metadata": {
        "id": "qsFoarIaVYxd"
      }
    },
    {
      "cell_type": "code",
      "source": [
        "print(user_sample.loc[16]['body'])\n",
        "print(user_sample.loc[16]['class'])"
      ],
      "metadata": {
        "colab": {
          "base_uri": "https://localhost:8080/"
        },
        "id": "W0R2sNBeVhBH",
        "outputId": "1d6e344d-31c8-4b3a-85e8-9ed125ef379e"
      },
      "execution_count": 45,
      "outputs": [
        {
          "output_type": "stream",
          "name": "stdout",
          "text": [
            "I'm mostly listening to Celia Cruz. Admittedly I don't know much by her (which is why I'm listening to her now). I booked a trip to Cuba because Gutanamera was stuck in my head for 3 days. \n",
            "\n",
            "You get to hear the Cuban dialect with her. \n",
            "5\n"
          ]
        }
      ]
    },
    {
      "cell_type": "markdown",
      "source": [
        "We will drop all posts that are labeled 0 for having no motivation. We are then going to subtract 1 from all labels to start our classes at 0."
      ],
      "metadata": {
        "id": "u3CeANRsWd9l"
      }
    },
    {
      "cell_type": "code",
      "execution_count": 46,
      "metadata": {
        "id": "A2ODNZ8JilcE"
      },
      "outputs": [],
      "source": [
        "df_motiv = df_tagged.where(df_tagged['class'] > 0, None)\n",
        "df_motiv = df_motiv.dropna()"
      ]
    },
    {
      "cell_type": "code",
      "source": [
        "df_motiv['class'] = df_motiv['class'] - 1\n",
        "df_motiv"
      ],
      "metadata": {
        "colab": {
          "base_uri": "https://localhost:8080/",
          "height": 424
        },
        "id": "U8iXE9EHXhvw",
        "outputId": "b9ca5de8-7e16-41a6-a2d3-3dc9bb79ae4a"
      },
      "execution_count": 47,
      "outputs": [
        {
          "output_type": "execute_result",
          "data": {
            "text/html": [
              "<div>\n",
              "<style scoped>\n",
              "    .dataframe tbody tr th:only-of-type {\n",
              "        vertical-align: middle;\n",
              "    }\n",
              "\n",
              "    .dataframe tbody tr th {\n",
              "        vertical-align: top;\n",
              "    }\n",
              "\n",
              "    .dataframe thead th {\n",
              "        text-align: right;\n",
              "    }\n",
              "</style>\n",
              "<table border=\"1\" class=\"dataframe\">\n",
              "  <thead>\n",
              "    <tr style=\"text-align: right;\">\n",
              "      <th></th>\n",
              "      <th>author</th>\n",
              "      <th>author_flair_text</th>\n",
              "      <th>body</th>\n",
              "      <th>created_utc</th>\n",
              "      <th>class</th>\n",
              "    </tr>\n",
              "  </thead>\n",
              "  <tbody>\n",
              "    <tr>\n",
              "      <th>0</th>\n",
              "      <td>Pengliz</td>\n",
              "      <td>learner</td>\n",
              "      <td>Oh, I see what you mean.  Thanks for your help...</td>\n",
              "      <td>1554295463</td>\n",
              "      <td>4</td>\n",
              "    </tr>\n",
              "    <tr>\n",
              "      <th>3</th>\n",
              "      <td>oldskoolgeometro</td>\n",
              "      <td>learner (a1)</td>\n",
              "      <td>Yes. Of my non-native speaking friends, I know...</td>\n",
              "      <td>1549291709</td>\n",
              "      <td>0</td>\n",
              "    </tr>\n",
              "    <tr>\n",
              "      <th>7</th>\n",
              "      <td>oldskoolgeometro</td>\n",
              "      <td>learner (a1)</td>\n",
              "      <td>OMG, yes! For me, just when I think I have it,...</td>\n",
              "      <td>1547050508</td>\n",
              "      <td>0</td>\n",
              "    </tr>\n",
              "    <tr>\n",
              "      <th>12</th>\n",
              "      <td>oldskoolgeometro</td>\n",
              "      <td>beginner</td>\n",
              "      <td>This is what I've seen from my native Spanish ...</td>\n",
              "      <td>1546652030</td>\n",
              "      <td>1</td>\n",
              "    </tr>\n",
              "    <tr>\n",
              "      <th>13</th>\n",
              "      <td>oldskoolgeometro</td>\n",
              "      <td>beginner</td>\n",
              "      <td>Oddly enough, I took Spanish online when I was...</td>\n",
              "      <td>1546561267</td>\n",
              "      <td>3</td>\n",
              "    </tr>\n",
              "    <tr>\n",
              "      <th>...</th>\n",
              "      <td>...</td>\n",
              "      <td>...</td>\n",
              "      <td>...</td>\n",
              "      <td>...</td>\n",
              "      <td>...</td>\n",
              "    </tr>\n",
              "    <tr>\n",
              "      <th>764</th>\n",
              "      <td>Woodcharles</td>\n",
              "      <td>learner</td>\n",
              "      <td>And I think you're wrong. They will be perfect...</td>\n",
              "      <td>1556182920</td>\n",
              "      <td>4</td>\n",
              "    </tr>\n",
              "    <tr>\n",
              "      <th>779</th>\n",
              "      <td>maxwellhouseeyes</td>\n",
              "      <td>c1</td>\n",
              "      <td>Yeah, I thought the same (about your first poi...</td>\n",
              "      <td>1564045715</td>\n",
              "      <td>4</td>\n",
              "    </tr>\n",
              "    <tr>\n",
              "      <th>784</th>\n",
              "      <td>Omphalie23</td>\n",
              "      <td>learner</td>\n",
              "      <td>This happened to me when I started taking Span...</td>\n",
              "      <td>1569087747</td>\n",
              "      <td>2</td>\n",
              "    </tr>\n",
              "    <tr>\n",
              "      <th>785</th>\n",
              "      <td>Flashpath</td>\n",
              "      <td>learner</td>\n",
              "      <td>My ex was from Colombia, went there and made a...</td>\n",
              "      <td>1557321403</td>\n",
              "      <td>1</td>\n",
              "    </tr>\n",
              "    <tr>\n",
              "      <th>792</th>\n",
              "      <td>Stereoblind89</td>\n",
              "      <td>learner</td>\n",
              "      <td>My main group of friends and I decided one day...</td>\n",
              "      <td>1567108049</td>\n",
              "      <td>1</td>\n",
              "    </tr>\n",
              "  </tbody>\n",
              "</table>\n",
              "<p>222 rows × 5 columns</p>\n",
              "</div>"
            ],
            "text/plain": [
              "               author author_flair_text  ... created_utc class\n",
              "0             Pengliz           learner  ...  1554295463     4\n",
              "3    oldskoolgeometro      learner (a1)  ...  1549291709     0\n",
              "7    oldskoolgeometro      learner (a1)  ...  1547050508     0\n",
              "12   oldskoolgeometro          beginner  ...  1546652030     1\n",
              "13   oldskoolgeometro          beginner  ...  1546561267     3\n",
              "..                ...               ...  ...         ...   ...\n",
              "764       Woodcharles           learner  ...  1556182920     4\n",
              "779  maxwellhouseeyes                c1  ...  1564045715     4\n",
              "784        Omphalie23           learner  ...  1569087747     2\n",
              "785         Flashpath           learner  ...  1557321403     1\n",
              "792     Stereoblind89           learner  ...  1567108049     1\n",
              "\n",
              "[222 rows x 5 columns]"
            ]
          },
          "metadata": {},
          "execution_count": 47
        }
      ]
    },
    {
      "cell_type": "code",
      "source": [
        "import seaborn as sns\n",
        "\n",
        "sns.countplot(x='class', data=df_motiv)"
      ],
      "metadata": {
        "colab": {
          "base_uri": "https://localhost:8080/",
          "height": 296
        },
        "id": "GXJBUFgFX8l8",
        "outputId": "405929ba-8e26-49e3-d4df-4f7001357c34"
      },
      "execution_count": 48,
      "outputs": [
        {
          "output_type": "execute_result",
          "data": {
            "text/plain": [
              "<matplotlib.axes._subplots.AxesSubplot at 0x7f64897d80d0>"
            ]
          },
          "metadata": {},
          "execution_count": 48
        },
        {
          "output_type": "display_data",
          "data": {
            "image/png": "[encoded data removed]",
            "text/plain": [
              "<Figure size 432x288 with 1 Axes>"
            ]
          },
          "metadata": {
            "needs_background": "light"
          }
        }
      ]
    },
    {
      "cell_type": "markdown",
      "source": [
        "Here we have classes represented.\n",
        "\n",
        "0.   Culture\n",
        "1.   Dating & Family\n",
        "2.   School & Lessons\n",
        "3.   Career\n",
        "4.   Travel\n",
        "5.   Heritage"
      ],
      "metadata": {
        "id": "4fWJtGPJXpiK"
      }
    },
    {
      "cell_type": "markdown",
      "metadata": {
        "id": "zIzLk7dEMWHK"
      },
      "source": [
        "### Initial Analysis"
      ]
    },
    {
      "cell_type": "markdown",
      "source": [
        "First we are going to clean up the text data."
      ],
      "metadata": {
        "id": "Cyx2MeAHYtJp"
      }
    },
    {
      "cell_type": "code",
      "source": [
        "df = df_motiv"
      ],
      "metadata": {
        "id": "viS8dM58Y1lL"
      },
      "execution_count": 49,
      "outputs": []
    },
    {
      "cell_type": "code",
      "execution_count": 50,
      "metadata": {
        "colab": {
          "base_uri": "https://localhost:8080/",
          "height": 424
        },
        "id": "GRY-63MTgdA6",
        "outputId": "29a2132a-4b2d-4d43-83b6-79101e5d7091"
      },
      "outputs": [
        {
          "output_type": "execute_result",
          "data": {
            "text/html": [
              "<div>\n",
              "<style scoped>\n",
              "    .dataframe tbody tr th:only-of-type {\n",
              "        vertical-align: middle;\n",
              "    }\n",
              "\n",
              "    .dataframe tbody tr th {\n",
              "        vertical-align: top;\n",
              "    }\n",
              "\n",
              "    .dataframe thead th {\n",
              "        text-align: right;\n",
              "    }\n",
              "</style>\n",
              "<table border=\"1\" class=\"dataframe\">\n",
              "  <thead>\n",
              "    <tr style=\"text-align: right;\">\n",
              "      <th></th>\n",
              "      <th>author</th>\n",
              "      <th>author_flair_text</th>\n",
              "      <th>body</th>\n",
              "      <th>created_utc</th>\n",
              "      <th>class</th>\n",
              "    </tr>\n",
              "  </thead>\n",
              "  <tbody>\n",
              "    <tr>\n",
              "      <th>0</th>\n",
              "      <td>Pengliz</td>\n",
              "      <td>learner</td>\n",
              "      <td>oh see what you mean thanks for your help it w...</td>\n",
              "      <td>1554295463</td>\n",
              "      <td>4</td>\n",
              "    </tr>\n",
              "    <tr>\n",
              "      <th>3</th>\n",
              "      <td>oldskoolgeometro</td>\n",
              "      <td>learner (a1)</td>\n",
              "      <td>yes of my non native speaking friends know mor...</td>\n",
              "      <td>1549291709</td>\n",
              "      <td>0</td>\n",
              "    </tr>\n",
              "    <tr>\n",
              "      <th>7</th>\n",
              "      <td>oldskoolgeometro</td>\n",
              "      <td>learner (a1)</td>\n",
              "      <td>omg yes for me just when think have it realize...</td>\n",
              "      <td>1547050508</td>\n",
              "      <td>0</td>\n",
              "    </tr>\n",
              "    <tr>\n",
              "      <th>12</th>\n",
              "      <td>oldskoolgeometro</td>\n",
              "      <td>beginner</td>\n",
              "      <td>this is what ve seen from my native spanish sp...</td>\n",
              "      <td>1546652030</td>\n",
              "      <td>1</td>\n",
              "    </tr>\n",
              "    <tr>\n",
              "      <th>13</th>\n",
              "      <td>oldskoolgeometro</td>\n",
              "      <td>beginner</td>\n",
              "      <td>oddly enough took spanish online when was depl...</td>\n",
              "      <td>1546561267</td>\n",
              "      <td>3</td>\n",
              "    </tr>\n",
              "    <tr>\n",
              "      <th>...</th>\n",
              "      <td>...</td>\n",
              "      <td>...</td>\n",
              "      <td>...</td>\n",
              "      <td>...</td>\n",
              "      <td>...</td>\n",
              "    </tr>\n",
              "    <tr>\n",
              "      <th>764</th>\n",
              "      <td>Woodcharles</td>\n",
              "      <td>learner</td>\n",
              "      <td>and think you re wrong they will be perfectly ...</td>\n",
              "      <td>1556182920</td>\n",
              "      <td>4</td>\n",
              "    </tr>\n",
              "    <tr>\n",
              "      <th>779</th>\n",
              "      <td>maxwellhouseeyes</td>\n",
              "      <td>c1</td>\n",
              "      <td>yeah thought the same about your first point h...</td>\n",
              "      <td>1564045715</td>\n",
              "      <td>4</td>\n",
              "    </tr>\n",
              "    <tr>\n",
              "      <th>784</th>\n",
              "      <td>Omphalie23</td>\n",
              "      <td>learner</td>\n",
              "      <td>this happened to me when started taking spanis...</td>\n",
              "      <td>1569087747</td>\n",
              "      <td>2</td>\n",
              "    </tr>\n",
              "    <tr>\n",
              "      <th>785</th>\n",
              "      <td>Flashpath</td>\n",
              "      <td>learner</td>\n",
              "      <td>my ex was from colombia went there and made fe...</td>\n",
              "      <td>1557321403</td>\n",
              "      <td>1</td>\n",
              "    </tr>\n",
              "    <tr>\n",
              "      <th>792</th>\n",
              "      <td>Stereoblind89</td>\n",
              "      <td>learner</td>\n",
              "      <td>my main group of friends and decided one day w...</td>\n",
              "      <td>1567108049</td>\n",
              "      <td>1</td>\n",
              "    </tr>\n",
              "  </tbody>\n",
              "</table>\n",
              "<p>222 rows × 5 columns</p>\n",
              "</div>"
            ],
            "text/plain": [
              "               author author_flair_text  ... created_utc class\n",
              "0             Pengliz           learner  ...  1554295463     4\n",
              "3    oldskoolgeometro      learner (a1)  ...  1549291709     0\n",
              "7    oldskoolgeometro      learner (a1)  ...  1547050508     0\n",
              "12   oldskoolgeometro          beginner  ...  1546652030     1\n",
              "13   oldskoolgeometro          beginner  ...  1546561267     3\n",
              "..                ...               ...  ...         ...   ...\n",
              "764       Woodcharles           learner  ...  1556182920     4\n",
              "779  maxwellhouseeyes                c1  ...  1564045715     4\n",
              "784        Omphalie23           learner  ...  1569087747     2\n",
              "785         Flashpath           learner  ...  1557321403     1\n",
              "792     Stereoblind89           learner  ...  1567108049     1\n",
              "\n",
              "[222 rows x 5 columns]"
            ]
          },
          "metadata": {},
          "execution_count": 50
        }
      ],
      "source": [
        "texts=[]\n",
        "for text in df['body']:\n",
        "  text = re.sub(r\"[{}]\".format(string.punctuation), \" \", text.lower())\n",
        "  text = re.sub(r'\\s+[a-zA-Z]\\s+', ' ', text)\n",
        "  text = re.sub(r'\\s+', ' ', text, flags=re.I)\n",
        "  texts.append(text)\n",
        "\n",
        "df['body'] = texts\n",
        "df"
      ]
    },
    {
      "cell_type": "code",
      "source": [
        "labels = np.asarray(df['class']).astype(int)\n",
        "labels[:5]"
      ],
      "metadata": {
        "colab": {
          "base_uri": "https://localhost:8080/"
        },
        "id": "hr-q85iYedb-",
        "outputId": "3359dafb-82c0-41f9-95f0-852da72b2ce1"
      },
      "execution_count": 51,
      "outputs": [
        {
          "output_type": "execute_result",
          "data": {
            "text/plain": [
              "array([4, 0, 0, 1, 3])"
            ]
          },
          "metadata": {},
          "execution_count": 51
        }
      ]
    },
    {
      "cell_type": "markdown",
      "source": [
        "#### Vectorizing with Tf-Idf"
      ],
      "metadata": {
        "id": "QOiho5WIZGxr"
      }
    },
    {
      "cell_type": "code",
      "execution_count": 52,
      "metadata": {
        "colab": {
          "base_uri": "https://localhost:8080/"
        },
        "id": "EAbq-hUWNL8o",
        "outputId": "243fffd0-2847-4e5e-fd9b-27f0e0251e18"
      },
      "outputs": [
        {
          "output_type": "stream",
          "name": "stdout",
          "text": [
            "(222, 535)\n"
          ]
        }
      ],
      "source": [
        "from sklearn.feature_extraction.text import TfidfVectorizer\n",
        "\n",
        "tfidfvect = TfidfVectorizer(max_features=2000, min_df=5, max_df=0.8, stop_words=['english','spanish'], use_idf=True)\n",
        "tfidf = tfidfvect.fit_transform(df['body'])\n",
        "\n",
        "print(tfidf.shape)"
      ]
    },
    {
      "cell_type": "markdown",
      "source": [
        "We have 222 samples that have 535 features."
      ],
      "metadata": {
        "id": "nFhol2UEZjRu"
      }
    },
    {
      "cell_type": "code",
      "source": [
        "print(df.loc[0]['body'])\n",
        "x = pd.DataFrame(tfidf[0].T.todense(), index = tfidfvect.get_feature_names_out(), columns = ['tfidf'])\n",
        "x = x.sort_values(by = ['tfidf'], ascending=False)\n",
        "print(x[:5])\n",
        "print(\"\\nLabel: \", labels[0])"
      ],
      "metadata": {
        "colab": {
          "base_uri": "https://localhost:8080/"
        },
        "id": "qNKwhYnkZe6q",
        "outputId": "31395990-9098-474d-f8a7-a733c722bb85"
      },
      "execution_count": 53,
      "outputs": [
        {
          "output_type": "stream",
          "name": "stdout",
          "text": [
            "oh see what you mean thanks for your help it was very useful ll test it out in shop next week\n",
            "           tfidf\n",
            "thanks  0.349562\n",
            "week    0.327773\n",
            "useful  0.318853\n",
            "oh      0.310873\n",
            "mean    0.297064\n",
            "\n",
            "Label:  4\n"
          ]
        }
      ]
    },
    {
      "cell_type": "markdown",
      "source": [
        "#### Scatterplot Using Actual Labels"
      ],
      "metadata": {
        "id": "Az3sXfywbyu6"
      }
    },
    {
      "cell_type": "code",
      "source": [
        "from sklearn.decomposition import PCA"
      ],
      "metadata": {
        "id": "4FU1IlaldjcS"
      },
      "execution_count": 54,
      "outputs": []
    },
    {
      "cell_type": "code",
      "source": [
        "# We train the PCA on the dense version of the tf-idf. \n",
        "pca = PCA(n_components=len(labels))\n",
        "two_dim = pca.fit_transform(tfidf.todense())\n",
        "\n",
        "scatter_x = two_dim[:, 0] # first principle component\n",
        "scatter_y = two_dim[:, 1] # second principle component"
      ],
      "metadata": {
        "colab": {
          "base_uri": "https://localhost:8080/"
        },
        "outputId": "e80b1fa4-344c-4cc4-aa3a-412a8e2d3fcc",
        "id": "EoDNt7qHcRZI"
      },
      "execution_count": 55,
      "outputs": [
        {
          "output_type": "stream",
          "name": "stderr",
          "text": [
            "/usr/local/lib/python3.7/dist-packages/sklearn/utils/validation.py:590: FutureWarning: np.matrix usage is deprecated in 1.0 and will raise a TypeError in 1.2. Please convert to a numpy array with np.asarray. For more information see: https://numpy.org/doc/stable/reference/generated/numpy.matrix.html\n",
            "  FutureWarning,\n"
          ]
        }
      ]
    },
    {
      "cell_type": "code",
      "execution_count": 56,
      "metadata": {
        "colab": {
          "base_uri": "https://localhost:8080/",
          "height": 609
        },
        "outputId": "4cb7188a-65b9-4078-ca3d-57088e79447d",
        "id": "Fd7TfpaocGo5"
      },
      "outputs": [
        {
          "output_type": "display_data",
          "data": {
            "image/png": "[encoded data removed]",
            "text/plain": [
              "<Figure size 1440x720 with 1 Axes>"
            ]
          },
          "metadata": {}
        }
      ],
      "source": [
        "plt.style.use('ggplot')\n",
        "\n",
        "fig, ax = plt.subplots()\n",
        "fig.set_size_inches(20,10)\n",
        "\n",
        "# color map for NUMBER_OF_CLUSTERS we have\n",
        "cmap = {0: 'green', 1: 'blue', 2: 'red', 3: 'yellow', 4: \"pink\", 5:\"black\"}\n",
        "\n",
        "# group by clusters and scatter plot every cluster\n",
        "# with a colour and a label\n",
        "for group in np.unique(labels):\n",
        "    ix = np.where(labels == group)\n",
        "    ax.scatter(scatter_x[ix], scatter_y[ix], c=cmap[group], label=group)\n",
        "\n",
        "ax.legend()\n",
        "plt.xlabel(\"PCA 0\")\n",
        "plt.ylabel(\"PCA 1\")\n",
        "plt.show()"
      ]
    },
    {
      "cell_type": "markdown",
      "source": [
        "#### K-Means Clustering & PCA"
      ],
      "metadata": {
        "id": "jo33X03qYgsG"
      }
    },
    {
      "cell_type": "code",
      "execution_count": 57,
      "metadata": {
        "id": "Mn2La3pfMdx0"
      },
      "outputs": [],
      "source": [
        "from sklearn.cluster import KMeans"
      ]
    },
    {
      "cell_type": "code",
      "execution_count": 58,
      "metadata": {
        "colab": {
          "base_uri": "https://localhost:8080/"
        },
        "id": "8e89RfQDN75k",
        "outputId": "e536c0d6-7c94-42e4-d767-d4827394fbc9"
      },
      "outputs": [
        {
          "output_type": "stream",
          "name": "stdout",
          "text": [
            "[[0.00388584 0.         0.         ... 0.00260994 0.         0.01165752]\n",
            " [0.         0.02118057 0.01726682 ... 0.02025717 0.         0.        ]\n",
            " [0.01129384 0.         0.         ... 0.01587969 0.00349341 0.00687162]\n",
            " [0.         0.01266309 0.01266579 ... 0.02117461 0.         0.00649528]\n",
            " [0.00837691 0.         0.02383991 ... 0.01109593 0.         0.00507395]\n",
            " [0.00611047 0.         0.00391782 ... 0.07841741 0.01928315 0.00365282]]\n"
          ]
        }
      ],
      "source": [
        "num=6\n",
        "\n",
        "kmeans = KMeans(n_clusters = num, init='k-means++', max_iter = 15).fit(tfidf)\n",
        "print(kmeans.cluster_centers_)"
      ]
    },
    {
      "cell_type": "code",
      "execution_count": 59,
      "metadata": {
        "colab": {
          "base_uri": "https://localhost:8080/"
        },
        "id": "cOqphH1qXRpy",
        "outputId": "cfeef015-1fc3-45e7-b356-a16f5117e3ab"
      },
      "outputs": [
        {
          "output_type": "stream",
          "name": "stdout",
          "text": [
            "author  Pengliz :  oh see what you mean thanks for your help it was very useful ll test it out in shop next week\n",
            "author  oldskoolgeometro :  yes of my non native speaking friends know more spanish than them but m also the only one who has actively tried to learn it nobody in my circle has taken up second language so it makes sense that would know more than them like was telling my friend last night my vocabulary is so random lol some of the words that know have no idea where or how learned it like pene like what on earth is that word even in my vocabulary \n",
            "author  oldskoolgeometro :  omg yes for me just when think have it realize don not sure if you re familiar with amara la negra but follow her on instagram yesterday she posted something to the effect of me toca bailar m sitting there staring at my phone like wtf touch to dance had to ask my friend what it meant and he explained it means my turn to dance spanish is so difficult for me some things get very easily and others hacer haber mess me all the way up and to think m considering adding korean to my learning lol \n",
            "author  oldskoolgeometro :  this is what ve seen from my native spanish speaking friends amp x200b \n",
            "\n",
            "Predicted Labels by K-Means:  [2 4 2 0]\n",
            "\n",
            "Actual Labels:  [4, 0, 0, 1]\n"
          ]
        }
      ],
      "source": [
        "predicting = [df.iloc[0]['body'], df.iloc[1]['body'], df.iloc[2]['body'], df.iloc[3]['body']]\n",
        "print(\"author \", df.iloc[0]['author'], \": \", df.iloc[0]['body'])\n",
        "print(\"author \", df.iloc[1]['author'], \": \", df.iloc[1]['body'])\n",
        "print(\"author \", df.iloc[2]['author'], \": \", df.iloc[2]['body'])\n",
        "print(\"author \", df.iloc[3]['author'], \": \", df.iloc[3]['body'])\n",
        "pred = kmeans.predict(tfidfvect.transform(predicting))\n",
        "actual = [labels[0], labels[1], labels[2], labels[3]]\n",
        "\n",
        "print(\"\\nPredicted Labels by K-Means: \", pred)\n",
        "print(\"\\nActual Labels: \", actual)"
      ]
    },
    {
      "cell_type": "markdown",
      "source": [
        "K-Means is not trying to predict labels, just clustering, but it did not cluster the same labels that the annotators had."
      ],
      "metadata": {
        "id": "IIu1DwdVa5ma"
      }
    },
    {
      "cell_type": "code",
      "execution_count": 60,
      "metadata": {
        "id": "NIt2oH1iZFRj"
      },
      "outputs": [],
      "source": [
        "# First: for every document we get its corresponding cluster\n",
        "clusters = kmeans.predict(tfidf)"
      ]
    },
    {
      "cell_type": "code",
      "execution_count": 61,
      "metadata": {
        "colab": {
          "base_uri": "https://localhost:8080/",
          "height": 299
        },
        "id": "GsraS3fWTYK4",
        "outputId": "a7909767-2d74-49dc-962b-744cdc5afc7d"
      },
      "outputs": [
        {
          "output_type": "execute_result",
          "data": {
            "text/plain": [
              "<matplotlib.axes._subplots.AxesSubplot at 0x7f647ab31410>"
            ]
          },
          "metadata": {},
          "execution_count": 61
        },
        {
          "output_type": "display_data",
          "data": {
            "image/png": "[encoded data removed]",
            "text/plain": [
              "<Figure size 432x288 with 1 Axes>"
            ]
          },
          "metadata": {}
        }
      ],
      "source": [
        "preds = pd.DataFrame(clusters, columns=['cluster'])\n",
        "sns.countplot(x='cluster', data=preds)"
      ]
    },
    {
      "cell_type": "code",
      "source": [
        "# We train the PCA on the dense version of the tf-idf. \n",
        "pca = PCA(n_components=num)\n",
        "two_dim = pca.fit_transform(tfidf.todense())\n",
        "\n",
        "scatter_x = two_dim[:, 0] # first principle component\n",
        "scatter_y = two_dim[:, 1] # second principle component"
      ],
      "metadata": {
        "colab": {
          "base_uri": "https://localhost:8080/"
        },
        "id": "-icxVDICbYLP",
        "outputId": "aba9cf7c-bc33-4e6e-c6a0-b54c62ce646b"
      },
      "execution_count": 62,
      "outputs": [
        {
          "output_type": "stream",
          "name": "stderr",
          "text": [
            "/usr/local/lib/python3.7/dist-packages/sklearn/utils/validation.py:590: FutureWarning: np.matrix usage is deprecated in 1.0 and will raise a TypeError in 1.2. Please convert to a numpy array with np.asarray. For more information see: https://numpy.org/doc/stable/reference/generated/numpy.matrix.html\n",
            "  FutureWarning,\n"
          ]
        }
      ]
    },
    {
      "cell_type": "code",
      "execution_count": 63,
      "metadata": {
        "colab": {
          "base_uri": "https://localhost:8080/"
        },
        "id": "GCNCUGdCShrW",
        "outputId": "473d72e0-ffbd-4c4f-e531-79ab537af076"
      },
      "outputs": [
        {
          "output_type": "stream",
          "name": "stdout",
          "text": [
            "[0.02491846 0.01782392 0.01667662 0.01607738 0.01416758 0.01376401]\n"
          ]
        }
      ],
      "source": [
        "print(pca.explained_variance_)"
      ]
    },
    {
      "cell_type": "code",
      "execution_count": 64,
      "metadata": {
        "colab": {
          "base_uri": "https://localhost:8080/",
          "height": 282
        },
        "id": "ytaojx5KSnaV",
        "outputId": "b8049a05-2645-4a76-df02-8f8f0d7d1831"
      },
      "outputs": [
        {
          "output_type": "display_data",
          "data": {
            "image/png": "[encoded data removed]",
            "text/plain": [
              "<Figure size 432x288 with 1 Axes>"
            ]
          },
          "metadata": {}
        }
      ],
      "source": [
        "# plot the cumulative explained variance\n",
        "plt.plot(np.cumsum(pca.explained_variance_ratio_))\n",
        "plt.xlabel('number of components')\n",
        "plt.ylabel('cumulative explained variance');\n",
        "plt.show()"
      ]
    },
    {
      "cell_type": "code",
      "execution_count": 65,
      "metadata": {
        "colab": {
          "base_uri": "https://localhost:8080/",
          "height": 286
        },
        "id": "CF32wTCfSr2l",
        "outputId": "a3a0d550-2e3c-4846-a0d0-5b01321b07e7"
      },
      "outputs": [
        {
          "output_type": "display_data",
          "data": {
            "image/png": "[encoded data removed]",
            "text/plain": [
              "<Figure size 432x288 with 1 Axes>"
            ]
          },
          "metadata": {}
        }
      ],
      "source": [
        "# Plot the explained variances\n",
        "features = range(num)\n",
        "plt.bar(features, pca.explained_variance_ratio_, color='black')\n",
        "plt.xlabel('PCA features')\n",
        "plt.ylabel('variance %')\n",
        "plt.xticks(features)\n",
        "plt.show()"
      ]
    },
    {
      "cell_type": "code",
      "execution_count": 66,
      "metadata": {
        "colab": {
          "base_uri": "https://localhost:8080/",
          "height": 282
        },
        "id": "PRG5l267SurY",
        "outputId": "e91c079a-1eb6-42db-a54c-e5ac54e3380f"
      },
      "outputs": [
        {
          "output_type": "display_data",
          "data": {
            "image/png": "[encoded data removed]",
            "text/plain": [
              "<Figure size 432x288 with 1 Axes>"
            ]
          },
          "metadata": {}
        }
      ],
      "source": [
        "#Visualize the first two components\n",
        "PCA_components = pd.DataFrame(two_dim)\n",
        "plt.scatter(PCA_components[0], PCA_components[1], alpha=.1, color='black')\n",
        "plt.xlabel('PCA 1')\n",
        "plt.ylabel('PCA 2')\n",
        "plt.show()"
      ]
    },
    {
      "cell_type": "code",
      "execution_count": 67,
      "metadata": {
        "colab": {
          "base_uri": "https://localhost:8080/",
          "height": 282
        },
        "id": "vKgMuJclSyYJ",
        "outputId": "07bd4b48-ed01-4cdf-8b2a-8ced5a86d239"
      },
      "outputs": [
        {
          "output_type": "display_data",
          "data": {
            "image/png": "[encoded data removed]",
            "text/plain": [
              "<Figure size 432x288 with 1 Axes>"
            ]
          },
          "metadata": {}
        }
      ],
      "source": [
        "#Visualize the 3rd and 4th components\n",
        "#this seems to have some sort of 2 dense areas\n",
        "PCA_components = pd.DataFrame(two_dim)\n",
        "plt.scatter(PCA_components[2], PCA_components[3], alpha=.1, color='black')\n",
        "plt.xlabel('PCA 3')\n",
        "plt.ylabel('PCA 4')\n",
        "plt.show()"
      ]
    },
    {
      "cell_type": "code",
      "execution_count": 68,
      "metadata": {
        "colab": {
          "base_uri": "https://localhost:8080/",
          "height": 500
        },
        "id": "g-QyuUejzflM",
        "outputId": "d3356ff3-0fa3-481f-9cef-ba812cc41eab"
      },
      "outputs": [
        {
          "output_type": "display_data",
          "data": {
            "image/png": "[encoded data removed]",
            "text/plain": [
              "<Figure size 1152x576 with 1 Axes>"
            ]
          },
          "metadata": {}
        }
      ],
      "source": [
        "distortions = []\n",
        "for k in range(1,10):\n",
        "    model = KMeans(n_clusters=k)\n",
        "    model.fit(tfidf)\n",
        "    distortions.append(model.inertia_)\n",
        "\n",
        "plt.figure(figsize=(16,8))\n",
        "plt.plot(range(1,10), distortions, 'bx-')\n",
        "plt.ylabel('Distortion')\n",
        "plt.xlabel('k value')\n",
        "plt.show()"
      ]
    },
    {
      "cell_type": "code",
      "execution_count": 69,
      "metadata": {
        "colab": {
          "base_uri": "https://localhost:8080/",
          "height": 609
        },
        "id": "EHbKXdQrZiR1",
        "outputId": "1ed97cd3-4200-4382-e943-e1fb8018411c"
      },
      "outputs": [
        {
          "output_type": "display_data",
          "data": {
            "image/png": "[encoded data removed]",
            "text/plain": [
              "<Figure size 1440x720 with 1 Axes>"
            ]
          },
          "metadata": {}
        }
      ],
      "source": [
        "plt.style.use('ggplot')\n",
        "\n",
        "fig, ax = plt.subplots()\n",
        "fig.set_size_inches(20,10)\n",
        "\n",
        "# color map for NUMBER_OF_CLUSTERS we have\n",
        "cmap = {0: 'green', 1: 'blue', 2: 'red', 3: 'yellow', 4: \"pink\", 5:\"black\"}\n",
        "\n",
        "# group by clusters and scatter plot every cluster\n",
        "# with a colour and a label\n",
        "for group in np.unique(clusters):\n",
        "    ix = np.where(clusters == group)\n",
        "    ax.scatter(scatter_x[ix], scatter_y[ix], c=cmap[group], label=group)\n",
        "\n",
        "ax.legend()\n",
        "plt.xlabel(\"PCA 0\")\n",
        "plt.ylabel(\"PCA 1\")\n",
        "plt.show()"
      ]
    },
    {
      "cell_type": "code",
      "execution_count": 70,
      "metadata": {
        "colab": {
          "base_uri": "https://localhost:8080/",
          "height": 609
        },
        "id": "5Uc4cz0uTzWx",
        "outputId": "ef9c7bb8-c087-4c0a-de6d-349337e1f13d"
      },
      "outputs": [
        {
          "output_type": "display_data",
          "data": {
            "image/png": "[encoded data removed]",
            "text/plain": [
              "<Figure size 1440x720 with 1 Axes>"
            ]
          },
          "metadata": {}
        }
      ],
      "source": [
        "#plot without group 0\n",
        "plt.style.use('ggplot')\n",
        "\n",
        "fig, ax = plt.subplots()\n",
        "fig.set_size_inches(20,10)\n",
        "\n",
        "# color map for NUMBER_OF_CLUSTERS we have\n",
        "cmap = {0: 'green', 1: 'blue', 2: 'red', 3: 'yellow', 4: \"pink\", 5:\"black\"}\n",
        "\n",
        "# group by clusters and scatter plot every cluster\n",
        "# with a colour and a label\n",
        "for group in range(1,6):\n",
        "    ix = np.where(clusters == group)\n",
        "    ax.scatter(scatter_x[ix], scatter_y[ix], c=cmap[group], label=group)\n",
        "\n",
        "ax.legend()\n",
        "plt.xlabel(\"PCA 0\")\n",
        "plt.ylabel(\"PCA 1\")\n",
        "plt.show()"
      ]
    },
    {
      "cell_type": "code",
      "execution_count": 71,
      "metadata": {
        "colab": {
          "base_uri": "https://localhost:8080/",
          "height": 609
        },
        "id": "e7zPeuO_UASJ",
        "outputId": "ccf31022-e9f7-4a31-9c7a-9786e4c72af5"
      },
      "outputs": [
        {
          "output_type": "display_data",
          "data": {
            "image/png": "[encoded data removed]",
            "text/plain": [
              "<Figure size 1440x720 with 1 Axes>"
            ]
          },
          "metadata": {}
        }
      ],
      "source": [
        "# can see a more clear split between certain groups like \n",
        "plt.style.use('ggplot')\n",
        "\n",
        "fig, ax = plt.subplots()\n",
        "fig.set_size_inches(20,10)\n",
        "\n",
        "# color map for NUMBER_OF_CLUSTERS we have\n",
        "cmap = {0: 'green', 1: 'blue', 2: 'red', 3: 'yellow', 4: \"pink\", 5:\"black\"}\n",
        "\n",
        "# group by clusters and scatter plot every cluster\n",
        "# with a colour and a label\n",
        "for group in [3,4,5]:\n",
        "    ix = np.where(clusters == group)\n",
        "    ax.scatter(scatter_x[ix], scatter_y[ix], c=cmap[group], label=group)\n",
        "\n",
        "ax.legend()\n",
        "plt.xlabel(\"PCA 0\")\n",
        "plt.ylabel(\"PCA 1\")\n",
        "plt.show()"
      ]
    },
    {
      "cell_type": "markdown",
      "source": [
        "### Modeling"
      ],
      "metadata": {
        "id": "DDtKsWzjdn2c"
      }
    },
    {
      "cell_type": "markdown",
      "source": [
        "We are going to begin with a Bag-of-Words approach to predict motivation labels for each post. We will investigate Naive Bayes and Logistic Regression as models. Then we will train a sequential model."
      ],
      "metadata": {
        "id": "-AElt4r8d-RE"
      }
    },
    {
      "cell_type": "code",
      "execution_count": 72,
      "metadata": {
        "colab": {
          "base_uri": "https://localhost:8080/"
        },
        "id": "vD_w11fKlbY1",
        "outputId": "cc862e3f-0059-41a0-842c-df4e3b4b2a14"
      },
      "outputs": [
        {
          "output_type": "stream",
          "name": "stdout",
          "text": [
            "(222, 535)\n",
            "(222,)\n"
          ]
        }
      ],
      "source": [
        "print(tfidf.shape)\n",
        "print(labels.shape)"
      ]
    },
    {
      "cell_type": "code",
      "execution_count": 73,
      "metadata": {
        "id": "DN4MiXRYh_jK"
      },
      "outputs": [],
      "source": [
        "from sklearn.model_selection import train_test_split\n",
        "\n",
        "from sklearn.naive_bayes import MultinomialNB\n",
        "from sklearn.linear_model import LogisticRegression\n",
        "\n",
        "from sklearn.metrics import classification_report, f1_score, accuracy_score, confusion_matrix\n",
        "# from sklearn.metrics import roc_curve, auc, roc_auc_score"
      ]
    },
    {
      "cell_type": "markdown",
      "source": [
        "#### Naive Bayes"
      ],
      "metadata": {
        "id": "Z6wgzv4hjjwF"
      }
    },
    {
      "cell_type": "code",
      "source": [
        "X_train, X_test, y_train, y_test = train_test_split(tfidf, labels, test_size=0.2, shuffle=True)"
      ],
      "metadata": {
        "id": "afgOkB8tf0mf"
      },
      "execution_count": 74,
      "outputs": []
    },
    {
      "cell_type": "code",
      "execution_count": 75,
      "metadata": {
        "colab": {
          "base_uri": "https://localhost:8080/",
          "height": 647
        },
        "id": "ku_PSUDPzM-B",
        "outputId": "f7abb552-bd0e-4ae0-afa3-d3dfbba8b8c3"
      },
      "outputs": [
        {
          "output_type": "stream",
          "name": "stdout",
          "text": [
            "              precision    recall  f1-score   support\n",
            "\n",
            "           0       0.00      0.00      0.00         5\n",
            "           1       0.25      0.36      0.30        11\n",
            "           2       0.50      0.27      0.35        11\n",
            "           3       0.00      0.00      0.00         8\n",
            "           4       0.20      0.40      0.27        10\n",
            "\n",
            "    accuracy                           0.24        45\n",
            "   macro avg       0.19      0.21      0.18        45\n",
            "weighted avg       0.23      0.24      0.22        45\n",
            "\n",
            "Confusion Matrix:\n",
            " [[0 2 1 0 2]\n",
            " [0 4 0 0 7]\n",
            " [0 4 3 1 3]\n",
            " [1 3 0 0 4]\n",
            " [1 3 2 0 4]]\n"
          ]
        },
        {
          "output_type": "stream",
          "name": "stderr",
          "text": [
            "/usr/local/lib/python3.7/dist-packages/sklearn/naive_bayes.py:557: UserWarning: alpha too small will result in numeric errors, setting alpha = 1.0e-10\n",
            "  % _ALPHA_MIN\n"
          ]
        },
        {
          "output_type": "execute_result",
          "data": {
            "text/plain": [
              "Text(91.68, 0.5, 'true label')"
            ]
          },
          "metadata": {},
          "execution_count": 75
        },
        {
          "output_type": "display_data",
          "data": {
            "image/png": "[encoded data removed]",
            "text/plain": [
              "<Figure size 432x288 with 1 Axes>"
            ]
          },
          "metadata": {}
        }
      ],
      "source": [
        "#Naive Bayes: Baseline Model with no smoothing\n",
        "\n",
        "nb_tfidf = MultinomialNB(alpha = 0)\n",
        "nb_tfidf.fit(X_train, y_train)\n",
        "y_predict = nb_tfidf.predict(X_test)\n",
        "y_prob = nb_tfidf.predict_proba(X_test)[:,1]\n",
        "\n",
        "print(classification_report(y_test,y_predict))\n",
        "mat = confusion_matrix(y_test, y_predict)\n",
        "print('Confusion Matrix:\\n', mat)\n",
        "\n",
        "sns.heatmap(mat, square=True, annot=True, fmt='d', cbar=False)\n",
        "plt.xlabel('predicted label')\n",
        "plt.ylabel('true label')"
      ]
    },
    {
      "cell_type": "code",
      "execution_count": 76,
      "metadata": {
        "colab": {
          "base_uri": "https://localhost:8080/",
          "height": 736
        },
        "id": "Kli-X7fph1wH",
        "outputId": "ab6244e7-cef7-4e79-e1a0-101126966205"
      },
      "outputs": [
        {
          "output_type": "stream",
          "name": "stdout",
          "text": [
            "              precision    recall  f1-score   support\n",
            "\n",
            "           0       0.00      0.00      0.00         5\n",
            "           1       0.21      0.36      0.27        11\n",
            "           2       1.00      0.18      0.31        11\n",
            "           3       0.00      0.00      0.00         8\n",
            "           4       0.21      0.50      0.29        10\n",
            "\n",
            "    accuracy                           0.24        45\n",
            "   macro avg       0.28      0.21      0.17        45\n",
            "weighted avg       0.34      0.24      0.21        45\n",
            "\n",
            "Confusion Matrix:\n",
            " [[0 3 0 0 2]\n",
            " [0 4 0 0 7]\n",
            " [0 5 2 0 4]\n",
            " [0 2 0 0 6]\n",
            " [0 5 0 0 5]]\n"
          ]
        },
        {
          "output_type": "stream",
          "name": "stderr",
          "text": [
            "/usr/local/lib/python3.7/dist-packages/sklearn/metrics/_classification.py:1308: UndefinedMetricWarning: Precision and F-score are ill-defined and being set to 0.0 in labels with no predicted samples. Use `zero_division` parameter to control this behavior.\n",
            "  _warn_prf(average, modifier, msg_start, len(result))\n",
            "/usr/local/lib/python3.7/dist-packages/sklearn/metrics/_classification.py:1308: UndefinedMetricWarning: Precision and F-score are ill-defined and being set to 0.0 in labels with no predicted samples. Use `zero_division` parameter to control this behavior.\n",
            "  _warn_prf(average, modifier, msg_start, len(result))\n",
            "/usr/local/lib/python3.7/dist-packages/sklearn/metrics/_classification.py:1308: UndefinedMetricWarning: Precision and F-score are ill-defined and being set to 0.0 in labels with no predicted samples. Use `zero_division` parameter to control this behavior.\n",
            "  _warn_prf(average, modifier, msg_start, len(result))\n"
          ]
        },
        {
          "output_type": "execute_result",
          "data": {
            "text/plain": [
              "Text(91.68, 0.5, 'true label')"
            ]
          },
          "metadata": {},
          "execution_count": 76
        },
        {
          "output_type": "display_data",
          "data": {
            "image/png": "[encoded data removed]",
            "text/plain": [
              "<Figure size 432x288 with 1 Axes>"
            ]
          },
          "metadata": {}
        }
      ],
      "source": [
        "#hyperparameter tuning\n",
        "#Naive Bayes: with add-1 smoothing\n",
        "\n",
        "nb_tfidf = MultinomialNB()\n",
        "nb_tfidf.fit(X_train, y_train)\n",
        "y_predict = nb_tfidf.predict(X_test)\n",
        "y_prob = nb_tfidf.predict_proba(X_test)[:,1]\n",
        "print(classification_report(y_test,y_predict))\n",
        "mat = confusion_matrix(y_test, y_predict)\n",
        "print('Confusion Matrix:\\n', mat)\n",
        "\n",
        "sns.heatmap(mat, square=True, annot=True, fmt='d', cbar=False)\n",
        "plt.xlabel('predicted label')\n",
        "plt.ylabel('true label')"
      ]
    },
    {
      "cell_type": "code",
      "source": [
        "#Naive Bayes: with add-1 smoothing\n",
        "#try a 70-30 train-test split\n",
        "X_train, X_test, y_train, y_test = train_test_split(tfidf, labels, test_size=0.3, shuffle=True)\n",
        "\n",
        "nb_tfidf = MultinomialNB()\n",
        "nb_tfidf.fit(X_train, y_train)\n",
        "y_predict = nb_tfidf.predict(X_test)\n",
        "y_prob = nb_tfidf.predict_proba(X_test)[:,1]\n",
        "print(classification_report(y_test,y_predict))\n",
        "mat = confusion_matrix(y_test, y_predict)\n",
        "print('Confusion Matrix:\\n', mat)\n",
        "\n",
        "sns.heatmap(mat, square=True, annot=True, fmt='d', cbar=False)\n",
        "plt.xlabel('predicted label')\n",
        "plt.ylabel('true label')"
      ],
      "metadata": {
        "colab": {
          "base_uri": "https://localhost:8080/",
          "height": 771
        },
        "id": "OY8L0GlRgs0z",
        "outputId": "69053b56-07c8-4070-b73e-a2377657f3b6"
      },
      "execution_count": 77,
      "outputs": [
        {
          "output_type": "stream",
          "name": "stdout",
          "text": [
            "              precision    recall  f1-score   support\n",
            "\n",
            "           0       0.00      0.00      0.00         9\n",
            "           1       0.29      0.87      0.43        15\n",
            "           2       0.50      0.33      0.40        12\n",
            "           3       0.00      0.00      0.00        10\n",
            "           4       0.43      0.38      0.40        16\n",
            "           5       0.00      0.00      0.00         5\n",
            "\n",
            "    accuracy                           0.34        67\n",
            "   macro avg       0.20      0.26      0.21        67\n",
            "weighted avg       0.26      0.34      0.26        67\n",
            "\n",
            "Confusion Matrix:\n",
            " [[ 0  7  2  0  0  0]\n",
            " [ 0 13  0  0  2  0]\n",
            " [ 0  7  4  0  1  0]\n",
            " [ 0  6  1  0  3  0]\n",
            " [ 0  9  1  0  6  0]\n",
            " [ 0  3  0  0  2  0]]\n"
          ]
        },
        {
          "output_type": "stream",
          "name": "stderr",
          "text": [
            "/usr/local/lib/python3.7/dist-packages/sklearn/metrics/_classification.py:1308: UndefinedMetricWarning: Precision and F-score are ill-defined and being set to 0.0 in labels with no predicted samples. Use `zero_division` parameter to control this behavior.\n",
            "  _warn_prf(average, modifier, msg_start, len(result))\n",
            "/usr/local/lib/python3.7/dist-packages/sklearn/metrics/_classification.py:1308: UndefinedMetricWarning: Precision and F-score are ill-defined and being set to 0.0 in labels with no predicted samples. Use `zero_division` parameter to control this behavior.\n",
            "  _warn_prf(average, modifier, msg_start, len(result))\n",
            "/usr/local/lib/python3.7/dist-packages/sklearn/metrics/_classification.py:1308: UndefinedMetricWarning: Precision and F-score are ill-defined and being set to 0.0 in labels with no predicted samples. Use `zero_division` parameter to control this behavior.\n",
            "  _warn_prf(average, modifier, msg_start, len(result))\n"
          ]
        },
        {
          "output_type": "execute_result",
          "data": {
            "text/plain": [
              "Text(91.68, 0.5, 'true label')"
            ]
          },
          "metadata": {},
          "execution_count": 77
        },
        {
          "output_type": "display_data",
          "data": {
            "image/png": "[encoded data removed]",
            "text/plain": [
              "<Figure size 432x288 with 1 Axes>"
            ]
          },
          "metadata": {}
        }
      ]
    },
    {
      "cell_type": "markdown",
      "source": [
        "#### Logistic Regression"
      ],
      "metadata": {
        "id": "Dru1s9Sfjom3"
      }
    },
    {
      "cell_type": "code",
      "source": [
        "X_train, X_test, y_train, y_test = train_test_split(tfidf, labels, test_size=0.2, shuffle=True)"
      ],
      "metadata": {
        "id": "w1DLWBnBjs3c"
      },
      "execution_count": 78,
      "outputs": []
    },
    {
      "cell_type": "code",
      "execution_count": 79,
      "metadata": {
        "colab": {
          "base_uri": "https://localhost:8080/",
          "height": 771
        },
        "id": "t1skmG-hBME4",
        "outputId": "5dc94a94-dd27-4f88-9b8c-c70f02ea89ca"
      },
      "outputs": [
        {
          "output_type": "stream",
          "name": "stdout",
          "text": [
            "              precision    recall  f1-score   support\n",
            "\n",
            "           0       0.00      0.00      0.00         4\n",
            "           1       0.50      0.58      0.54        12\n",
            "           2       0.33      0.20      0.25        10\n",
            "           3       0.50      0.12      0.20         8\n",
            "           4       0.30      0.78      0.44         9\n",
            "           5       0.00      0.00      0.00         2\n",
            "\n",
            "    accuracy                           0.38        45\n",
            "   macro avg       0.27      0.28      0.24        45\n",
            "weighted avg       0.36      0.38      0.32        45\n",
            "\n",
            "Confusion Matrix:\n",
            " [[0 1 0 0 3 0]\n",
            " [0 7 1 0 4 0]\n",
            " [0 2 2 1 5 0]\n",
            " [0 3 1 1 3 0]\n",
            " [0 1 1 0 7 0]\n",
            " [0 0 1 0 1 0]]\n"
          ]
        },
        {
          "output_type": "stream",
          "name": "stderr",
          "text": [
            "/usr/local/lib/python3.7/dist-packages/sklearn/metrics/_classification.py:1308: UndefinedMetricWarning: Precision and F-score are ill-defined and being set to 0.0 in labels with no predicted samples. Use `zero_division` parameter to control this behavior.\n",
            "  _warn_prf(average, modifier, msg_start, len(result))\n",
            "/usr/local/lib/python3.7/dist-packages/sklearn/metrics/_classification.py:1308: UndefinedMetricWarning: Precision and F-score are ill-defined and being set to 0.0 in labels with no predicted samples. Use `zero_division` parameter to control this behavior.\n",
            "  _warn_prf(average, modifier, msg_start, len(result))\n",
            "/usr/local/lib/python3.7/dist-packages/sklearn/metrics/_classification.py:1308: UndefinedMetricWarning: Precision and F-score are ill-defined and being set to 0.0 in labels with no predicted samples. Use `zero_division` parameter to control this behavior.\n",
            "  _warn_prf(average, modifier, msg_start, len(result))\n"
          ]
        },
        {
          "output_type": "execute_result",
          "data": {
            "text/plain": [
              "Text(91.68, 0.5, 'true label')"
            ]
          },
          "metadata": {},
          "execution_count": 79
        },
        {
          "output_type": "display_data",
          "data": {
            "image/png": "[encoded data removed]",
            "text/plain": [
              "<Figure size 432x288 with 1 Axes>"
            ]
          },
          "metadata": {}
        }
      ],
      "source": [
        "lg_tfidf = LogisticRegression()\n",
        "lg_tfidf.fit(X_train, y_train)\n",
        "y_predict = lg_tfidf.predict(X_test)\n",
        "y_prob = lg_tfidf.predict_proba(X_test)[:,1]\n",
        "print(classification_report(y_test,y_predict))\n",
        "mat = confusion_matrix(y_test, y_predict)\n",
        "print('Confusion Matrix:\\n', mat)\n",
        "\n",
        "sns.heatmap(mat, square=True, annot=True, fmt='d', cbar=False)\n",
        "plt.xlabel('predicted label')\n",
        "plt.ylabel('true label')"
      ]
    },
    {
      "cell_type": "code",
      "source": [
        "lg2_tfidf = LogisticRegression(solver = 'liblinear', random_state = 20, penalty = 'l2')\n",
        "\n",
        "lg2_tfidf.fit(X_train, y_train)\n",
        "y_predict2 = lg2_tfidf.predict(X_test)\n",
        "y_prob2 = lg2_tfidf.predict_proba(X_test)[:,1]\n",
        "print(classification_report(y_test,y_predict2))\n",
        "mat = confusion_matrix(y_test, y_predict2)\n",
        "print('Confusion Matrix:\\n', mat)\n",
        "\n",
        "sns.heatmap(mat, square=True, annot=True, fmt='d', cbar=False)\n",
        "plt.xlabel('predicted label')\n",
        "plt.ylabel('true label')"
      ],
      "metadata": {
        "colab": {
          "base_uri": "https://localhost:8080/",
          "height": 771
        },
        "id": "WQEGHzz0g0V6",
        "outputId": "aacf1fba-bcc2-44e3-cb64-99f06ef5d39d"
      },
      "execution_count": 80,
      "outputs": [
        {
          "output_type": "stream",
          "name": "stdout",
          "text": [
            "              precision    recall  f1-score   support\n",
            "\n",
            "           0       0.00      0.00      0.00         4\n",
            "           1       0.54      0.58      0.56        12\n",
            "           2       0.40      0.20      0.27        10\n",
            "           3       0.50      0.12      0.20         8\n",
            "           4       0.32      0.89      0.47         9\n",
            "           5       0.00      0.00      0.00         2\n",
            "\n",
            "    accuracy                           0.40        45\n",
            "   macro avg       0.29      0.30      0.25        45\n",
            "weighted avg       0.39      0.40      0.34        45\n",
            "\n",
            "Confusion Matrix:\n",
            " [[0 1 0 0 3 0]\n",
            " [0 7 1 0 4 0]\n",
            " [0 2 2 1 5 0]\n",
            " [0 2 1 1 4 0]\n",
            " [0 1 0 0 8 0]\n",
            " [0 0 1 0 1 0]]\n"
          ]
        },
        {
          "output_type": "stream",
          "name": "stderr",
          "text": [
            "/usr/local/lib/python3.7/dist-packages/sklearn/metrics/_classification.py:1308: UndefinedMetricWarning: Precision and F-score are ill-defined and being set to 0.0 in labels with no predicted samples. Use `zero_division` parameter to control this behavior.\n",
            "  _warn_prf(average, modifier, msg_start, len(result))\n",
            "/usr/local/lib/python3.7/dist-packages/sklearn/metrics/_classification.py:1308: UndefinedMetricWarning: Precision and F-score are ill-defined and being set to 0.0 in labels with no predicted samples. Use `zero_division` parameter to control this behavior.\n",
            "  _warn_prf(average, modifier, msg_start, len(result))\n",
            "/usr/local/lib/python3.7/dist-packages/sklearn/metrics/_classification.py:1308: UndefinedMetricWarning: Precision and F-score are ill-defined and being set to 0.0 in labels with no predicted samples. Use `zero_division` parameter to control this behavior.\n",
            "  _warn_prf(average, modifier, msg_start, len(result))\n"
          ]
        },
        {
          "output_type": "execute_result",
          "data": {
            "text/plain": [
              "Text(91.68, 0.5, 'true label')"
            ]
          },
          "metadata": {},
          "execution_count": 80
        },
        {
          "output_type": "display_data",
          "data": {
            "image/png": "[encoded data removed]",
            "text/plain": [
              "<Figure size 432x288 with 1 Axes>"
            ]
          },
          "metadata": {}
        }
      ]
    },
    {
      "cell_type": "markdown",
      "metadata": {
        "id": "AO3sHuitHJWh"
      },
      "source": [
        "#### LSTM"
      ]
    },
    {
      "cell_type": "code",
      "execution_count": 81,
      "metadata": {
        "id": "JUzRrB6bLgBH"
      },
      "outputs": [],
      "source": [
        "# hyperparameters\n",
        "vocab_size = 5000\n",
        "embedding_dim = 64\n",
        "max_length = 200\n",
        "trunc_type = 'post'\n",
        "padding_type = 'post'\n",
        "oov_tok = '<OOV>'\n",
        "training_portion = .8"
      ]
    },
    {
      "cell_type": "code",
      "execution_count": 82,
      "metadata": {
        "colab": {
          "base_uri": "https://localhost:8080/"
        },
        "id": "4tlsyQRLLgBK",
        "outputId": "e5412327-582e-47f4-8f34-5e228dcdfd8a"
      },
      "outputs": [
        {
          "output_type": "stream",
          "name": "stdout",
          "text": [
            "222\n",
            "222\n"
          ]
        }
      ],
      "source": [
        "labels = labels.astype(int)\n",
        "docs = []\n",
        "for doc in df['body']:\n",
        "  for word in STOPWORDS:\n",
        "    token = ' ' + word + ' '\n",
        "    doc = doc.replace(token, ' ')\n",
        "    doc = doc.replace(' ', ' ')\n",
        "  docs.append(doc)\n",
        "print(len(labels))\n",
        "print(len(docs))"
      ]
    },
    {
      "cell_type": "code",
      "execution_count": 83,
      "metadata": {
        "colab": {
          "base_uri": "https://localhost:8080/"
        },
        "id": "XZPIWjGrLgBZ",
        "outputId": "9aad8432-0cb5-4f40-8e5d-05dd962eadfb"
      },
      "outputs": [
        {
          "output_type": "stream",
          "name": "stdout",
          "text": [
            "{0, 1, 2, 3, 4, 5}\n"
          ]
        }
      ],
      "source": [
        "print(set(labels))"
      ]
    },
    {
      "cell_type": "code",
      "execution_count": 86,
      "metadata": {
        "colab": {
          "base_uri": "https://localhost:8080/"
        },
        "id": "wBF3KPX5LgBO",
        "outputId": "9cbb23a6-588d-4a01-b838-b888fd33d6c9"
      },
      "outputs": [
        {
          "output_type": "execute_result",
          "data": {
            "text/plain": [
              "{'<OOV>': 1,\n",
              " 'also': 15,\n",
              " 'english': 6,\n",
              " 'even': 19,\n",
              " 'i': 5,\n",
              " 'know': 14,\n",
              " 'language': 4,\n",
              " 'learn': 7,\n",
              " 'like': 3,\n",
              " 'one': 11,\n",
              " 'people': 10,\n",
              " 'really': 17,\n",
              " 'school': 20,\n",
              " 'spanish': 2,\n",
              " 'speak': 13,\n",
              " 'speaking': 8,\n",
              " 'time': 16,\n",
              " 'use': 12,\n",
              " 'would': 9,\n",
              " 'years': 18}"
            ]
          },
          "metadata": {},
          "execution_count": 86
        }
      ],
      "source": [
        "tokenizer = Tokenizer(num_words = vocab_size, oov_token=oov_tok)\n",
        "tokenizer.fit_on_texts(docs)\n",
        "word_index = tokenizer.word_index\n",
        "dict(list(word_index.items())[0:20])"
      ]
    },
    {
      "cell_type": "code",
      "execution_count": 87,
      "metadata": {
        "id": "JPjP6ib_LgBQ"
      },
      "outputs": [],
      "source": [
        "sequences = tokenizer.texts_to_sequences(docs)\n",
        "padded = pad_sequences(sequences, maxlen=max_length, padding=padding_type, truncating=trunc_type)"
      ]
    },
    {
      "cell_type": "code",
      "execution_count": 88,
      "metadata": {
        "id": "LYFRDkkzLgBU"
      },
      "outputs": [],
      "source": [
        "label_seq = np.array(labels)"
      ]
    },
    {
      "cell_type": "markdown",
      "source": [
        "Creating the model with an embedding layer, a bidirectional layer, a droupout layer to avoid overfitting, and a softmax layer."
      ],
      "metadata": {
        "id": "Al_FzaC7lXM8"
      }
    },
    {
      "cell_type": "code",
      "source": [
        "model = Sequential()\n",
        "model.add(Embedding(vocab_size, embedding_dim))\n",
        "model.add(Bidirectional(LSTM(embedding_dim)))\n",
        "model.add(Dropout(0.2))\n",
        "model.add(Dense(6, activation='softmax'))\n",
        "model.summary()"
      ],
      "metadata": {
        "colab": {
          "base_uri": "https://localhost:8080/"
        },
        "id": "l1KsMuA2lWlM",
        "outputId": "2a9e136d-d2d9-432f-e81f-c4f6b2c44053"
      },
      "execution_count": 89,
      "outputs": [
        {
          "output_type": "stream",
          "name": "stdout",
          "text": [
            "Model: \"sequential_1\"\n",
            "_________________________________________________________________\n",
            " Layer (type)                Output Shape              Param #   \n",
            "=================================================================\n",
            " embedding_1 (Embedding)     (None, None, 64)          320000    \n",
            "                                                                 \n",
            " bidirectional_1 (Bidirectio  (None, 128)              66048     \n",
            " nal)                                                            \n",
            "                                                                 \n",
            " dropout_1 (Dropout)         (None, 128)               0         \n",
            "                                                                 \n",
            " dense_1 (Dense)             (None, 6)                 774       \n",
            "                                                                 \n",
            "=================================================================\n",
            "Total params: 386,822\n",
            "Trainable params: 386,822\n",
            "Non-trainable params: 0\n",
            "_________________________________________________________________\n"
          ]
        }
      ]
    },
    {
      "cell_type": "markdown",
      "metadata": {
        "id": "Weq1pr0MLgBa"
      },
      "source": [
        "We didn't do one-hot encoding, so used categorical crossentropy for loss. Important to note that these labels are not ordered and do not have any numeric relationship."
      ]
    },
    {
      "cell_type": "code",
      "execution_count": 90,
      "metadata": {
        "colab": {
          "base_uri": "https://localhost:8080/"
        },
        "id": "ow_TJTL0LgBb",
        "outputId": "1a5711dc-9190-4a53-ae06-9c7b6802fa2b"
      },
      "outputs": [
        {
          "output_type": "stream",
          "name": "stdout",
          "text": [
            "Epoch 1/10\n",
            "6/6 [==============================] - 6s 391ms/step - loss: 1.7780 - accuracy: 0.2542 - val_loss: 1.7650 - val_accuracy: 0.1111\n",
            "Epoch 2/10\n",
            "6/6 [==============================] - 1s 220ms/step - loss: 1.7251 - accuracy: 0.2825 - val_loss: 1.7323 - val_accuracy: 0.1111\n",
            "Epoch 3/10\n",
            "6/6 [==============================] - 1s 210ms/step - loss: 1.6801 - accuracy: 0.2825 - val_loss: 1.7130 - val_accuracy: 0.1111\n",
            "Epoch 4/10\n",
            "6/6 [==============================] - 1s 216ms/step - loss: 1.6606 - accuracy: 0.2938 - val_loss: 1.6940 - val_accuracy: 0.1111\n",
            "Epoch 5/10\n",
            "6/6 [==============================] - 1s 213ms/step - loss: 1.6260 - accuracy: 0.2712 - val_loss: 1.6946 - val_accuracy: 0.1111\n",
            "Epoch 6/10\n",
            "6/6 [==============================] - 1s 214ms/step - loss: 1.5648 - accuracy: 0.3898 - val_loss: 1.7088 - val_accuracy: 0.3333\n",
            "Epoch 7/10\n",
            "6/6 [==============================] - 1s 211ms/step - loss: 1.5207 - accuracy: 0.4068 - val_loss: 1.6872 - val_accuracy: 0.1333\n",
            "Epoch 8/10\n",
            "6/6 [==============================] - 1s 208ms/step - loss: 1.4295 - accuracy: 0.5593 - val_loss: 1.6174 - val_accuracy: 0.2889\n",
            "Epoch 9/10\n",
            "6/6 [==============================] - 1s 211ms/step - loss: 1.2592 - accuracy: 0.5367 - val_loss: 1.6014 - val_accuracy: 0.2889\n",
            "Epoch 10/10\n",
            "6/6 [==============================] - 1s 219ms/step - loss: 1.1715 - accuracy: 0.6215 - val_loss: 1.6540 - val_accuracy: 0.2667\n"
          ]
        }
      ],
      "source": [
        "model.compile(loss='sparse_categorical_crossentropy', optimizer='adam', metrics=['accuracy'])\n",
        "history = model.fit(padded, label_seq, epochs=10, validation_split=0.2)"
      ]
    },
    {
      "cell_type": "code",
      "execution_count": 91,
      "metadata": {
        "colab": {
          "base_uri": "https://localhost:8080/",
          "height": 549
        },
        "id": "fFtVFDt3LgBc",
        "outputId": "17faf186-c9d6-4bad-d8b1-35403adbb0b4"
      },
      "outputs": [
        {
          "output_type": "display_data",
          "data": {
            "image/png": "[encoded data removed]",
            "text/plain": [
              "<Figure size 432x288 with 1 Axes>"
            ]
          },
          "metadata": {}
        },
        {
          "output_type": "display_data",
          "data": {
            "image/png": "[encoded data removed]",
            "text/plain": [
              "<Figure size 432x288 with 1 Axes>"
            ]
          },
          "metadata": {}
        }
      ],
      "source": [
        "def plot_graphs(history, string):\n",
        "  plt.plot(history.history[string])\n",
        "  plt.plot(history.history['val_'+string])\n",
        "  plt.xlabel(\"Epochs\")\n",
        "  plt.ylabel(string)\n",
        "  plt.legend([string, 'val_'+string])\n",
        "  plt.show()\n",
        "  \n",
        "plot_graphs(history, \"accuracy\")\n",
        "plot_graphs(history, \"loss\")"
      ]
    },
    {
      "cell_type": "markdown",
      "metadata": {
        "id": "TejQz0RfFYGw"
      },
      "source": [
        "### Time Sequential Analysis"
      ]
    },
    {
      "cell_type": "code",
      "execution_count": 92,
      "metadata": {
        "colab": {
          "base_uri": "https://localhost:8080/",
          "height": 424
        },
        "id": "1nCiinggoMZk",
        "outputId": "406a5233-1b99-4276-ed7c-32efcd3e1926"
      },
      "outputs": [
        {
          "output_type": "execute_result",
          "data": {
            "text/html": [
              "<div>\n",
              "<style scoped>\n",
              "    .dataframe tbody tr th:only-of-type {\n",
              "        vertical-align: middle;\n",
              "    }\n",
              "\n",
              "    .dataframe tbody tr th {\n",
              "        vertical-align: top;\n",
              "    }\n",
              "\n",
              "    .dataframe thead th {\n",
              "        text-align: right;\n",
              "    }\n",
              "</style>\n",
              "<table border=\"1\" class=\"dataframe\">\n",
              "  <thead>\n",
              "    <tr style=\"text-align: right;\">\n",
              "      <th></th>\n",
              "      <th>author</th>\n",
              "      <th>author_flair_text</th>\n",
              "      <th>body</th>\n",
              "      <th>created_utc</th>\n",
              "      <th>class</th>\n",
              "      <th>timestamp</th>\n",
              "      <th>month</th>\n",
              "    </tr>\n",
              "  </thead>\n",
              "  <tbody>\n",
              "    <tr>\n",
              "      <th>0</th>\n",
              "      <td>Pengliz</td>\n",
              "      <td>learner</td>\n",
              "      <td>oh see what you mean thanks for your help it w...</td>\n",
              "      <td>1554295463</td>\n",
              "      <td>4</td>\n",
              "      <td>2019-04-03 12:44:23+00:00</td>\n",
              "      <td>04</td>\n",
              "    </tr>\n",
              "    <tr>\n",
              "      <th>3</th>\n",
              "      <td>oldskoolgeometro</td>\n",
              "      <td>learner (a1)</td>\n",
              "      <td>yes of my non native speaking friends know mor...</td>\n",
              "      <td>1549291709</td>\n",
              "      <td>0</td>\n",
              "      <td>2019-02-04 14:48:29+00:00</td>\n",
              "      <td>02</td>\n",
              "    </tr>\n",
              "    <tr>\n",
              "      <th>7</th>\n",
              "      <td>oldskoolgeometro</td>\n",
              "      <td>learner (a1)</td>\n",
              "      <td>omg yes for me just when think have it realize...</td>\n",
              "      <td>1547050508</td>\n",
              "      <td>0</td>\n",
              "      <td>2019-01-09 16:15:08+00:00</td>\n",
              "      <td>01</td>\n",
              "    </tr>\n",
              "    <tr>\n",
              "      <th>12</th>\n",
              "      <td>oldskoolgeometro</td>\n",
              "      <td>beginner</td>\n",
              "      <td>this is what ve seen from my native spanish sp...</td>\n",
              "      <td>1546652030</td>\n",
              "      <td>1</td>\n",
              "      <td>2019-01-05 01:33:50+00:00</td>\n",
              "      <td>01</td>\n",
              "    </tr>\n",
              "    <tr>\n",
              "      <th>13</th>\n",
              "      <td>oldskoolgeometro</td>\n",
              "      <td>beginner</td>\n",
              "      <td>oddly enough took spanish online when was depl...</td>\n",
              "      <td>1546561267</td>\n",
              "      <td>3</td>\n",
              "      <td>2019-01-04 00:21:07+00:00</td>\n",
              "      <td>01</td>\n",
              "    </tr>\n",
              "    <tr>\n",
              "      <th>...</th>\n",
              "      <td>...</td>\n",
              "      <td>...</td>\n",
              "      <td>...</td>\n",
              "      <td>...</td>\n",
              "      <td>...</td>\n",
              "      <td>...</td>\n",
              "      <td>...</td>\n",
              "    </tr>\n",
              "    <tr>\n",
              "      <th>764</th>\n",
              "      <td>Woodcharles</td>\n",
              "      <td>learner</td>\n",
              "      <td>and think you re wrong they will be perfectly ...</td>\n",
              "      <td>1556182920</td>\n",
              "      <td>4</td>\n",
              "      <td>2019-04-25 09:02:00+00:00</td>\n",
              "      <td>04</td>\n",
              "    </tr>\n",
              "    <tr>\n",
              "      <th>779</th>\n",
              "      <td>maxwellhouseeyes</td>\n",
              "      <td>c1</td>\n",
              "      <td>yeah thought the same about your first point h...</td>\n",
              "      <td>1564045715</td>\n",
              "      <td>4</td>\n",
              "      <td>2019-07-25 09:08:35+00:00</td>\n",
              "      <td>07</td>\n",
              "    </tr>\n",
              "    <tr>\n",
              "      <th>784</th>\n",
              "      <td>Omphalie23</td>\n",
              "      <td>learner</td>\n",
              "      <td>this happened to me when started taking spanis...</td>\n",
              "      <td>1569087747</td>\n",
              "      <td>2</td>\n",
              "      <td>2019-09-21 17:42:27+00:00</td>\n",
              "      <td>09</td>\n",
              "    </tr>\n",
              "    <tr>\n",
              "      <th>785</th>\n",
              "      <td>Flashpath</td>\n",
              "      <td>learner</td>\n",
              "      <td>my ex was from colombia went there and made fe...</td>\n",
              "      <td>1557321403</td>\n",
              "      <td>1</td>\n",
              "      <td>2019-05-08 13:16:43+00:00</td>\n",
              "      <td>05</td>\n",
              "    </tr>\n",
              "    <tr>\n",
              "      <th>792</th>\n",
              "      <td>Stereoblind89</td>\n",
              "      <td>learner</td>\n",
              "      <td>my main group of friends and decided one day w...</td>\n",
              "      <td>1567108049</td>\n",
              "      <td>1</td>\n",
              "      <td>2019-08-29 19:47:29+00:00</td>\n",
              "      <td>08</td>\n",
              "    </tr>\n",
              "  </tbody>\n",
              "</table>\n",
              "<p>222 rows × 7 columns</p>\n",
              "</div>"
            ],
            "text/plain": [
              "               author author_flair_text  ...                 timestamp month\n",
              "0             Pengliz           learner  ... 2019-04-03 12:44:23+00:00    04\n",
              "3    oldskoolgeometro      learner (a1)  ... 2019-02-04 14:48:29+00:00    02\n",
              "7    oldskoolgeometro      learner (a1)  ... 2019-01-09 16:15:08+00:00    01\n",
              "12   oldskoolgeometro          beginner  ... 2019-01-05 01:33:50+00:00    01\n",
              "13   oldskoolgeometro          beginner  ... 2019-01-04 00:21:07+00:00    01\n",
              "..                ...               ...  ...                       ...   ...\n",
              "764       Woodcharles           learner  ... 2019-04-25 09:02:00+00:00    04\n",
              "779  maxwellhouseeyes                c1  ... 2019-07-25 09:08:35+00:00    07\n",
              "784        Omphalie23           learner  ... 2019-09-21 17:42:27+00:00    09\n",
              "785         Flashpath           learner  ... 2019-05-08 13:16:43+00:00    05\n",
              "792     Stereoblind89           learner  ... 2019-08-29 19:47:29+00:00    08\n",
              "\n",
              "[222 rows x 7 columns]"
            ]
          },
          "metadata": {},
          "execution_count": 92
        }
      ],
      "source": [
        "from datetime import datetime, timezone\n",
        "\n",
        "utcs = (df['created_utc'].astype(int))\n",
        "ts = []\n",
        "month = []\n",
        "for u in utcs:\n",
        "   t = datetime.fromtimestamp(u, tz=timezone.utc)\n",
        "   ts.append(t)\n",
        "   month.append(datetime.strftime(t, '%m'))\n",
        "\n",
        "df['timestamp'] = ts\n",
        "df['month'] = month\n",
        "df"
      ]
    },
    {
      "cell_type": "code",
      "execution_count": 93,
      "metadata": {
        "id": "kHT8xc-xC37r"
      },
      "outputs": [],
      "source": [
        "df.sort_values('month')\n",
        "df['month'] = df['month'].astype(int)"
      ]
    },
    {
      "cell_type": "code",
      "execution_count": 94,
      "metadata": {
        "colab": {
          "base_uri": "https://localhost:8080/",
          "height": 299
        },
        "id": "Onlow-Smu-hK",
        "outputId": "107fd644-7e85-40bf-885a-5da9c7e7df3e"
      },
      "outputs": [
        {
          "output_type": "execute_result",
          "data": {
            "text/plain": [
              "<matplotlib.axes._subplots.AxesSubplot at 0x7f648bd9d490>"
            ]
          },
          "metadata": {},
          "execution_count": 94
        },
        {
          "output_type": "display_data",
          "data": {
            "image/png": "[encoded data removed]",
            "text/plain": [
              "<Figure size 432x288 with 1 Axes>"
            ]
          },
          "metadata": {}
        }
      ],
      "source": [
        "sns.countplot(x='month', hue='class', data=df)"
      ]
    }
  ],
  "metadata": {
    "colab": {
      "collapsed_sections": [],
      "name": "LanguageLearning.ipynb",
      "provenance": [],
      "include_colab_link": true
    },
    "kernelspec": {
      "display_name": "Python 3",
      "name": "python3"
    },
    "language_info": {
      "name": "python"
    }
  },
  "nbformat": 4,
  "nbformat_minor": 0
}